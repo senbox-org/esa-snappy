{
 "cells": [
  {
   "cell_type": "code",
   "execution_count": 1,
   "metadata": {},
   "outputs": [],
   "source": [
    "import esa_snappy.snapista\n",
    "\n",
    "from snapista import Graph\n",
    "from snapista import Operator\n",
    "from snapista import TargetBand\n",
    "from snapista import TargetBandDescriptors"
   ]
  },
  {
   "cell_type": "code",
   "execution_count": 2,
   "metadata": {},
   "outputs": [],
   "source": [
    "r = Operator(\"Read\", file='/data/S2B_MSIL2A_20210608T112119_N0300_R037_T29SMC_20210608T131325.SAFE/MTD_MSIL2A.xml')"
   ]
  },
  {
   "cell_type": "code",
   "execution_count": 3,
   "metadata": {},
   "outputs": [
    {
     "data": {
      "text/plain": [
       "Operator('Read', file='/data/S2B_MSIL2A_20210608T112119_N0300_R037_T29SMC_20210608T131325.SAFE/MTD_MSIL2A.xml', formatName='None', bandNames='None', maskNames='None', pixelRegion='None', geometryRegion='None', useAdvancedOptions='false', copyMetadata='true')"
      ]
     },
     "execution_count": 3,
     "metadata": {},
     "output_type": "execute_result"
    }
   ],
   "source": [
    "r"
   ]
  },
  {
   "cell_type": "code",
   "execution_count": null,
   "metadata": {},
   "outputs": [],
   "source": []
  },
  {
   "cell_type": "markdown",
   "metadata": {},
   "source": [
    "## Operator"
   ]
  },
  {
   "cell_type": "markdown",
   "metadata": {},
   "source": [
    "Instantiate a SNAP operator by providing its name:"
   ]
  },
  {
   "cell_type": "code",
   "execution_count": 4,
   "metadata": {},
   "outputs": [
    {
     "data": {
      "text/plain": [
       "Operator('Calibration', sourceBandNames='None', auxFile='Latest Auxiliary File', externalAuxFile='None', outputImageInComplex='false', outputImageScaleInDb='false', createGammaBand='false', createBetaBand='false', selectedPolarisations='None', outputSigmaBand='true', outputGammaBand='false', outputBetaBand='false')"
      ]
     },
     "execution_count": 4,
     "metadata": {},
     "output_type": "execute_result"
    }
   ],
   "source": [
    "calibration = Operator('Calibration')\n",
    "\n",
    "calibration"
   ]
  },
  {
   "cell_type": "markdown",
   "metadata": {},
   "source": [
    "Get the SNAP Operator description:"
   ]
  },
  {
   "cell_type": "code",
   "execution_count": 5,
   "metadata": {},
   "outputs": [
    {
     "name": "stdout",
     "output_type": "stream",
     "text": [
      "Operator name: Calibration\n",
      "\n",
      "Description: Calibration of products\n",
      "Authors: Jun Lu, Luis Veci\n",
      "\n",
      "eu.esa.sar.calibration.gpf.CalibrationOp\n",
      "Version: 1.0\n",
      "\n",
      "Parameters:\n",
      "\n",
      "\tsourceBandNames: The list of source bands.\n",
      "\t\tDefault Value: None\n",
      "\n",
      "\t\tPossible values: []\n",
      "\n",
      "\tauxFile: The auxiliary file\n",
      "\t\tDefault Value: Latest Auxiliary File\n",
      "\n",
      "\t\tPossible values: ['Latest Auxiliary File', 'Product Auxiliary File', 'External Auxiliary File']\n",
      "\n",
      "\texternalAuxFile: The antenna elevation pattern gain auxiliary data file.\n",
      "\t\tDefault Value: None\n",
      "\n",
      "\t\tPossible values: []\n",
      "\n",
      "\toutputImageInComplex: Output image in complex\n",
      "\t\tDefault Value: false\n",
      "\n",
      "\t\tPossible values: []\n",
      "\n",
      "\toutputImageScaleInDb: Output image scale\n",
      "\t\tDefault Value: false\n",
      "\n",
      "\t\tPossible values: []\n",
      "\n",
      "\tcreateGammaBand: Create gamma0 virtual band\n",
      "\t\tDefault Value: false\n",
      "\n",
      "\t\tPossible values: []\n",
      "\n",
      "\tcreateBetaBand: Create beta0 virtual band\n",
      "\t\tDefault Value: false\n",
      "\n",
      "\t\tPossible values: []\n",
      "\n",
      "\tselectedPolarisations: The list of polarisations\n",
      "\t\tDefault Value: None\n",
      "\n",
      "\t\tPossible values: []\n",
      "\n",
      "\toutputSigmaBand: Output sigma0 band\n",
      "\t\tDefault Value: true\n",
      "\n",
      "\t\tPossible values: []\n",
      "\n",
      "\toutputGammaBand: Output gamma0 band\n",
      "\t\tDefault Value: false\n",
      "\n",
      "\t\tPossible values: []\n",
      "\n",
      "\toutputBetaBand: Output beta0 band\n",
      "\t\tDefault Value: false\n",
      "\n",
      "\t\tPossible values: []\n",
      "\n"
     ]
    }
   ],
   "source": [
    "calibration.describe()"
   ]
  },
  {
   "cell_type": "markdown",
   "metadata": {},
   "source": [
    "Instantiate a SNAP operator by providing its name and update a parameter value"
   ]
  },
  {
   "cell_type": "code",
   "execution_count": 6,
   "metadata": {},
   "outputs": [],
   "source": [
    "calibration = Operator('Calibration')"
   ]
  },
  {
   "cell_type": "code",
   "execution_count": 7,
   "metadata": {},
   "outputs": [
    {
     "data": {
      "text/plain": [
       "['__class__',\n",
       " '__delattr__',\n",
       " '__dict__',\n",
       " '__dir__',\n",
       " '__doc__',\n",
       " '__eq__',\n",
       " '__format__',\n",
       " '__ge__',\n",
       " '__getattribute__',\n",
       " '__gt__',\n",
       " '__hash__',\n",
       " '__init__',\n",
       " '__init_subclass__',\n",
       " '__le__',\n",
       " '__lt__',\n",
       " '__module__',\n",
       " '__ne__',\n",
       " '__new__',\n",
       " '__reduce__',\n",
       " '__reduce_ex__',\n",
       " '__repr__',\n",
       " '__setattr__',\n",
       " '__sizeof__',\n",
       " '__str__',\n",
       " '__subclasshook__',\n",
       " '__weakref__',\n",
       " '_get_formats',\n",
       " '_params',\n",
       " 'auxFile',\n",
       " 'createBetaBand',\n",
       " 'createGammaBand',\n",
       " 'describe',\n",
       " 'externalAuxFile',\n",
       " 'operator',\n",
       " 'outputBetaBand',\n",
       " 'outputGammaBand',\n",
       " 'outputImageInComplex',\n",
       " 'outputImageScaleInDb',\n",
       " 'outputSigmaBand',\n",
       " 'selectedPolarisations',\n",
       " 'sourceBandNames',\n",
       " 'to_dict']"
      ]
     },
     "execution_count": 7,
     "metadata": {},
     "output_type": "execute_result"
    }
   ],
   "source": [
    "dir(calibration)"
   ]
  },
  {
   "cell_type": "code",
   "execution_count": 8,
   "metadata": {},
   "outputs": [
    {
     "data": {
      "text/plain": [
       "Operator('Calibration', sourceBandNames='None', auxFile='Latest Auxiliary File', externalAuxFile='None', outputImageInComplex='false', outputImageScaleInDb='false', createGammaBand='false', createBetaBand='true', selectedPolarisations='None', outputSigmaBand='true', outputGammaBand='false', outputBetaBand='false')"
      ]
     },
     "execution_count": 8,
     "metadata": {},
     "output_type": "execute_result"
    }
   ],
   "source": [
    "calibration.createBetaBand = 'true'\n",
    "\n",
    "calibration"
   ]
  },
  {
   "cell_type": "markdown",
   "metadata": {},
   "source": [
    "Instantiate a SNAP operator by providing its name and setting the values in the constructor "
   ]
  },
  {
   "cell_type": "code",
   "execution_count": 9,
   "metadata": {},
   "outputs": [
    {
     "data": {
      "text/plain": [
       "Operator('Calibration', sourceBandNames='None', auxFile='Latest Auxiliary File', externalAuxFile='None', outputImageInComplex='false', outputImageScaleInDb='false', createGammaBand='true', createBetaBand='true', selectedPolarisations='None', outputSigmaBand='true', outputGammaBand='false', outputBetaBand='false')"
      ]
     },
     "execution_count": 9,
     "metadata": {},
     "output_type": "execute_result"
    }
   ],
   "source": [
    "calibration = Operator('Calibration', \n",
    "                       createBetaBand='true', \n",
    "                       createGammaBand='true')\n",
    "\n",
    "calibration"
   ]
  },
  {
   "cell_type": "code",
   "execution_count": 10,
   "metadata": {},
   "outputs": [
    {
     "name": "stdout",
     "output_type": "stream",
     "text": [
      "Calibration:\n",
      "\tsourceBandNames='None'\n",
      "\tauxFile='Latest Auxiliary File'\n",
      "\texternalAuxFile='None'\n",
      "\toutputImageInComplex='false'\n",
      "\toutputImageScaleInDb='false'\n",
      "\tcreateGammaBand='true'\n",
      "\tcreateBetaBand='true'\n",
      "\tselectedPolarisations='None'\n",
      "\toutputSigmaBand='true'\n",
      "\toutputGammaBand='false'\n",
      "\toutputBetaBand='false'\n"
     ]
    }
   ],
   "source": [
    "print(calibration)"
   ]
  },
  {
   "cell_type": "markdown",
   "metadata": {},
   "source": [
    "## Graph"
   ]
  },
  {
   "cell_type": "markdown",
   "metadata": {},
   "source": [
    "Create a graph:"
   ]
  },
  {
   "cell_type": "code",
   "execution_count": 11,
   "metadata": {},
   "outputs": [
    {
     "data": {
      "text/plain": [
       "Graph(wdir='.')"
      ]
     },
     "execution_count": 11,
     "metadata": {},
     "output_type": "execute_result"
    }
   ],
   "source": [
    "g = Graph()\n",
    "\n",
    "g"
   ]
  },
  {
   "cell_type": "code",
   "execution_count": 12,
   "metadata": {},
   "outputs": [
    {
     "name": "stdout",
     "output_type": "stream",
     "text": [
      "gpt binary: D:\\olaf\\bc\\snap-snapshots\\12\\esa-snap\\bin\\gpt.exe\n",
      "working dir: .\n",
      "\n",
      "<graph>\n",
      "  <version>1.0</version>\n",
      "</graph>\n",
      "\n"
     ]
    }
   ],
   "source": [
    "print(g)"
   ]
  },
  {
   "cell_type": "markdown",
   "metadata": {},
   "source": [
    "Add two nodes:"
   ]
  },
  {
   "cell_type": "code",
   "execution_count": 13,
   "metadata": {},
   "outputs": [],
   "source": [
    "g.add_node(operator=Operator('Read'), \n",
    "           node_id='read_1')\n",
    "\n",
    "calibration = Operator('Calibration')\n",
    "\n",
    "calibration.createBetaBand = 'false'\n",
    "\n",
    "g.add_node(operator=calibration, \n",
    "           node_id='calibration', \n",
    "           source='read_1')"
   ]
  },
  {
   "cell_type": "code",
   "execution_count": 14,
   "metadata": {},
   "outputs": [
    {
     "name": "stdout",
     "output_type": "stream",
     "text": [
      "<graph>\n",
      "  <version>1.0</version>\n",
      "  <node id=\"read_1\">\n",
      "    <operator>Read</operator>\n",
      "    <sources/>\n",
      "    <parameters class=\"com.bc.ceres.binding.dom.XppDomElement\">\n",
      "      <bandNames/>\n",
      "      <copyMetadata>true</copyMetadata>\n",
      "      <file/>\n",
      "      <formatName/>\n",
      "      <geometryRegion/>\n",
      "      <maskNames/>\n",
      "      <pixelRegion/>\n",
      "      <useAdvancedOptions>false</useAdvancedOptions>\n",
      "    </parameters>\n",
      "  </node>\n",
      "  <node id=\"calibration\">\n",
      "    <operator>Calibration</operator>\n",
      "    <sources>\n",
      "      <sourceProduct refid=\"read_1\"/>\n",
      "    </sources>\n",
      "    <parameters class=\"com.bc.ceres.binding.dom.XppDomElement\">\n",
      "      <auxFile>Latest Auxiliary File</auxFile>\n",
      "      <createBetaBand>false</createBetaBand>\n",
      "      <createGammaBand>false</createGammaBand>\n",
      "      <externalAuxFile/>\n",
      "      <outputBetaBand>false</outputBetaBand>\n",
      "      <outputGammaBand>false</outputGammaBand>\n",
      "      <outputImageInComplex>false</outputImageInComplex>\n",
      "      <outputImageScaleInDb>false</outputImageScaleInDb>\n",
      "      <outputSigmaBand>true</outputSigmaBand>\n",
      "      <selectedPolarisations/>\n",
      "      <sourceBandNames/>\n",
      "    </parameters>\n",
      "  </node>\n",
      "</graph>\n",
      "\n"
     ]
    }
   ],
   "source": [
    "g.view()"
   ]
  },
  {
   "cell_type": "code",
   "execution_count": 15,
   "metadata": {},
   "outputs": [
    {
     "name": "stdout",
     "output_type": "stream",
     "text": [
      "gpt binary: D:\\olaf\\bc\\snap-snapshots\\12\\esa-snap\\bin\\gpt.exe\n",
      "working dir: .\n",
      "\n",
      "<graph>\n",
      "  <version>1.0</version>\n",
      "  <node id=\"read_1\">\n",
      "    <operator>Read</operator>\n",
      "    <sources/>\n",
      "    <parameters class=\"com.bc.ceres.binding.dom.XppDomElement\">\n",
      "      <bandNames/>\n",
      "      <copyMetadata>true</copyMetadata>\n",
      "      <file/>\n",
      "      <formatName/>\n",
      "      <geometryRegion/>\n",
      "      <maskNames/>\n",
      "      <pixelRegion/>\n",
      "      <useAdvancedOptions>false</useAdvancedOptions>\n",
      "    </parameters>\n",
      "  </node>\n",
      "  <node id=\"calibration\">\n",
      "    <operator>Calibration</operator>\n",
      "    <sources>\n",
      "      <sourceProduct refid=\"read_1\"/>\n",
      "    </sources>\n",
      "    <parameters class=\"com.bc.ceres.binding.dom.XppDomElement\">\n",
      "      <auxFile>Latest Auxiliary File</auxFile>\n",
      "      <createBetaBand>false</createBetaBand>\n",
      "      <createGammaBand>false</createGammaBand>\n",
      "      <externalAuxFile/>\n",
      "      <outputBetaBand>false</outputBetaBand>\n",
      "      <outputGammaBand>false</outputGammaBand>\n",
      "      <outputImageInComplex>false</outputImageInComplex>\n",
      "      <outputImageScaleInDb>false</outputImageScaleInDb>\n",
      "      <outputSigmaBand>true</outputSigmaBand>\n",
      "      <selectedPolarisations/>\n",
      "      <sourceBandNames/>\n",
      "    </parameters>\n",
      "  </node>\n",
      "</graph>\n",
      "\n"
     ]
    }
   ],
   "source": [
    "print(g)"
   ]
  },
  {
   "cell_type": "markdown",
   "metadata": {},
   "source": [
    "Get a list of the SNAP operators"
   ]
  },
  {
   "cell_type": "code",
   "execution_count": 16,
   "metadata": {},
   "outputs": [
    {
     "data": {
      "text/plain": [
       "['Meris.RayleighCorrection',\n",
       " 'Apply-Orbit-File',\n",
       " 'S2repOp',\n",
       " 'TemporalPercentile',\n",
       " 'SubGraph',\n",
       " 'Meris.LandClassification',\n",
       " 'CP-Decomposition',\n",
       " 'AdaptiveThresholding',\n",
       " 'Subset',\n",
       " 'LandWaterMask',\n",
       " 'Arc.SST',\n",
       " 'IEM-Hybrid-Inversion',\n",
       " 'KDTree-KNN-Classifier',\n",
       " 'Mosaic',\n",
       " 'Multi-Temporal-Speckle-Filter',\n",
       " 'Image-Filter',\n",
       " 'Warp',\n",
       " 'Convert-Datatype',\n",
       " 'Azimuth-Shift-Estimation-ESD',\n",
       " 'RemoteExecutionOp',\n",
       " 'Compactpol-Radar-Vegetation-Index',\n",
       " 'Orientation-Angle-Correction',\n",
       " 'IonosphericCorrection',\n",
       " 'CrossResampling',\n",
       " 'Polarimetric-Classification',\n",
       " 'Cross-Channel-SNR-Correction',\n",
       " 'Coherence',\n",
       " 'SAR-Simulation',\n",
       " 'SaviOp',\n",
       " 'Offset-Tracking',\n",
       " 'InSAR-Overview',\n",
       " 'HorizontalVerticalMotion',\n",
       " 'Faraday-Rotation-Correction',\n",
       " 'OWTClassification',\n",
       " 'Multi-size Mosaic',\n",
       " 'Speckle-Filter',\n",
       " 'S2tbx-Reproject',\n",
       " 'Radar-Vegetation-Index',\n",
       " 'Polarimetric-Decomposition',\n",
       " 'Wind-Field-Estimation',\n",
       " 'Undersample',\n",
       " 'PhaseToElevation',\n",
       " 'SimulateAmplitude',\n",
       " 'PduStitching',\n",
       " 'MphChlMeris',\n",
       " 'PhaseToDisplacement',\n",
       " 'S1-ETAD-Correction',\n",
       " 'MphChlOlci',\n",
       " 'RRToFRS',\n",
       " 'CP-Simulation',\n",
       " 'MphChl',\n",
       " 'TOPSAR-Merge',\n",
       " 'c2rcc.meris4',\n",
       " 'Oil-Spill-Detection',\n",
       " 'AddLandCover',\n",
       " 'EAP-Phase-Correction',\n",
       " 'SmileCorrection.Olci',\n",
       " 'Terrain-Correction',\n",
       " 'Oversample',\n",
       " 'Calibration',\n",
       " 'Terrain-Mask',\n",
       " 'c2rcc.viirs',\n",
       " 'Polarimetric-Parameters',\n",
       " 'Rad2Refl',\n",
       " 'Biophysical10mOp',\n",
       " 'Bi2Op',\n",
       " 'BiophysicalOp',\n",
       " 'SpectralAngleMapperOp',\n",
       " 'IEM-Multi-Angle-Inversion',\n",
       " 'Demodulate',\n",
       " 'SmacOp',\n",
       " 'Polarimetric-Matrices',\n",
       " 'AATSR.Ungrid',\n",
       " 'Write',\n",
       " 'BandMerge',\n",
       " 'Double-Difference-Interferogram',\n",
       " 'FuClassification',\n",
       " 'BandsExtractorOp',\n",
       " 'Meris.N1Patcher',\n",
       " 'TileWriter',\n",
       " 'LinearToFromdB',\n",
       " 'Multitemporal-Compositing',\n",
       " 'SM-Dielectric-Modeling',\n",
       " 'L3ToL1',\n",
       " 'Meris.CloudShadow',\n",
       " 'CiOp',\n",
       " 'Stack-Averaging',\n",
       " 'Data-Analysis',\n",
       " 'IpviOp',\n",
       " 'PviOp',\n",
       " 'EsaSnappyPyOp',\n",
       " 'Cross-Correlation',\n",
       " 'GoldsteinPhaseFiltering',\n",
       " 'Ndwi2Op',\n",
       " 'NdpiOp',\n",
       " 'RiOp',\n",
       " 'SnaphuExport',\n",
       " 'PssraOp',\n",
       " 'FillAerosol',\n",
       " 'Random-Forest-Classifier',\n",
       " 'RayleighCorrection',\n",
       " 'FillBand',\n",
       " 'Oil-Spill-Clustering',\n",
       " 'PassThrough',\n",
       " 'EMClusterAnalysis',\n",
       " 'ProductSet-Reader',\n",
       " 'Meris.Sdr',\n",
       " 'Meris.CloudClassification',\n",
       " 'McariOp',\n",
       " 'PpeFiltering',\n",
       " 'Generalized-Radar-Vegetation-Index',\n",
       " 'ReipOp',\n",
       " 'ChangeVectorAnalysisOp',\n",
       " 'TsaviOp',\n",
       " 'ReflectanceToRadianceOp',\n",
       " 'MtciOp',\n",
       " 'EcostressSwath2GridOp',\n",
       " 'GaseousAbsorption',\n",
       " 'CreateStack',\n",
       " 'c2rcc.seawifs',\n",
       " 'BandsDifferenceOp',\n",
       " 'PhaseToHeight',\n",
       " 'GLCM',\n",
       " 'Import-Vector',\n",
       " 'Aatsr.SST',\n",
       " 'StoredGraph',\n",
       " 'Forest-Area-Detection',\n",
       " 'MndwiOp',\n",
       " 'Three-passDInSAR',\n",
       " 'BiOp',\n",
       " 'IreciOp',\n",
       " 'MoreThenAnIntegerOp',\n",
       " 'SRGR',\n",
       " 'CloudProb',\n",
       " 'Speckle-Divergence',\n",
       " 'KMeansClusterAnalysis',\n",
       " 'Binning',\n",
       " 'PCA',\n",
       " 'CP-Stokes-Parameters',\n",
       " 'c2rcc.modis',\n",
       " 'MphChlBasis',\n",
       " 'Minimum-Distance-Classifier',\n",
       " 'c2rcc.landsat8',\n",
       " 'Land-Sea-Mask',\n",
       " 'DviOp',\n",
       " 'Principle-Components',\n",
       " 'Maximum-Likelihood-Classifier',\n",
       " 'Read',\n",
       " 'Collocate',\n",
       " 'CoregistrationOp',\n",
       " 'Meris.Adapt.4To3',\n",
       " 'MultiMasterStackGenerator',\n",
       " 'Terrain-Flattening',\n",
       " 'Back-Geocoding',\n",
       " 'DarkObjectSubtraction',\n",
       " 'PixEx',\n",
       " 'FUB.Water',\n",
       " 'Change-Detection',\n",
       " 'NdviOp',\n",
       " 'SnaphuImport',\n",
       " 'Fill-DEM-Hole',\n",
       " 'OlciAnomalyFlagging',\n",
       " 'Meris.SmileCorrection',\n",
       " 'Multilook',\n",
       " 'DeburstWSS',\n",
       " 'WdviOp',\n",
       " 'TOPSAR-Deburst',\n",
       " 'Reproject',\n",
       " 'SAR-Mosaic',\n",
       " 'TopoPhaseRemoval',\n",
       " 'Ellipsoid-Correction-RD',\n",
       " 'Ellipsoid-Correction-GG',\n",
       " 'c2rcc.msi',\n",
       " 'StatisticsOp',\n",
       " 'TndviOp',\n",
       " 'ALOS-Deskewing',\n",
       " 'Resample',\n",
       " 'MultiMasterInSAR',\n",
       " 'c2rcc.meris',\n",
       " 'BandSelect',\n",
       " 'Meris.Brr',\n",
       " 'KNN-Classifier',\n",
       " 'AzimuthFilter',\n",
       " 'Interferogram',\n",
       " 'TileCache',\n",
       " 'GemiOp',\n",
       " 'Msavi2Op',\n",
       " 'GndviOp',\n",
       " 'Unmix',\n",
       " 'ToolAdapterOp',\n",
       " 'Update-Geo-Reference',\n",
       " 'Remodulate',\n",
       " 'OlciSensorHarmonisation',\n",
       " 'Remove-GRD-Border-Noise',\n",
       " 'Meris.CorrectRadiometry',\n",
       " 'ForestCoverChangeOp',\n",
       " 'BiophysicalLandsat8Op',\n",
       " 'S2Resampling',\n",
       " 'ReplaceMetadata',\n",
       " 'GRD-Post',\n",
       " 'ArviOp',\n",
       " 'SliceAssembly',\n",
       " 'ThermalNoiseRemoval',\n",
       " 'AddElevation',\n",
       " 'Land-Cover-Mask',\n",
       " 'RangeFilter',\n",
       " 'NdwiOp',\n",
       " 'Forest-Area-Classification',\n",
       " 'SetNoDataValue',\n",
       " 'TOPSAR-Split',\n",
       " 'BatchSnaphuUnwrapOp',\n",
       " 'OlciO2aHarmonisation',\n",
       " 'BandMaths',\n",
       " 'BandPassFilter',\n",
       " 'Flip',\n",
       " 'Stack-Split',\n",
       " 'IEM-Multi-Pol-Inversion',\n",
       " 'Meris.CloudTopPressureOp',\n",
       " 'NdtiOp',\n",
       " 'Polarimetric-Speckle-Filter',\n",
       " 'Ndi45Op',\n",
       " 'GaborFilter',\n",
       " 'c2rcc.landsat7',\n",
       " 'c2rcc',\n",
       " 'Mci.s2',\n",
       " 'c2rcc.olci',\n",
       " 'DEM-Assisted-Coregistration',\n",
       " 'Meris.CombinedCloud',\n",
       " 'FlhMci',\n",
       " 'Meris.GaseousCorrection',\n",
       " 'Compute-Slope-Aspect',\n",
       " 'Supervised-Wishart-Classification',\n",
       " 'TOPSAR-DerampDemod',\n",
       " 'Meris.BlueBand',\n",
       " 'Flood-Detection',\n",
       " 'StampsExport',\n",
       " 'Meris.GapLessSdr',\n",
       " 'DecisionTree',\n",
       " 'IntegerInterferogram',\n",
       " 'Merge',\n",
       " 'Enhanced-Spectral-Diversity',\n",
       " 'RemoveAntennaPattern',\n",
       " 'MsaviOp',\n",
       " 'Object-Discrimination',\n",
       " 'GenericRegionMergingOp',\n",
       " 'Meris.CloudProbability',\n",
       " 'RviOp',\n",
       " 'SARSim-Terrain-Correction',\n",
       " 'WriteRGB']"
      ]
     },
     "execution_count": 16,
     "metadata": {},
     "output_type": "execute_result"
    }
   ],
   "source": [
    "Graph.list_operators()"
   ]
  },
  {
   "cell_type": "code",
   "execution_count": 17,
   "metadata": {},
   "outputs": [
    {
     "name": "stdout",
     "output_type": "stream",
     "text": [
      "Unmix - Performs a linear spectral unmixing.\n",
      "RemoteExecutionOp - Executes a slave graph on a remote machine and uses the resulted products as an input for the master graph executed on the host machine.\n",
      "Random-Forest-Classifier - Random Forest based classifier\n",
      "AzimuthFilter - Azimuth Filter\n",
      "L3ToL1 - None\n",
      "LandWaterMask - Operator creating a target product with a single band containing a land/water-mask.\n",
      "Land-Cover-Mask - Perform a masking based on land cover classes\n",
      "SAR-Mosaic - Mosaics two or more products based on their geo-codings.\n",
      "ALOS-Deskewing - Deskewing ALOS product\n",
      "Minimum-Distance-Classifier - Minimum Distance classifier\n",
      "Meris.N1Patcher - Copies an existing N1 file and replaces the data for the radiance bands\n",
      "c2rcc.meris - Performs atmospheric correction and IOP retrieval with uncertainties on MERIS L1b data products.\n",
      "RangeFilter - Range Filter\n",
      "BandMaths - Create a product with one or more bands using mathematical expressions.\n",
      "IEM-Multi-Angle-Inversion - Performs IEM inversion using Multi-angle approach\n",
      "MtciOp - The Meris Terrestrial Chlorophyll Index estimates the Red Edge Position (REP).\n",
      "TileCache - Experimental Operator which provides a dedicated cache for its source product.\n",
      "A guide on how this operator is used is provided at https://senbox.atlassian.net/wiki/x/VQCTLw.\n",
      "CloudProb - Applies a clear sky conservative cloud detection algorithm.\n",
      "CiOp - Colour Index  was developed to differentiate soils in the field. It gives complementary information with the BI and the NDVI.\n",
      "Meris.CloudClassification - MERIS L2 cloud classification.\n",
      "StoredGraph - Encapsulates an stored graph into an operator.\n",
      "Multi-size Mosaic - Creates a multi-size mosaic out of a set of source products.\n",
      "Compute-Slope-Aspect - Compute Slope and Aspect from DEM\n",
      "TndviOp - Transformed Normalized Difference Vegetation Index retrieves the Isovegetation lines parallel to soil line\n",
      "SnaphuExport - Export data and prepare conf file for SNAPHU processing\n",
      "c2rcc.olci - Performs atmospheric correction and IOP retrieval with uncertainties on SENTINEL-3 OLCI L1B data products.\n",
      "Back-Geocoding - Bursts co-registration using orbit and DEM\n",
      "Supervised-Wishart-Classification - Perform supervised Wishart classification\n",
      "Meris.Adapt.4To3 - Provides the adaptation of MERIS L1b products from 4th to 3rd reprocessing.\n",
      "IonosphericCorrection - Estimation of Ionospheric Phase Screens\n",
      "SAR-Simulation - Rigorous SAR Simulation\n",
      "S2Resampling - Specific S2 resample algorithm\n",
      "AdaptiveThresholding - Detect ships using Constant False Alarm Rate detector.\n",
      "AddLandCover - Creates a land cover band\n",
      "NdviOp - The retrieves the Normalized Difference Vegetation Index (NDVI).\n",
      "Ndwi2Op - The Normalized Difference Water Index, allowing for the measurement of surface water extent\n",
      "Calibration - Calibration of products\n",
      "Generalized-Radar-Vegetation-Index - Generalized Radar Vegetation Indices generation\n",
      "Coherence - Estimate coherence from stack of coregistered images\n",
      "RviOp - Ratio Vegetation Index retrieves the Isovegetation lines converge at origin\n",
      "c2rcc.meris4 - Performs atmospheric correction and IOP retrieval with uncertainties on MERIS L1b data products from the 4th reprocessing.\n",
      "FillAerosol - None\n",
      "SmileCorrection.Olci - Performs radiometric corrections on OLCI L1b data products.\n",
      "SliceAssembly - Merges Sentinel-1 slice products\n",
      "Principle-Components - Principle Component Analysis\n",
      "Terrain-Flattening - Terrain Flattening\n",
      "DEM-Assisted-Coregistration - Orbit and DEM based co-registration\n",
      "HorizontalVerticalMotion - Computation of Horizontal/Vertical Motion Components\n",
      "MndwiOp - Modified Normalized Difference Water Index, allowing for the measurement of surface water extent\n",
      "Warp - Create Warp Function And Get Co-registrated Images\n",
      "c2rcc.modis - Performs atmospheric correction and IOP retrieval on MODIS L1C_LAC data products.\n",
      "IntegerInterferogram - Create integer interferogram\n",
      "PpeFiltering - Performs Prompt Particle Event (PPE) filtering on OLCI L1B\n",
      "PssraOp - Pigment Specific Simple Ratio, chlorophyll index\n",
      "Reproject - Reprojection of a source product to a target Coordinate Reference System.\n",
      "DviOp - Difference Vegetation Index retrieves the Isovegetation lines parallel to soil line\n",
      "CP-Stokes-Parameters - Generates compact polarimetric Stokes child parameters\n",
      "PviOp - Perpendicular Vegetation Index retrieves the Isovegetation lines parallel to soil line.\n",
      "Soil line has an arbitrary slope and passes through origin\n",
      "S2repOp - Sentinel-2 red-edge position index\n",
      "Msavi2Op - This retrieves the second Modified Soil Adjusted Vegetation Index (MSAVI2).\n",
      "Polarimetric-Parameters - Compute general polarimetric parameters\n",
      "StampsExport - Export data for StaMPS processing\n",
      "RiOp - The Redness Index was developed to identify soil colour variations.\n",
      "SmacOp - Applies the Simplified Method for Atmospheric Corrections of Envisat MERIS/(A)ATSR measurements.\n",
      "FillBand - None\n",
      "SnaphuImport - Ingest SNAPHU results into InSAR product.\n",
      "BandPassFilter - Creates a basebanded SLC based on a subband of 1/3 the original bandwidth\n",
      "IpviOp - Infrared Percentage Vegetation Index retrieves the Isovegetation lines converge at origin\n",
      "Aatsr.SST - Computes sea surface temperature (SST) from (A)ATSR products.\n",
      "Subset - Create a spatial and/or spectral subset of a data product.\n",
      "PixEx - Extracts pixels from given locations and source products.\n",
      "NdwiOp - The Normalized Difference Water Index was developed for the extraction of water features\n",
      "Oversample - Oversample the datset\n",
      "Polarimetric-Matrices - Generates covariance or coherency matrix for given product\n",
      "Meris.Brr - Performs the Rayleigh correction on a MERIS L1b product.\n",
      "Meris.CorrectRadiometry - Performs radiometric corrections on MERIS L1b data products.\n",
      "AATSR.Ungrid - Ungrids (A)ATSR L1B products and extracts geolocation and pixel field of view data.\n",
      "Terrain-Mask - Terrain Mask Generation\n",
      "S2tbx-Reproject - Reprojection of a source product to a target Coordinate Reference System.\n",
      "c2rcc.landsat8 - Performs atmospheric correction and IOP retrieval with uncertainties on Landsat-8 L1 data products.\n",
      "Offset-Tracking - Create velocity vectors from offset tracking\n",
      "Ellipsoid-Correction-GG - GG method for orthorectification\n",
      "PhaseToHeight - Phase to Height conversion\n",
      "Remodulate - Remodulation and reramping of SLC data\n",
      "Compactpol-Radar-Vegetation-Index - Compact-pol Radar Vegetation Indices generation\n",
      "Radar-Vegetation-Index - Dual-pol Radar Vegetation Indices generation\n",
      "Stack-Averaging - Averaging multi-temporal images\n",
      "MphChlMeris - Computes maximum peak height of chlorophyll for MERIS. Implements MERIS-specific parts.\n",
      "Meris.CloudTopPressureOp - Computes cloud top pressure with FUB NN.\n",
      "TopoPhaseRemoval - Compute and subtract TOPO phase\n",
      "OWTClassification - Performs an optical water type classification based on atmospherically corrected reflectances.\n",
      "MsaviOp - This retrieves the Modified Soil Adjusted Vegetation Index (MSAVI).\n",
      "Meris.GaseousCorrection - MERIS L2 gaseous absorbtion correction.\n",
      "PCA - Performs a Principal Component Analysis.\n",
      "MphChlBasis - Computes maximum peak height of chlorophyll. Basis class, contains sensor-independent parts.\n",
      "Image-Filter - Common Image Processing Filters\n",
      "Binning - Performs spatial and temporal aggregation of pixel values into cells ('bins') of a planetary grid\n",
      "Oil-Spill-Detection - Detect oil spill.\n",
      "Faraday-Rotation-Correction - Perform Faraday-rotation correction for quad-pol product\n",
      "Double-Difference-Interferogram - Compute double difference interferogram\n",
      "CP-Decomposition - Perform Compact Polarimetric decomposition of a given product\n",
      "Biophysical10mOp - The 'Biophysical Processor' operator retrieves LAI from atmospherically corrected Sentinel-2 products\n",
      "ArviOp - Atmospherically Resistant Vegetation Index belongs to a family of indices with built-in atmospheric corrections.\n",
      "McariOp - Modified Chlorophyll Absorption Ratio Index, developed to be responsive to chlorophyll variation\n",
      "Stack-Split - Writes all bands to files.\n",
      "ChangeVectorAnalysisOp - The 'Change Vector Analysis' between two dual bands at two differents dates.\n",
      "BiophysicalLandsat8Op - The 'Biophysical Processor' operator retrieves LAI from atmospherically corrected Landsat8 products\n",
      "Maximum-Likelihood-Classifier - Maximum Likelihood classifier\n",
      "PduStitching - Stitches multiple SLSTR L1B product dissemination units (PDUs) of the same orbit to a single product.\n",
      "DarkObjectSubtraction - Performs dark object subtraction for spectral bands in source product.\n",
      "Meris.BlueBand - None\n",
      "Interferogram - Compute interferograms from stack of coregistered S-1 images\n",
      "ToolAdapterOp - Tool Adapter Operator\n",
      "OlciO2aHarmonisation - Performs O2A band harmonisation on OLCI L1b product. Implements update v4 of R.Preusker, June 2020.\n",
      "c2rcc - Performs atmospheric correction and IOP retrieval on OLCI, MSI, MERIS, MODIS or SeaWiFS L1 product.\n",
      "SM-Dielectric-Modeling - Performs SM inversion using dielectric model\n",
      "Meris.CloudShadow - None\n",
      "Polarimetric-Decomposition - Perform Polarimetric decomposition of a given product\n",
      "PassThrough - Sets target product to source product.\n",
      "IreciOp - Inverted red-edge chlorophyll index\n",
      "BiOp - The Brightness index represents the average of the brightness of a satellite image.\n",
      "EsaSnappyPyOp - Uses Python code to process data products\n",
      "BandSelect - Creates a new product with only selected bands\n",
      "BandsDifferenceOp - None\n",
      "MphChl - This operator computes maximum peak height of chlorophyll (MPH/CHL).\n",
      "Multi-Temporal-Speckle-Filter - Speckle Reduction using Multitemporal Filtering\n",
      "SetNoDataValue - Set NoDataValueUsed flag and NoDataValue for all bands\n",
      "TemporalPercentile - Computes percentiles over a given time period.\n",
      "Resample - Resampling of a multi-size source product to a single-size target product.\n",
      "TileWriter - Writes a data product to a tiles.\n",
      "GaseousAbsorption - Correct the influence of atmospheric gas absorption for those OLCI channels.\n",
      "Flood-Detection - Detect flooded area.\n",
      "Meris.RayleighCorrection - MERIS L2 rayleigh correction.\n",
      "NdtiOp - Normalized difference turbidity index, allowing for the measurement of water turbidity\n",
      "WriteRGB - Creates an RGB image from three source bands.\n",
      "OlciSensorHarmonisation - Performs sensor harmonisation on OLCI L1b product. Implements algorithm described in 'OLCI A/B Tandem Phase Analysis'\n",
      "Demodulate - Demodulation and deramping of SLC data\n",
      "c2rcc.viirs - Performs atmospheric correction and IOP retrieval on Viirs L1C data products.\n",
      "CrossResampling - Estimate Resampling Polynomial using SAR Image Geometry, and Resample Input Images\n",
      "ReplaceMetadata - Replace the metadata of the first product with that of the second\n",
      "Three-passDInSAR - Differential Interferometry\n",
      "ProductSet-Reader - Adds a list of sources\n",
      "Forest-Area-Classification - Detect forest area\n",
      "Import-Vector - Imports a shape file into a product\n",
      "c2rcc.msi - Performs atmospheric correction and IOP retrieval with uncertainties on Sentinel-2 MSI L1C data products.\n",
      "Speckle-Filter - Speckle Reduction\n",
      "Apply-Orbit-File - Apply orbit file\n",
      "Terrain-Correction - RD method for orthorectification\n",
      "BiophysicalOp - The 'Biophysical Processor' operator retrieves LAI from atmospherically corrected Sentinel-2 products\n",
      "BatchSnaphuUnwrapOp - Downloads and executes SNAPHU on a set of two or more interferograms.\n",
      "GRD-Post - Applies GRD post-processing\n",
      "Fill-DEM-Hole - Fill holes in given DEM product file.\n",
      "Ndi45Op - Normalized Difference Index using bands 4 and 5\n",
      "FUB.Water - MERIS FUB-CSIRO Coastal Water Processor to retrieve case II water properties and atmospheric properties\n",
      "EMClusterAnalysis - Performs an expectation-maximization (EM) cluster analysis.\n",
      "TOPSAR-Split - Creates a new product with only the selected subswath\n",
      "Orientation-Angle-Correction - Perform polarization orientation angle correction for given coherency matrix\n",
      "GaborFilter - Extract Texture Features\n",
      "Change-Detection - Change Detection.\n",
      "Cross-Correlation - Automatic Selection of Ground Control Points\n",
      "SARSim-Terrain-Correction - Orthorectification with SAR simulation\n",
      "GLCM - Extract Texture Features\n",
      "DeburstWSS - Debursts an ASAR WSS product\n",
      "SubGraph - Encapsulates a graph within a graph.\n",
      "Flip - flips a product horizontal/vertical\n",
      "GenericRegionMergingOp - The 'Generic Region Merging' operator computes the distinct regions from a product\n",
      "Meris.CloudProbability - None\n",
      "IEM-Hybrid-Inversion - Performs IEM inversion using Hybrid approach\n",
      "BandsExtractorOp - Creates a new product out of the source product containing only the indexes bands given\n",
      "SpectralAngleMapperOp - Classifies a product using the spectral angle mapper algorithm\n",
      "AddElevation - Creates a DEM band\n",
      "Remove-GRD-Border-Noise - Mask no-value pixels for GRD product\n",
      "Multitemporal-Compositing - Compute composite image from multi-temporal RTCs\n",
      "RemoveAntennaPattern - Remove Antenna Pattern\n",
      "SimulateAmplitude - Simulate amplitude based on DEM\n",
      "FlhMci - Computes fluorescence line height (FLH) or maximum chlorophyll index (MCI).\n",
      "TOPSAR-Deburst - Debursts a Sentinel-1 TOPSAR product\n",
      "Mosaic - Creates a mosaic out of a set of source products.\n",
      "SaviOp - This retrieves the Soil-Adjusted Vegetation Index (SAVI).\n",
      "Update-Geo-Reference - Update Geo Reference\n",
      "Cross-Channel-SNR-Correction - Compute general polarimetric parameters\n",
      "GoldsteinPhaseFiltering - Phase Filtering\n",
      "DecisionTree - Perform decision tree classification\n",
      "Read - Reads a data product from a given file location.\n",
      "PhaseToDisplacement - Phase To Displacement Conversion along LOS\n",
      "KNN-Classifier - K-Nearest Neighbour classifier\n",
      "Convert-Datatype - Convert product data type\n",
      "Land-Sea-Mask - Creates a bitmask defining land vs ocean.\n",
      "MultiMasterStackGenerator - Generates a set of master-slave pairs from a coregistered stack for use in SBAS processing\n",
      "InSAR-Overview - InSAR summary and optimal reference selection.\n",
      "TsaviOp - This retrieves the Transformed Soil Adjusted Vegetation Index (TSAVI).\n",
      "GemiOp - This retrieves the Global Environmental Monitoring Index (GEMI).\n",
      "Meris.SmileCorrection - None\n",
      "Oil-Spill-Clustering - Remove small clusters from detected area.\n",
      "CP-Simulation - Simulation of Compact Pol data from Quad Pol data\n",
      "Merge - Allows merging of several source products by using specified 'master' as reference product.\n",
      "Enhanced-Spectral-Diversity - Estimate constant range and azimuth offsets for a stack of images\n",
      "IEM-Multi-Pol-Inversion - Performs IEM inversion using Multi-polarization approach\n",
      "KMeansClusterAnalysis - Performs a K-Means cluster analysis.\n",
      "RayleighCorrection - Performs radiometric corrections on OLCI, MERIS L1B and S2 MSI L1C data products.\n",
      "Azimuth-Shift-Estimation-ESD - Estimate azimuth offset for the whole image\n",
      "EcostressSwath2GridOp - Performs ECOSTRESS Swath to Grid conversion to a specified CRS and radiance to brightness temperature conversion, using the algorithm from 'ECOSTRESS Swath to Grid Conversion Script' by LP DAAC (https://git.earthdata.nasa.gov/projects/LPDUR/repos/ecostress_swath2grid/).\n",
      "Meris.Sdr - None\n",
      "MultiMasterInSAR - Multi-master InSAR processing\n",
      "MphChlOlci - Computes maximum peak height of chlorophyll for OLCI. Implements OLCI-specific parts.\n",
      "ReflectanceToRadianceOp - The 'Reflectance To Radiance Processor' operator retrieves the radiance from reflectance using Sentinel-2 products\n",
      "Ellipsoid-Correction-RD - Ellipsoid correction with RD method and average scene height\n",
      "Meris.CombinedCloud - None\n",
      "Polarimetric-Speckle-Filter - Polarimetric Speckle Reduction\n",
      "KDTree-KNN-Classifier - KDTree KNN classifier\n",
      "TOPSAR-DerampDemod - Bursts co-registration using orbit and DEM\n",
      "NdpiOp - The normalized differential pond index, combines the short-wave infrared band-I and the green band\n",
      "CreateStack - Collocates two or more products based on their geo-codings.\n",
      "Mci.s2 - Computes maximum chlorophyll index (MCI) for Sentinel-2 MSI.\n",
      "Write - Writes a data product to a file.\n",
      "c2rcc.landsat7 - Performs atmospheric correction and IOP retrieval with uncertainties on Landsat-7 L1 data products.\n",
      "Collocate - Collocates two products based on their geo-codings.\n",
      "Meris.GapLessSdr - None\n",
      "Rad2Refl - Provides conversion from radiances to reflectances or backwards.\n",
      "BandMerge - Allows copying raster data from any number of source products to a specified 'master' product.\n",
      "Wind-Field-Estimation - Estimate wind speed and direction\n",
      "PhaseToElevation - DEM Generation\n",
      "ForestCoverChangeOp - Creates forest change masks out of two source products\n",
      "Meris.LandClassification - MERIS L2 land/water reclassification.\n",
      "LinearToFromdB - Converts bands to/from dB\n",
      "Object-Discrimination - Remove false alarms from the detected objects.\n",
      "Undersample - Undersample the datset\n",
      "ReipOp - The red edge inflection point index\n",
      "Forest-Area-Detection - Detect forest area.\n",
      "Speckle-Divergence - Detect urban area.\n",
      "c2rcc.seawifs - Performs atmospheric correction and IOP retrieval on SeaWifs L1C data products.\n",
      "Bi2Op - The second Brightness index represents the average of the brightness of a satellite image.\n",
      "CoregistrationOp - Coregisters two rasters, not considering their location\n",
      "Multilook - Averages the power across a number of lines in both the azimuth and range directions\n",
      "Arc.SST - Computes sea surface temperature (SST) from (A)ATSR and SLSTR products.\n",
      "GndviOp - Green Normalized Difference Vegetation Index\n",
      "ThermalNoiseRemoval - Removes thermal noise from products\n",
      "EAP-Phase-Correction - EAP Phase Correction\n",
      "RRToFRS - None\n",
      "SRGR - Converts Slant Range to Ground Range\n",
      "Polarimetric-Classification - Perform Polarimetric classification of a given product\n",
      "Data-Analysis - Computes statistics\n",
      "MoreThenAnIntegerOp - just for testing\n",
      "FuClassification - Colour classification based on the discrete Forel-Ule scale\n",
      "S1-ETAD-Correction - ETAD correction of S-1 TOPS/SM/GRD products\n",
      "WdviOp - Weighted Difference Vegetation Index retrieves the Isovegetation lines parallel to soil line.\n",
      "Soil line has an arbitrary slope and passes through origin\n",
      "TOPSAR-Merge - Merge subswaths of a Sentinel-1 TOPSAR product\n",
      "OlciAnomalyFlagging - Adds a flagging band indicating saturated pixels and altitude data overflows\n",
      "StatisticsOp - Computes statistics for an arbitrary number of source products.\n"
     ]
    },
    {
     "data": {
      "text/plain": [
       "{'Unmix': 'Performs a linear spectral unmixing.',\n",
       " 'RemoteExecutionOp': 'Executes a slave graph on a remote machine and uses the resulted products as an input for the master graph executed on the host machine.',\n",
       " 'Random-Forest-Classifier': 'Random Forest based classifier',\n",
       " 'AzimuthFilter': 'Azimuth Filter',\n",
       " 'L3ToL1': None,\n",
       " 'LandWaterMask': 'Operator creating a target product with a single band containing a land/water-mask.',\n",
       " 'Land-Cover-Mask': 'Perform a masking based on land cover classes',\n",
       " 'SAR-Mosaic': 'Mosaics two or more products based on their geo-codings.',\n",
       " 'ALOS-Deskewing': 'Deskewing ALOS product',\n",
       " 'Minimum-Distance-Classifier': 'Minimum Distance classifier',\n",
       " 'Meris.N1Patcher': 'Copies an existing N1 file and replaces the data for the radiance bands',\n",
       " 'c2rcc.meris': 'Performs atmospheric correction and IOP retrieval with uncertainties on MERIS L1b data products.',\n",
       " 'RangeFilter': 'Range Filter',\n",
       " 'BandMaths': 'Create a product with one or more bands using mathematical expressions.',\n",
       " 'IEM-Multi-Angle-Inversion': 'Performs IEM inversion using Multi-angle approach',\n",
       " 'MtciOp': 'The Meris Terrestrial Chlorophyll Index estimates the Red Edge Position (REP).',\n",
       " 'TileCache': 'Experimental Operator which provides a dedicated cache for its source product.\\nA guide on how this operator is used is provided at https://senbox.atlassian.net/wiki/x/VQCTLw.',\n",
       " 'CloudProb': 'Applies a clear sky conservative cloud detection algorithm.',\n",
       " 'CiOp': 'Colour Index  was developed to differentiate soils in the field. It gives complementary information with the BI and the NDVI.',\n",
       " 'Meris.CloudClassification': 'MERIS L2 cloud classification.',\n",
       " 'StoredGraph': 'Encapsulates an stored graph into an operator.',\n",
       " 'Multi-size Mosaic': 'Creates a multi-size mosaic out of a set of source products.',\n",
       " 'Compute-Slope-Aspect': 'Compute Slope and Aspect from DEM',\n",
       " 'TndviOp': 'Transformed Normalized Difference Vegetation Index retrieves the Isovegetation lines parallel to soil line',\n",
       " 'SnaphuExport': 'Export data and prepare conf file for SNAPHU processing',\n",
       " 'c2rcc.olci': 'Performs atmospheric correction and IOP retrieval with uncertainties on SENTINEL-3 OLCI L1B data products.',\n",
       " 'Back-Geocoding': 'Bursts co-registration using orbit and DEM',\n",
       " 'Supervised-Wishart-Classification': 'Perform supervised Wishart classification',\n",
       " 'Meris.Adapt.4To3': 'Provides the adaptation of MERIS L1b products from 4th to 3rd reprocessing.',\n",
       " 'IonosphericCorrection': 'Estimation of Ionospheric Phase Screens',\n",
       " 'SAR-Simulation': 'Rigorous SAR Simulation',\n",
       " 'S2Resampling': 'Specific S2 resample algorithm',\n",
       " 'AdaptiveThresholding': 'Detect ships using Constant False Alarm Rate detector.',\n",
       " 'AddLandCover': 'Creates a land cover band',\n",
       " 'NdviOp': 'The retrieves the Normalized Difference Vegetation Index (NDVI).',\n",
       " 'Ndwi2Op': 'The Normalized Difference Water Index, allowing for the measurement of surface water extent',\n",
       " 'Calibration': 'Calibration of products',\n",
       " 'Generalized-Radar-Vegetation-Index': 'Generalized Radar Vegetation Indices generation',\n",
       " 'Coherence': 'Estimate coherence from stack of coregistered images',\n",
       " 'RviOp': 'Ratio Vegetation Index retrieves the Isovegetation lines converge at origin',\n",
       " 'c2rcc.meris4': 'Performs atmospheric correction and IOP retrieval with uncertainties on MERIS L1b data products from the 4th reprocessing.',\n",
       " 'FillAerosol': None,\n",
       " 'SmileCorrection.Olci': 'Performs radiometric corrections on OLCI L1b data products.',\n",
       " 'SliceAssembly': 'Merges Sentinel-1 slice products',\n",
       " 'Principle-Components': 'Principle Component Analysis',\n",
       " 'Terrain-Flattening': 'Terrain Flattening',\n",
       " 'DEM-Assisted-Coregistration': 'Orbit and DEM based co-registration',\n",
       " 'HorizontalVerticalMotion': 'Computation of Horizontal/Vertical Motion Components',\n",
       " 'MndwiOp': 'Modified Normalized Difference Water Index, allowing for the measurement of surface water extent',\n",
       " 'Warp': 'Create Warp Function And Get Co-registrated Images',\n",
       " 'c2rcc.modis': 'Performs atmospheric correction and IOP retrieval on MODIS L1C_LAC data products.',\n",
       " 'IntegerInterferogram': 'Create integer interferogram',\n",
       " 'PpeFiltering': 'Performs Prompt Particle Event (PPE) filtering on OLCI L1B',\n",
       " 'PssraOp': 'Pigment Specific Simple Ratio, chlorophyll index',\n",
       " 'Reproject': 'Reprojection of a source product to a target Coordinate Reference System.',\n",
       " 'DviOp': 'Difference Vegetation Index retrieves the Isovegetation lines parallel to soil line',\n",
       " 'CP-Stokes-Parameters': 'Generates compact polarimetric Stokes child parameters',\n",
       " 'PviOp': 'Perpendicular Vegetation Index retrieves the Isovegetation lines parallel to soil line.\\nSoil line has an arbitrary slope and passes through origin',\n",
       " 'S2repOp': 'Sentinel-2 red-edge position index',\n",
       " 'Msavi2Op': 'This retrieves the second Modified Soil Adjusted Vegetation Index (MSAVI2).',\n",
       " 'Polarimetric-Parameters': 'Compute general polarimetric parameters',\n",
       " 'StampsExport': 'Export data for StaMPS processing',\n",
       " 'RiOp': 'The Redness Index was developed to identify soil colour variations.',\n",
       " 'SmacOp': 'Applies the Simplified Method for Atmospheric Corrections of Envisat MERIS/(A)ATSR measurements.',\n",
       " 'FillBand': None,\n",
       " 'SnaphuImport': 'Ingest SNAPHU results into InSAR product.',\n",
       " 'BandPassFilter': 'Creates a basebanded SLC based on a subband of 1/3 the original bandwidth',\n",
       " 'IpviOp': 'Infrared Percentage Vegetation Index retrieves the Isovegetation lines converge at origin',\n",
       " 'Aatsr.SST': 'Computes sea surface temperature (SST) from (A)ATSR products.',\n",
       " 'Subset': 'Create a spatial and/or spectral subset of a data product.',\n",
       " 'PixEx': 'Extracts pixels from given locations and source products.',\n",
       " 'NdwiOp': 'The Normalized Difference Water Index was developed for the extraction of water features',\n",
       " 'Oversample': 'Oversample the datset',\n",
       " 'Polarimetric-Matrices': 'Generates covariance or coherency matrix for given product',\n",
       " 'Meris.Brr': 'Performs the Rayleigh correction on a MERIS L1b product.',\n",
       " 'Meris.CorrectRadiometry': 'Performs radiometric corrections on MERIS L1b data products.',\n",
       " 'AATSR.Ungrid': 'Ungrids (A)ATSR L1B products and extracts geolocation and pixel field of view data.',\n",
       " 'Terrain-Mask': 'Terrain Mask Generation',\n",
       " 'S2tbx-Reproject': 'Reprojection of a source product to a target Coordinate Reference System.',\n",
       " 'c2rcc.landsat8': 'Performs atmospheric correction and IOP retrieval with uncertainties on Landsat-8 L1 data products.',\n",
       " 'Offset-Tracking': 'Create velocity vectors from offset tracking',\n",
       " 'Ellipsoid-Correction-GG': 'GG method for orthorectification',\n",
       " 'PhaseToHeight': 'Phase to Height conversion',\n",
       " 'Remodulate': 'Remodulation and reramping of SLC data',\n",
       " 'Compactpol-Radar-Vegetation-Index': 'Compact-pol Radar Vegetation Indices generation',\n",
       " 'Radar-Vegetation-Index': 'Dual-pol Radar Vegetation Indices generation',\n",
       " 'Stack-Averaging': 'Averaging multi-temporal images',\n",
       " 'MphChlMeris': 'Computes maximum peak height of chlorophyll for MERIS. Implements MERIS-specific parts.',\n",
       " 'Meris.CloudTopPressureOp': 'Computes cloud top pressure with FUB NN.',\n",
       " 'TopoPhaseRemoval': 'Compute and subtract TOPO phase',\n",
       " 'OWTClassification': 'Performs an optical water type classification based on atmospherically corrected reflectances.',\n",
       " 'MsaviOp': 'This retrieves the Modified Soil Adjusted Vegetation Index (MSAVI).',\n",
       " 'Meris.GaseousCorrection': 'MERIS L2 gaseous absorbtion correction.',\n",
       " 'PCA': 'Performs a Principal Component Analysis.',\n",
       " 'MphChlBasis': 'Computes maximum peak height of chlorophyll. Basis class, contains sensor-independent parts.',\n",
       " 'Image-Filter': 'Common Image Processing Filters',\n",
       " 'Binning': \"Performs spatial and temporal aggregation of pixel values into cells ('bins') of a planetary grid\",\n",
       " 'Oil-Spill-Detection': 'Detect oil spill.',\n",
       " 'Faraday-Rotation-Correction': 'Perform Faraday-rotation correction for quad-pol product',\n",
       " 'Double-Difference-Interferogram': 'Compute double difference interferogram',\n",
       " 'CP-Decomposition': 'Perform Compact Polarimetric decomposition of a given product',\n",
       " 'Biophysical10mOp': \"The 'Biophysical Processor' operator retrieves LAI from atmospherically corrected Sentinel-2 products\",\n",
       " 'ArviOp': 'Atmospherically Resistant Vegetation Index belongs to a family of indices with built-in atmospheric corrections.',\n",
       " 'McariOp': 'Modified Chlorophyll Absorption Ratio Index, developed to be responsive to chlorophyll variation',\n",
       " 'Stack-Split': 'Writes all bands to files.',\n",
       " 'ChangeVectorAnalysisOp': \"The 'Change Vector Analysis' between two dual bands at two differents dates.\",\n",
       " 'BiophysicalLandsat8Op': \"The 'Biophysical Processor' operator retrieves LAI from atmospherically corrected Landsat8 products\",\n",
       " 'Maximum-Likelihood-Classifier': 'Maximum Likelihood classifier',\n",
       " 'PduStitching': 'Stitches multiple SLSTR L1B product dissemination units (PDUs) of the same orbit to a single product.',\n",
       " 'DarkObjectSubtraction': 'Performs dark object subtraction for spectral bands in source product.',\n",
       " 'Meris.BlueBand': None,\n",
       " 'Interferogram': 'Compute interferograms from stack of coregistered S-1 images',\n",
       " 'ToolAdapterOp': 'Tool Adapter Operator',\n",
       " 'OlciO2aHarmonisation': 'Performs O2A band harmonisation on OLCI L1b product. Implements update v4 of R.Preusker, June 2020.',\n",
       " 'c2rcc': 'Performs atmospheric correction and IOP retrieval on OLCI, MSI, MERIS, MODIS or SeaWiFS L1 product.',\n",
       " 'SM-Dielectric-Modeling': 'Performs SM inversion using dielectric model',\n",
       " 'Meris.CloudShadow': None,\n",
       " 'Polarimetric-Decomposition': 'Perform Polarimetric decomposition of a given product',\n",
       " 'PassThrough': 'Sets target product to source product.',\n",
       " 'IreciOp': 'Inverted red-edge chlorophyll index',\n",
       " 'BiOp': 'The Brightness index represents the average of the brightness of a satellite image.',\n",
       " 'EsaSnappyPyOp': 'Uses Python code to process data products',\n",
       " 'BandSelect': 'Creates a new product with only selected bands',\n",
       " 'BandsDifferenceOp': None,\n",
       " 'MphChl': 'This operator computes maximum peak height of chlorophyll (MPH/CHL).',\n",
       " 'Multi-Temporal-Speckle-Filter': 'Speckle Reduction using Multitemporal Filtering',\n",
       " 'SetNoDataValue': 'Set NoDataValueUsed flag and NoDataValue for all bands',\n",
       " 'TemporalPercentile': 'Computes percentiles over a given time period.',\n",
       " 'Resample': 'Resampling of a multi-size source product to a single-size target product.',\n",
       " 'TileWriter': 'Writes a data product to a tiles.',\n",
       " 'GaseousAbsorption': 'Correct the influence of atmospheric gas absorption for those OLCI channels.',\n",
       " 'Flood-Detection': 'Detect flooded area.',\n",
       " 'Meris.RayleighCorrection': 'MERIS L2 rayleigh correction.',\n",
       " 'NdtiOp': 'Normalized difference turbidity index, allowing for the measurement of water turbidity',\n",
       " 'WriteRGB': 'Creates an RGB image from three source bands.',\n",
       " 'OlciSensorHarmonisation': \"Performs sensor harmonisation on OLCI L1b product. Implements algorithm described in 'OLCI A/B Tandem Phase Analysis'\",\n",
       " 'Demodulate': 'Demodulation and deramping of SLC data',\n",
       " 'c2rcc.viirs': 'Performs atmospheric correction and IOP retrieval on Viirs L1C data products.',\n",
       " 'CrossResampling': 'Estimate Resampling Polynomial using SAR Image Geometry, and Resample Input Images',\n",
       " 'ReplaceMetadata': 'Replace the metadata of the first product with that of the second',\n",
       " 'Three-passDInSAR': 'Differential Interferometry',\n",
       " 'ProductSet-Reader': 'Adds a list of sources',\n",
       " 'Forest-Area-Classification': 'Detect forest area',\n",
       " 'Import-Vector': 'Imports a shape file into a product',\n",
       " 'c2rcc.msi': 'Performs atmospheric correction and IOP retrieval with uncertainties on Sentinel-2 MSI L1C data products.',\n",
       " 'Speckle-Filter': 'Speckle Reduction',\n",
       " 'Apply-Orbit-File': 'Apply orbit file',\n",
       " 'Terrain-Correction': 'RD method for orthorectification',\n",
       " 'BiophysicalOp': \"The 'Biophysical Processor' operator retrieves LAI from atmospherically corrected Sentinel-2 products\",\n",
       " 'BatchSnaphuUnwrapOp': 'Downloads and executes SNAPHU on a set of two or more interferograms.',\n",
       " 'GRD-Post': 'Applies GRD post-processing',\n",
       " 'Fill-DEM-Hole': 'Fill holes in given DEM product file.',\n",
       " 'Ndi45Op': 'Normalized Difference Index using bands 4 and 5',\n",
       " 'FUB.Water': 'MERIS FUB-CSIRO Coastal Water Processor to retrieve case II water properties and atmospheric properties',\n",
       " 'EMClusterAnalysis': 'Performs an expectation-maximization (EM) cluster analysis.',\n",
       " 'TOPSAR-Split': 'Creates a new product with only the selected subswath',\n",
       " 'Orientation-Angle-Correction': 'Perform polarization orientation angle correction for given coherency matrix',\n",
       " 'GaborFilter': 'Extract Texture Features',\n",
       " 'Change-Detection': 'Change Detection.',\n",
       " 'Cross-Correlation': 'Automatic Selection of Ground Control Points',\n",
       " 'SARSim-Terrain-Correction': 'Orthorectification with SAR simulation',\n",
       " 'GLCM': 'Extract Texture Features',\n",
       " 'DeburstWSS': 'Debursts an ASAR WSS product',\n",
       " 'SubGraph': 'Encapsulates a graph within a graph.',\n",
       " 'Flip': 'flips a product horizontal/vertical',\n",
       " 'GenericRegionMergingOp': \"The 'Generic Region Merging' operator computes the distinct regions from a product\",\n",
       " 'Meris.CloudProbability': None,\n",
       " 'IEM-Hybrid-Inversion': 'Performs IEM inversion using Hybrid approach',\n",
       " 'BandsExtractorOp': 'Creates a new product out of the source product containing only the indexes bands given',\n",
       " 'SpectralAngleMapperOp': 'Classifies a product using the spectral angle mapper algorithm',\n",
       " 'AddElevation': 'Creates a DEM band',\n",
       " 'Remove-GRD-Border-Noise': 'Mask no-value pixels for GRD product',\n",
       " 'Multitemporal-Compositing': 'Compute composite image from multi-temporal RTCs',\n",
       " 'RemoveAntennaPattern': 'Remove Antenna Pattern',\n",
       " 'SimulateAmplitude': 'Simulate amplitude based on DEM',\n",
       " 'FlhMci': 'Computes fluorescence line height (FLH) or maximum chlorophyll index (MCI).',\n",
       " 'TOPSAR-Deburst': 'Debursts a Sentinel-1 TOPSAR product',\n",
       " 'Mosaic': 'Creates a mosaic out of a set of source products.',\n",
       " 'SaviOp': 'This retrieves the Soil-Adjusted Vegetation Index (SAVI).',\n",
       " 'Update-Geo-Reference': 'Update Geo Reference',\n",
       " 'Cross-Channel-SNR-Correction': 'Compute general polarimetric parameters',\n",
       " 'GoldsteinPhaseFiltering': 'Phase Filtering',\n",
       " 'DecisionTree': 'Perform decision tree classification',\n",
       " 'Read': 'Reads a data product from a given file location.',\n",
       " 'PhaseToDisplacement': 'Phase To Displacement Conversion along LOS',\n",
       " 'KNN-Classifier': 'K-Nearest Neighbour classifier',\n",
       " 'Convert-Datatype': 'Convert product data type',\n",
       " 'Land-Sea-Mask': 'Creates a bitmask defining land vs ocean.',\n",
       " 'MultiMasterStackGenerator': 'Generates a set of master-slave pairs from a coregistered stack for use in SBAS processing',\n",
       " 'InSAR-Overview': 'InSAR summary and optimal reference selection.',\n",
       " 'TsaviOp': 'This retrieves the Transformed Soil Adjusted Vegetation Index (TSAVI).',\n",
       " 'GemiOp': 'This retrieves the Global Environmental Monitoring Index (GEMI).',\n",
       " 'Meris.SmileCorrection': None,\n",
       " 'Oil-Spill-Clustering': 'Remove small clusters from detected area.',\n",
       " 'CP-Simulation': 'Simulation of Compact Pol data from Quad Pol data',\n",
       " 'Merge': \"Allows merging of several source products by using specified 'master' as reference product.\",\n",
       " 'Enhanced-Spectral-Diversity': 'Estimate constant range and azimuth offsets for a stack of images',\n",
       " 'IEM-Multi-Pol-Inversion': 'Performs IEM inversion using Multi-polarization approach',\n",
       " 'KMeansClusterAnalysis': 'Performs a K-Means cluster analysis.',\n",
       " 'RayleighCorrection': 'Performs radiometric corrections on OLCI, MERIS L1B and S2 MSI L1C data products.',\n",
       " 'Azimuth-Shift-Estimation-ESD': 'Estimate azimuth offset for the whole image',\n",
       " 'EcostressSwath2GridOp': \"Performs ECOSTRESS Swath to Grid conversion to a specified CRS and radiance to brightness temperature conversion, using the algorithm from 'ECOSTRESS Swath to Grid Conversion Script' by LP DAAC (https://git.earthdata.nasa.gov/projects/LPDUR/repos/ecostress_swath2grid/).\",\n",
       " 'Meris.Sdr': None,\n",
       " 'MultiMasterInSAR': 'Multi-master InSAR processing',\n",
       " 'MphChlOlci': 'Computes maximum peak height of chlorophyll for OLCI. Implements OLCI-specific parts.',\n",
       " 'ReflectanceToRadianceOp': \"The 'Reflectance To Radiance Processor' operator retrieves the radiance from reflectance using Sentinel-2 products\",\n",
       " 'Ellipsoid-Correction-RD': 'Ellipsoid correction with RD method and average scene height',\n",
       " 'Meris.CombinedCloud': None,\n",
       " 'Polarimetric-Speckle-Filter': 'Polarimetric Speckle Reduction',\n",
       " 'KDTree-KNN-Classifier': 'KDTree KNN classifier',\n",
       " 'TOPSAR-DerampDemod': 'Bursts co-registration using orbit and DEM',\n",
       " 'NdpiOp': 'The normalized differential pond index, combines the short-wave infrared band-I and the green band',\n",
       " 'CreateStack': 'Collocates two or more products based on their geo-codings.',\n",
       " 'Mci.s2': 'Computes maximum chlorophyll index (MCI) for Sentinel-2 MSI.',\n",
       " 'Write': 'Writes a data product to a file.',\n",
       " 'c2rcc.landsat7': 'Performs atmospheric correction and IOP retrieval with uncertainties on Landsat-7 L1 data products.',\n",
       " 'Collocate': 'Collocates two products based on their geo-codings.',\n",
       " 'Meris.GapLessSdr': None,\n",
       " 'Rad2Refl': 'Provides conversion from radiances to reflectances or backwards.',\n",
       " 'BandMerge': \"Allows copying raster data from any number of source products to a specified 'master' product.\",\n",
       " 'Wind-Field-Estimation': 'Estimate wind speed and direction',\n",
       " 'PhaseToElevation': 'DEM Generation',\n",
       " 'ForestCoverChangeOp': 'Creates forest change masks out of two source products',\n",
       " 'Meris.LandClassification': 'MERIS L2 land/water reclassification.',\n",
       " 'LinearToFromdB': 'Converts bands to/from dB',\n",
       " 'Object-Discrimination': 'Remove false alarms from the detected objects.',\n",
       " 'Undersample': 'Undersample the datset',\n",
       " 'ReipOp': 'The red edge inflection point index',\n",
       " 'Forest-Area-Detection': 'Detect forest area.',\n",
       " 'Speckle-Divergence': 'Detect urban area.',\n",
       " 'c2rcc.seawifs': 'Performs atmospheric correction and IOP retrieval on SeaWifs L1C data products.',\n",
       " 'Bi2Op': 'The second Brightness index represents the average of the brightness of a satellite image.',\n",
       " 'CoregistrationOp': 'Coregisters two rasters, not considering their location',\n",
       " 'Multilook': 'Averages the power across a number of lines in both the azimuth and range directions',\n",
       " 'Arc.SST': 'Computes sea surface temperature (SST) from (A)ATSR and SLSTR products.',\n",
       " 'GndviOp': 'Green Normalized Difference Vegetation Index',\n",
       " 'ThermalNoiseRemoval': 'Removes thermal noise from products',\n",
       " 'EAP-Phase-Correction': 'EAP Phase Correction',\n",
       " 'RRToFRS': None,\n",
       " 'SRGR': 'Converts Slant Range to Ground Range',\n",
       " 'Polarimetric-Classification': 'Perform Polarimetric classification of a given product',\n",
       " 'Data-Analysis': 'Computes statistics',\n",
       " 'MoreThenAnIntegerOp': 'just for testing',\n",
       " 'FuClassification': 'Colour classification based on the discrete Forel-Ule scale',\n",
       " 'S1-ETAD-Correction': 'ETAD correction of S-1 TOPS/SM/GRD products',\n",
       " 'WdviOp': 'Weighted Difference Vegetation Index retrieves the Isovegetation lines parallel to soil line.\\nSoil line has an arbitrary slope and passes through origin',\n",
       " 'TOPSAR-Merge': 'Merge subswaths of a Sentinel-1 TOPSAR product',\n",
       " 'OlciAnomalyFlagging': 'Adds a flagging band indicating saturated pixels and altitude data overflows',\n",
       " 'StatisticsOp': 'Computes statistics for an arbitrary number of source products.'}"
      ]
     },
     "execution_count": 17,
     "metadata": {},
     "output_type": "execute_result"
    }
   ],
   "source": [
    "g.describe_operators()"
   ]
  },
  {
   "cell_type": "markdown",
   "metadata": {},
   "source": [
    "Create a linear graph"
   ]
  },
  {
   "cell_type": "code",
   "execution_count": 18,
   "metadata": {},
   "outputs": [
    {
     "name": "stdout",
     "output_type": "stream",
     "text": [
      "Adding Operator Read to graph\n",
      "Adding Operator Resample to graph\n",
      "Adding Operator Reproject to graph\n",
      "Adding Operator Subset to graph\n",
      "Adding Operator AddLandCover to graph\n",
      "Adding Operator Write to graph\n"
     ]
    }
   ],
   "source": [
    "g = Graph() \n",
    "\n",
    "read = Operator('Read')\n",
    "\n",
    "read.formatName = 'SENTINEL-1'\n",
    "read.file = 'some1'\n",
    "\n",
    "\n",
    "operators = [read,\n",
    "             'Resample',\n",
    "             'Reproject',\n",
    "             'Subset',\n",
    "             'AddLandCover',\n",
    "             'Write']\n",
    "\n",
    "for index, operator in enumerate(operators):\n",
    "    \n",
    "    print('Adding Operator {} to graph'.format(operator.operator if isinstance(operator, Operator) else operator))\n",
    "    if index == 0:            \n",
    "        source_node_id = ''\n",
    "\n",
    "    else:\n",
    "        source_node_id = operators[index - 1].operator if isinstance(operators[index - 1], Operator) else operators[index - 1]\n",
    "        \n",
    "        \n",
    "    g.add_node(operator if isinstance(operator, Operator) else Operator(operator),\n",
    "               operator.operator if isinstance(operator, Operator) else operator,\n",
    "               source_node_id)\n",
    "      "
   ]
  },
  {
   "cell_type": "code",
   "execution_count": 19,
   "metadata": {},
   "outputs": [
    {
     "name": "stdout",
     "output_type": "stream",
     "text": [
      "<graph>\n",
      "  <version>1.0</version>\n",
      "  <node id=\"Read\">\n",
      "    <operator>Read</operator>\n",
      "    <sources>\n",
      "      <sourceProduct refid=\"\"/>\n",
      "    </sources>\n",
      "    <parameters class=\"com.bc.ceres.binding.dom.XppDomElement\">\n",
      "      <bandNames/>\n",
      "      <copyMetadata>true</copyMetadata>\n",
      "      <file>some1</file>\n",
      "      <formatName>SENTINEL-1</formatName>\n",
      "      <geometryRegion/>\n",
      "      <maskNames/>\n",
      "      <pixelRegion/>\n",
      "      <useAdvancedOptions>false</useAdvancedOptions>\n",
      "    </parameters>\n",
      "  </node>\n",
      "  <node id=\"Resample\">\n",
      "    <operator>Resample</operator>\n",
      "    <sources>\n",
      "      <sourceProduct refid=\"Read\"/>\n",
      "    </sources>\n",
      "    <parameters class=\"com.bc.ceres.binding.dom.XppDomElement\">\n",
      "      <bandResamplings/>\n",
      "      <downsamplingMethod>First</downsamplingMethod>\n",
      "      <flagDownsamplingMethod>First</flagDownsamplingMethod>\n",
      "      <referenceBandName/>\n",
      "      <resampleOnPyramidLevels>true</resampleOnPyramidLevels>\n",
      "      <resamplingPreset/>\n",
      "      <targetHeight/>\n",
      "      <targetResolution/>\n",
      "      <targetWidth/>\n",
      "      <upsamplingMethod>Nearest</upsamplingMethod>\n",
      "    </parameters>\n",
      "  </node>\n",
      "  <node id=\"Reproject\">\n",
      "    <operator>Reproject</operator>\n",
      "    <sources>\n",
      "      <sourceProduct refid=\"Resample\"/>\n",
      "    </sources>\n",
      "    <parameters class=\"com.bc.ceres.binding.dom.XppDomElement\">\n",
      "      <addDeltaBands>false</addDeltaBands>\n",
      "      <crs/>\n",
      "      <easting/>\n",
      "      <elevationModelName/>\n",
      "      <height/>\n",
      "      <includeTiePointGrids>true</includeTiePointGrids>\n",
      "      <noDataValue/>\n",
      "      <northing/>\n",
      "      <orientation>0</orientation>\n",
      "      <orthorectify>false</orthorectify>\n",
      "      <pixelSizeX/>\n",
      "      <pixelSizeY/>\n",
      "      <referencePixelX/>\n",
      "      <referencePixelY/>\n",
      "      <resamplingName>Nearest</resamplingName>\n",
      "      <tileSizeX/>\n",
      "      <tileSizeY/>\n",
      "      <width/>\n",
      "      <wktFile/>\n",
      "    </parameters>\n",
      "  </node>\n",
      "  <node id=\"Subset\">\n",
      "    <operator>Subset</operator>\n",
      "    <sources>\n",
      "      <sourceProduct refid=\"Reproject\"/>\n",
      "    </sources>\n",
      "    <parameters class=\"com.bc.ceres.binding.dom.XppDomElement\">\n",
      "      <bandNames/>\n",
      "      <copyMetadata>false</copyMetadata>\n",
      "      <fullSwath>false</fullSwath>\n",
      "      <geoRegion/>\n",
      "      <referenceBand/>\n",
      "      <region/>\n",
      "      <subSamplingX>1</subSamplingX>\n",
      "      <subSamplingY>1</subSamplingY>\n",
      "      <tiePointGridNames/>\n",
      "    </parameters>\n",
      "  </node>\n",
      "  <node id=\"AddLandCover\">\n",
      "    <operator>AddLandCover</operator>\n",
      "    <sources>\n",
      "      <sourceProduct refid=\"Subset\"/>\n",
      "    </sources>\n",
      "    <parameters class=\"com.bc.ceres.binding.dom.XppDomElement\">\n",
      "      <externalFiles/>\n",
      "      <landCoverNames>AAFC Canada Sand Pct</landCoverNames>\n",
      "      <resamplingMethod>NEAREST_NEIGHBOUR</resamplingMethod>\n",
      "    </parameters>\n",
      "  </node>\n",
      "  <node id=\"Write\">\n",
      "    <operator>Write</operator>\n",
      "    <sources>\n",
      "      <sourceProduct refid=\"AddLandCover\"/>\n",
      "    </sources>\n",
      "    <parameters class=\"com.bc.ceres.binding.dom.XppDomElement\">\n",
      "      <clearCacheAfterRowWrite>false</clearCacheAfterRowWrite>\n",
      "      <deleteOutputOnFailure>true</deleteOutputOnFailure>\n",
      "      <file/>\n",
      "      <formatName>BEAM-DIMAP</formatName>\n",
      "      <writeEntireTileRows>false</writeEntireTileRows>\n",
      "    </parameters>\n",
      "  </node>\n",
      "</graph>\n",
      "\n"
     ]
    }
   ],
   "source": [
    "g.view()"
   ]
  },
  {
   "cell_type": "code",
   "execution_count": 20,
   "metadata": {},
   "outputs": [],
   "source": [
    "#g.run()"
   ]
  },
  {
   "cell_type": "markdown",
   "metadata": {},
   "source": [
    "## BandMaths"
   ]
  },
  {
   "cell_type": "code",
   "execution_count": 21,
   "metadata": {},
   "outputs": [],
   "source": [
    "band_maths = Operator('BandMaths')"
   ]
  },
  {
   "cell_type": "code",
   "execution_count": 22,
   "metadata": {},
   "outputs": [
    {
     "name": "stdout",
     "output_type": "stream",
     "text": [
      "Operator name: BandMaths\n",
      "\n",
      "Description: Create a product with one or more bands using mathematical expressions.\n",
      "Authors: Marco Zuehlke, Norman Fomferra, Marco Peters\n",
      "\n",
      "org.esa.snap.core.gpf.common.BandMathsOp\n",
      "Version: 1.1\n",
      "\n",
      "Parameters:\n",
      "\n",
      "\ttargetBandDescriptors: List of descriptors defining the target bands.\n",
      "\t\tDefault Value: None\n",
      "\n",
      "\t\tPossible values: []\n",
      "\n",
      "\tvariables: List of variables which can be used within the expressions.\n",
      "\t\tDefault Value: None\n",
      "\n",
      "\t\tPossible values: []\n",
      "\n"
     ]
    }
   ],
   "source": [
    "band_maths.describe()"
   ]
  },
  {
   "cell_type": "markdown",
   "metadata": {},
   "source": [
    "<targetBand>\n",
    "          <name>active_fire_detected</name>\n",
    "          <type>float32</type>\n",
    "          <expression>S9_BT_in &lt; 265 ? 0 : F1_BT_in &gt; 315 and (F1_BT_in - F2_BT_in) &gt; 15 ? 1 : 0</expression>\n",
    "          <description/>\n",
    "          <unit/>\n",
    "          <noDataValue>NaN</noDataValue>\n",
    "        </targetBand>"
   ]
  },
  {
   "cell_type": "code",
   "execution_count": 23,
   "metadata": {},
   "outputs": [],
   "source": [
    "active_fire_band = TargetBand(name='active_fire_detected',\n",
    "                              expression='S9_BT_in &lt; 265 ? 0 : F1_BT_in &gt; 315 and (F1_BT_in - F2_BT_in) &gt; 15 ? 1 : 0')"
   ]
  },
  {
   "cell_type": "code",
   "execution_count": 24,
   "metadata": {},
   "outputs": [
    {
     "data": {
      "text/plain": [
       "TargetBand(name='active_fire_detected', expression='S9_BT_in &lt; 265 ? 0 : F1_BT_in &gt; 315 and (F1_BT_in - F2_BT_in) &gt; 15 ? 1 : 0', type='float32', description=None, unit=None, no_data_value='NaN')"
      ]
     },
     "execution_count": 24,
     "metadata": {},
     "output_type": "execute_result"
    }
   ],
   "source": [
    "active_fire_band"
   ]
  },
  {
   "cell_type": "code",
   "execution_count": 25,
   "metadata": {},
   "outputs": [],
   "source": [
    "band_maths.targetBandDescriptors = TargetBandDescriptors([active_fire_band])"
   ]
  },
  {
   "cell_type": "code",
   "execution_count": 26,
   "metadata": {},
   "outputs": [],
   "source": [
    "g = Graph()\n",
    "\n",
    "g.add_node(operator=Operator('Read'), \n",
    "           node_id='read_1')"
   ]
  },
  {
   "cell_type": "code",
   "execution_count": 27,
   "metadata": {},
   "outputs": [
    {
     "name": "stdout",
     "output_type": "stream",
     "text": [
      "targetBandDescriptors <snapista.target_band_descriptors.TargetBandDescriptors object at 0x0000027DDC87D270>\n"
     ]
    }
   ],
   "source": [
    "g.add_node(operator=band_maths, \n",
    "           node_id='band_maths', \n",
    "           source='read_1')"
   ]
  },
  {
   "cell_type": "code",
   "execution_count": 28,
   "metadata": {},
   "outputs": [
    {
     "name": "stdout",
     "output_type": "stream",
     "text": [
      "<graph>\n",
      "  <version>1.0</version>\n",
      "  <node id=\"read_1\">\n",
      "    <operator>Read</operator>\n",
      "    <sources/>\n",
      "    <parameters class=\"com.bc.ceres.binding.dom.XppDomElement\">\n",
      "      <bandNames/>\n",
      "      <copyMetadata>true</copyMetadata>\n",
      "      <file/>\n",
      "      <formatName/>\n",
      "      <geometryRegion/>\n",
      "      <maskNames/>\n",
      "      <pixelRegion/>\n",
      "      <useAdvancedOptions>false</useAdvancedOptions>\n",
      "    </parameters>\n",
      "  </node>\n",
      "  <node id=\"band_maths\">\n",
      "    <operator>BandMaths</operator>\n",
      "    <sources>\n",
      "      <sourceProduct refid=\"read_1\"/>\n",
      "    </sources>\n",
      "    <parameters class=\"com.bc.ceres.binding.dom.XppDomElement\">\n",
      "      <targetBands>\n",
      "        <targetBand>\n",
      "          <name>active_fire_detected</name>\n",
      "          <expression>S9_BT_in &amp;lt; 265 ? 0 : F1_BT_in &amp;gt; 315 and (F1_BT_in - F2_BT_in) &amp;gt; 15 ? 1 : 0</expression>\n",
      "          <type>float32</type>\n",
      "          <description/>\n",
      "          <unit/>\n",
      "          <no_data_value>NaN</no_data_value>\n",
      "        </targetBand>\n",
      "      </targetBands>\n",
      "      <variables/>\n",
      "    </parameters>\n",
      "  </node>\n",
      "</graph>\n",
      "\n"
     ]
    }
   ],
   "source": [
    "g.view()"
   ]
  },
  {
   "cell_type": "code",
   "execution_count": 29,
   "metadata": {
    "collapsed": false,
    "jupyter": {
     "outputs_hidden": false
    }
   },
   "outputs": [
    {
     "ename": "AttributeError",
     "evalue": "'Graph' object has no attribute 'nice_view'",
     "output_type": "error",
     "traceback": [
      "\u001B[1;31m---------------------------------------------------------------------------\u001B[0m",
      "\u001B[1;31mAttributeError\u001B[0m                            Traceback (most recent call last)",
      "Cell \u001B[1;32mIn[29], line 1\u001B[0m\n\u001B[1;32m----> 1\u001B[0m \u001B[43mg\u001B[49m\u001B[38;5;241;43m.\u001B[39;49m\u001B[43mnice_view\u001B[49m()\n",
      "\u001B[1;31mAttributeError\u001B[0m: 'Graph' object has no attribute 'nice_view'"
     ]
    }
   ],
   "source": [
    "g.nice_view()"
   ]
  },
  {
   "cell_type": "markdown",
   "metadata": {},
   "source": [
    "## Binning"
   ]
  },
  {
   "cell_type": "code",
   "execution_count": 30,
   "metadata": {},
   "outputs": [],
   "source": [
    "%load_ext autoreload\n",
    "%autoreload 2\n",
    "\n",
    "from snapista.binning import aggregators\n",
    "from snapista.binning import BinningVariable, BinningOutputBands, BinningBand, Aggregators\n",
    "from snapista import Graph\n",
    "from snapista import Operator\n",
    "import lxml.etree as etree\n"
   ]
  },
  {
   "cell_type": "code",
   "execution_count": 31,
   "metadata": {},
   "outputs": [],
   "source": [
    "ag = aggregators.AggregatorAvg(var_name='pippo', target_name=\"target_name\", output_counts='true')"
   ]
  },
  {
   "cell_type": "code",
   "execution_count": 32,
   "metadata": {},
   "outputs": [
    {
     "data": {
      "text/plain": [
       "{'type': 'AVG',\n",
       " 'var_name': 'pippo',\n",
       " 'target_name': 'target_name',\n",
       " 'weight_coeff': 0.0,\n",
       " 'output_counts': 'true',\n",
       " 'output_sums': 'true'}"
      ]
     },
     "execution_count": 32,
     "metadata": {},
     "output_type": "execute_result"
    }
   ],
   "source": [
    "ag.to_dict()"
   ]
  },
  {
   "cell_type": "code",
   "execution_count": null,
   "metadata": {},
   "outputs": [],
   "source": []
  },
  {
   "cell_type": "code",
   "execution_count": 33,
   "metadata": {},
   "outputs": [],
   "source": [
    "bv = BinningVariable(name='pippo', expression='aa', valid_expression='aa')"
   ]
  },
  {
   "cell_type": "code",
   "execution_count": 34,
   "metadata": {},
   "outputs": [
    {
     "data": {
      "text/plain": [
       "BinningVariable(name='pippo', expression='aa', valid_expression='aa')"
      ]
     },
     "execution_count": 34,
     "metadata": {},
     "output_type": "execute_result"
    }
   ],
   "source": [
    "bv"
   ]
  },
  {
   "cell_type": "code",
   "execution_count": 35,
   "metadata": {},
   "outputs": [
    {
     "data": {
      "text/plain": [
       "<Element variable at 0x27ddf3dd500>"
      ]
     },
     "execution_count": 35,
     "metadata": {},
     "output_type": "execute_result"
    }
   ],
   "source": [
    "bv.to_xml()"
   ]
  },
  {
   "cell_type": "code",
   "execution_count": null,
   "metadata": {},
   "outputs": [],
   "source": []
  },
  {
   "cell_type": "code",
   "execution_count": 36,
   "metadata": {},
   "outputs": [
    {
     "data": {
      "text/plain": [
       "b'<variable><name>pippo</name><expr>aa</expr><validExpr>aa</validExpr></variable>'"
      ]
     },
     "execution_count": 36,
     "metadata": {},
     "output_type": "execute_result"
    }
   ],
   "source": [
    "etree.tostring(bv.to_xml())"
   ]
  },
  {
   "cell_type": "code",
   "execution_count": 37,
   "metadata": {},
   "outputs": [],
   "source": [
    "bb = BinningBand(index=\"0\", name='aa', min_value=0, max_value=100)"
   ]
  },
  {
   "cell_type": "code",
   "execution_count": 38,
   "metadata": {},
   "outputs": [],
   "source": [
    "ob = BinningOutputBands([bb])"
   ]
  },
  {
   "cell_type": "code",
   "execution_count": 39,
   "metadata": {},
   "outputs": [
    {
     "data": {
      "text/plain": [
       "b'<outputBands><band><index>0</index><name>aa</name><min_value>0</min_value><max_value>100</max_value></band></outputBands>'"
      ]
     },
     "execution_count": 39,
     "metadata": {},
     "output_type": "execute_result"
    }
   ],
   "source": [
    "etree.tostring(ob.to_xml())"
   ]
  },
  {
   "cell_type": "code",
   "execution_count": 40,
   "metadata": {},
   "outputs": [
    {
     "data": {
      "text/plain": [
       "[BinningVariable(name='pippo', expression='aa', valid_expression='aa')]"
      ]
     },
     "execution_count": 40,
     "metadata": {},
     "output_type": "execute_result"
    }
   ],
   "source": [
    "[bv]"
   ]
  },
  {
   "cell_type": "code",
   "execution_count": 41,
   "metadata": {},
   "outputs": [],
   "source": [
    "binning = Operator('Binning')"
   ]
  },
  {
   "cell_type": "code",
   "execution_count": 42,
   "metadata": {},
   "outputs": [
    {
     "data": {
      "text/plain": [
       "Operator('Binning', sourceProductPaths='None', sourceProductFormat='None', sourceGraphPaths='None', region='None', startDateTime='None', periodDuration='None', timeFilterMethod='NONE', minDataHour='None', numRows='2160', superSampling='1', maxDistanceOnEarth='-1', maskExpr='None', variableConfigs='None', aggregatorConfigs='None', postProcessorConfig='None', outputType='Product', outputFile='None', outputFormat='BEAM-DIMAP', bandConfigurations='None', productCustomizerConfig='None', outputBinnedData='false', outputTargetProduct='true', metadataPropertiesFile='./metadata.properties', metadataTemplateDir='.', metadataAggregatorName='NAME', planetaryGridClass='org.esa.snap.binning.support.SEAGrid')"
      ]
     },
     "execution_count": 42,
     "metadata": {},
     "output_type": "execute_result"
    }
   ],
   "source": [
    "binning"
   ]
  },
  {
   "cell_type": "code",
   "execution_count": 43,
   "metadata": {},
   "outputs": [
    {
     "data": {
      "text/plain": [
       "Operator('Binning', sourceProductPaths='None', sourceProductFormat='None', sourceGraphPaths='None', region='None', startDateTime='None', periodDuration='None', timeFilterMethod='NONE', minDataHour='None', numRows='2160', superSampling='1', maxDistanceOnEarth='-1', maskExpr='None', variableConfigs='None', aggregatorConfigs='<snapista.binning.aggregators.Aggregators object at 0x0000027D9CE79600>', postProcessorConfig='None', outputType='Product', outputFile='None', outputFormat='BEAM-DIMAP', bandConfigurations='<snapista.binning.output_bands.BinningOutputBands object at 0x0000027DDEBA63B0>', productCustomizerConfig='None', outputBinnedData='false', outputTargetProduct='true', metadataPropertiesFile='./metadata.properties', metadataTemplateDir='.', metadataAggregatorName='NAME', planetaryGridClass='org.esa.snap.binning.support.SEAGrid')"
      ]
     },
     "execution_count": 43,
     "metadata": {},
     "output_type": "execute_result"
    }
   ],
   "source": [
    "binning.aggregatorConfigs = Aggregators([ag])\n",
    "binning.bandConfigurations = BinningOutputBands([bb])\n",
    "binning"
   ]
  },
  {
   "cell_type": "code",
   "execution_count": 44,
   "metadata": {},
   "outputs": [],
   "source": [
    "import os\n",
    "os.environ['PATH'] = '/srv/conda/envs/env_snap/snap/bin:' +  os.environ['PATH']"
   ]
  },
  {
   "cell_type": "code",
   "execution_count": 45,
   "metadata": {},
   "outputs": [
    {
     "name": "stdout",
     "output_type": "stream",
     "text": [
      "aggregatorConfigs <snapista.binning.aggregators.Aggregators object at 0x0000027D9CE79600>\n",
      "bandConfigurations <snapista.binning.output_bands.BinningOutputBands object at 0x0000027DDEBA63B0>\n"
     ]
    },
    {
     "ename": "ValueError",
     "evalue": "",
     "output_type": "error",
     "traceback": [
      "\u001B[1;31m---------------------------------------------------------------------------\u001B[0m",
      "\u001B[1;31mValueError\u001B[0m                                Traceback (most recent call last)",
      "Cell \u001B[1;32mIn[45], line 3\u001B[0m\n\u001B[0;32m      1\u001B[0m g \u001B[38;5;241m=\u001B[39m Graph()\n\u001B[1;32m----> 3\u001B[0m \u001B[43mg\u001B[49m\u001B[38;5;241;43m.\u001B[39;49m\u001B[43madd_node\u001B[49m\u001B[43m(\u001B[49m\u001B[43moperator\u001B[49m\u001B[38;5;241;43m=\u001B[39;49m\u001B[43mbinning\u001B[49m\u001B[43m,\u001B[49m\u001B[43m \u001B[49m\n\u001B[0;32m      4\u001B[0m \u001B[43m           \u001B[49m\u001B[43mnode_id\u001B[49m\u001B[38;5;241;43m=\u001B[39;49m\u001B[38;5;124;43m'\u001B[39;49m\u001B[38;5;124;43mbinning_1\u001B[39;49m\u001B[38;5;124;43m'\u001B[39;49m\u001B[43m)\u001B[49m\n",
      "File \u001B[1;32mD:\\olaf\\miniconda3_py310\\Lib\\site-packages\\esa_snappy\\snapista\\graph.py:352\u001B[0m, in \u001B[0;36mGraph.add_node\u001B[1;34m(self, operator, node_id, source)\u001B[0m\n\u001B[0;32m    347\u001B[0m         parameters_elem\u001B[38;5;241m.\u001B[39mappend(\n\u001B[0;32m    348\u001B[0m             etree\u001B[38;5;241m.\u001B[39mfromstring(\u001B[38;5;28mgetattr\u001B[39m(operator, param))\n\u001B[0;32m    349\u001B[0m         )\n\u001B[0;32m    350\u001B[0m     \u001B[38;5;28;01melse\u001B[39;00m:\n\u001B[1;32m--> 352\u001B[0m         \u001B[38;5;28;01mraise\u001B[39;00m \u001B[38;5;167;01mValueError\u001B[39;00m()\n\u001B[0;32m    354\u001B[0m \u001B[38;5;28;01melse\u001B[39;00m:\n\u001B[0;32m    356\u001B[0m     parameter_elem \u001B[38;5;241m=\u001B[39m etree\u001B[38;5;241m.\u001B[39mSubElement(parameters_elem, param)\n",
      "\u001B[1;31mValueError\u001B[0m: "
     ]
    }
   ],
   "source": [
    "g = Graph()\n",
    "\n",
    "g.add_node(operator=binning, \n",
    "           node_id='binning_1')"
   ]
  },
  {
   "cell_type": "markdown",
   "metadata": {
    "collapsed": false,
    "jupyter": {
     "outputs_hidden": false
    }
   },
   "source": []
  },
  {
   "cell_type": "code",
   "execution_count": null,
   "metadata": {},
   "outputs": [],
   "source": [
    "g.view()"
   ]
  },
  {
   "cell_type": "code",
   "execution_count": null,
   "metadata": {
    "collapsed": false,
    "jupyter": {
     "outputs_hidden": false
    }
   },
   "outputs": [],
   "source": [
    "g.nice_view()"
   ]
  },
  {
   "cell_type": "code",
   "execution_count": null,
   "metadata": {},
   "outputs": [],
   "source": [
    "%load_ext autoreload\n",
    "%autoreload 2\n",
    "\n",
    "from snapista.binning import aggregators\n",
    "from snapista.binning import BinningVariable, BinningOutputBands, BinningBand, Aggregators, BinningVariables\n",
    "from snapista import Graph\n",
    "from snapista import Operator\n",
    "import lxml.etree as etree\n",
    "import os\n",
    "\n",
    "os.environ['PATH'] = '/srv/conda/envs/env_snap/snap/bin:' +  os.environ['PATH']\n",
    "\n",
    "ag = aggregators.AggregatorAvg(var_name='pippo', target_name=\"target_name\", output_counts='true')\n",
    "bv = BinningVariable(name='pippo', expression='aa', valid_expression='aa')\n",
    "bb = BinningBand(index=\"0\", name='aa', min_value=0, max_value=100)\n",
    "\n",
    "binning = Operator('Binning')\n",
    "\n",
    "binning.aggregatorConfigs = Aggregators([ag])\n",
    "binning.bandConfigurations = BinningOutputBands([bb])\n",
    "binning.variableConfigs = BinningVariables([bv])\n",
    "g = Graph()\n",
    "\n",
    "g.add_node(operator=binning, \n",
    "           node_id='binning_1')"
   ]
  },
  {
   "cell_type": "code",
   "execution_count": null,
   "metadata": {},
   "outputs": [],
   "source": [
    "g.view()"
   ]
  },
  {
   "cell_type": "code",
   "execution_count": null,
   "metadata": {},
   "outputs": [],
   "source": []
  },
  {
   "cell_type": "code",
   "execution_count": null,
   "metadata": {},
   "outputs": [],
   "source": []
  }
 ],
 "metadata": {
  "kernelspec": {
   "display_name": "Python 3 (ipykernel)",
   "language": "python",
   "name": "python3"
  },
  "language_info": {
   "codemirror_mode": {
    "name": "ipython",
    "version": 3
   },
   "file_extension": ".py",
   "mimetype": "text/x-python",
   "name": "python",
   "nbconvert_exporter": "python",
   "pygments_lexer": "ipython3",
   "version": "3.10.9"
  }
 },
 "nbformat": 4,
 "nbformat_minor": 4
}
