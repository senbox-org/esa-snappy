{
 "cells": [
  {
   "cell_type": "code",
   "execution_count": 1,
   "metadata": {},
   "outputs": [],
   "source": [
    "import esa_snappy.snapista\n",
    "\n",
    "from snapista import Graph\n",
    "from snapista import Operator\n",
    "from snapista import TargetBand\n",
    "from snapista import TargetBandDescriptors"
   ]
  },
  {
   "cell_type": "code",
   "execution_count": 2,
   "metadata": {},
   "outputs": [],
   "source": [
    "r = Operator(\"Read\", file='/data/S2B_MSIL2A_20210608T112119_N0300_R037_T29SMC_20210608T131325.SAFE/MTD_MSIL2A.xml')"
   ]
  },
  {
   "cell_type": "code",
   "execution_count": 3,
   "metadata": {},
   "outputs": [
    {
     "data": {
      "text/plain": "Operator('Read', file='/data/S2B_MSIL2A_20210608T112119_N0300_R037_T29SMC_20210608T131325.SAFE/MTD_MSIL2A.xml', formatName='None', bandNames='None', maskNames='None', pixelRegion='None', geometryRegion='None', useAdvancedOptions='false', copyMetadata='true')"
     },
     "execution_count": 3,
     "metadata": {},
     "output_type": "execute_result"
    }
   ],
   "source": [
    "r"
   ]
  },
  {
   "cell_type": "code",
   "execution_count": 3,
   "metadata": {},
   "outputs": [],
   "source": []
  },
  {
   "cell_type": "markdown",
   "metadata": {},
   "source": [
    "## Operator"
   ]
  },
  {
   "cell_type": "markdown",
   "metadata": {},
   "source": [
    "Instantiate a SNAP operator by providing its name:"
   ]
  },
  {
   "cell_type": "code",
   "execution_count": 4,
   "metadata": {},
   "outputs": [
    {
     "data": {
      "text/plain": "Operator('Calibration', sourceBandNames='None', auxFile='Latest Auxiliary File', externalAuxFile='None', outputImageInComplex='false', outputImageScaleInDb='false', createGammaBand='false', createBetaBand='false', selectedPolarisations='None', outputSigmaBand='true', outputGammaBand='false', outputBetaBand='false')"
     },
     "execution_count": 4,
     "metadata": {},
     "output_type": "execute_result"
    }
   ],
   "source": [
    "calibration = Operator('Calibration')\n",
    "\n",
    "calibration"
   ]
  },
  {
   "cell_type": "markdown",
   "metadata": {},
   "source": [
    "Get the SNAP Operator description:"
   ]
  },
  {
   "cell_type": "code",
   "execution_count": 5,
   "metadata": {},
   "outputs": [
    {
     "name": "stdout",
     "output_type": "stream",
     "text": [
      "Operator name: Calibration\n",
      "\n",
      "Description: Calibration of products\n",
      "Authors: Jun Lu, Luis Veci\n",
      "\n",
      "eu.esa.sar.calibration.gpf.CalibrationOp\n",
      "Version: 1.0\n",
      "\n",
      "Parameters:\n",
      "\n",
      "\tsourceBandNames: The list of source bands.\n",
      "\t\tDefault Value: None\n",
      "\n",
      "\t\tPossible values: []\n",
      "\n",
      "\tauxFile: The auxiliary file\n",
      "\t\tDefault Value: Latest Auxiliary File\n",
      "\n",
      "\t\tPossible values: ['Latest Auxiliary File', 'Product Auxiliary File', 'External Auxiliary File']\n",
      "\n",
      "\texternalAuxFile: The antenna elevation pattern gain auxiliary data file.\n",
      "\t\tDefault Value: None\n",
      "\n",
      "\t\tPossible values: []\n",
      "\n",
      "\toutputImageInComplex: Output image in complex\n",
      "\t\tDefault Value: false\n",
      "\n",
      "\t\tPossible values: []\n",
      "\n",
      "\toutputImageScaleInDb: Output image scale\n",
      "\t\tDefault Value: false\n",
      "\n",
      "\t\tPossible values: []\n",
      "\n",
      "\tcreateGammaBand: Create gamma0 virtual band\n",
      "\t\tDefault Value: false\n",
      "\n",
      "\t\tPossible values: []\n",
      "\n",
      "\tcreateBetaBand: Create beta0 virtual band\n",
      "\t\tDefault Value: false\n",
      "\n",
      "\t\tPossible values: []\n",
      "\n",
      "\tselectedPolarisations: The list of polarisations\n",
      "\t\tDefault Value: None\n",
      "\n",
      "\t\tPossible values: []\n",
      "\n",
      "\toutputSigmaBand: Output sigma0 band\n",
      "\t\tDefault Value: true\n",
      "\n",
      "\t\tPossible values: []\n",
      "\n",
      "\toutputGammaBand: Output gamma0 band\n",
      "\t\tDefault Value: false\n",
      "\n",
      "\t\tPossible values: []\n",
      "\n",
      "\toutputBetaBand: Output beta0 band\n",
      "\t\tDefault Value: false\n",
      "\n",
      "\t\tPossible values: []\n",
      "\n"
     ]
    }
   ],
   "source": [
    "calibration.describe()"
   ]
  },
  {
   "cell_type": "markdown",
   "metadata": {},
   "source": [
    "Instantiate a SNAP operator by providing its name and update a parameter value"
   ]
  },
  {
   "cell_type": "code",
   "execution_count": 6,
   "metadata": {},
   "outputs": [],
   "source": [
    "calibration = Operator('Calibration')"
   ]
  },
  {
   "cell_type": "code",
   "execution_count": 7,
   "metadata": {},
   "outputs": [
    {
     "data": {
      "text/plain": "['__class__',\n '__delattr__',\n '__dict__',\n '__dir__',\n '__doc__',\n '__eq__',\n '__format__',\n '__ge__',\n '__getattribute__',\n '__gt__',\n '__hash__',\n '__init__',\n '__init_subclass__',\n '__le__',\n '__lt__',\n '__module__',\n '__ne__',\n '__new__',\n '__reduce__',\n '__reduce_ex__',\n '__repr__',\n '__setattr__',\n '__sizeof__',\n '__str__',\n '__subclasshook__',\n '__weakref__',\n '_get_formats',\n '_params',\n 'auxFile',\n 'createBetaBand',\n 'createGammaBand',\n 'describe',\n 'externalAuxFile',\n 'operator',\n 'outputBetaBand',\n 'outputGammaBand',\n 'outputImageInComplex',\n 'outputImageScaleInDb',\n 'outputSigmaBand',\n 'selectedPolarisations',\n 'sourceBandNames',\n 'to_dict']"
     },
     "execution_count": 7,
     "metadata": {},
     "output_type": "execute_result"
    }
   ],
   "source": [
    "dir(calibration)"
   ]
  },
  {
   "cell_type": "code",
   "execution_count": 8,
   "metadata": {},
   "outputs": [
    {
     "data": {
      "text/plain": "Operator('Calibration', sourceBandNames='None', auxFile='Latest Auxiliary File', externalAuxFile='None', outputImageInComplex='false', outputImageScaleInDb='false', createGammaBand='false', createBetaBand='true', selectedPolarisations='None', outputSigmaBand='true', outputGammaBand='false', outputBetaBand='false')"
     },
     "execution_count": 8,
     "metadata": {},
     "output_type": "execute_result"
    }
   ],
   "source": [
    "calibration.createBetaBand = 'true'\n",
    "\n",
    "calibration"
   ]
  },
  {
   "cell_type": "markdown",
   "metadata": {},
   "source": [
    "Instantiate a SNAP operator by providing its name and setting the values in the constructor "
   ]
  },
  {
   "cell_type": "code",
   "execution_count": 9,
   "metadata": {},
   "outputs": [
    {
     "data": {
      "text/plain": "Operator('Calibration', sourceBandNames='None', auxFile='Latest Auxiliary File', externalAuxFile='None', outputImageInComplex='false', outputImageScaleInDb='false', createGammaBand='true', createBetaBand='true', selectedPolarisations='None', outputSigmaBand='true', outputGammaBand='false', outputBetaBand='false')"
     },
     "execution_count": 9,
     "metadata": {},
     "output_type": "execute_result"
    }
   ],
   "source": [
    "calibration = Operator('Calibration', \n",
    "                       createBetaBand='true', \n",
    "                       createGammaBand='true')\n",
    "\n",
    "calibration"
   ]
  },
  {
   "cell_type": "code",
   "execution_count": 10,
   "metadata": {},
   "outputs": [
    {
     "name": "stdout",
     "output_type": "stream",
     "text": [
      "Calibration:\n",
      "\tsourceBandNames='None'\n",
      "\tauxFile='Latest Auxiliary File'\n",
      "\texternalAuxFile='None'\n",
      "\toutputImageInComplex='false'\n",
      "\toutputImageScaleInDb='false'\n",
      "\tcreateGammaBand='true'\n",
      "\tcreateBetaBand='true'\n",
      "\tselectedPolarisations='None'\n",
      "\toutputSigmaBand='true'\n",
      "\toutputGammaBand='false'\n",
      "\toutputBetaBand='false'\n"
     ]
    }
   ],
   "source": [
    "print(calibration)"
   ]
  },
  {
   "cell_type": "markdown",
   "metadata": {},
   "source": [
    "## Graph"
   ]
  },
  {
   "cell_type": "markdown",
   "metadata": {},
   "source": [
    "Create a graph:"
   ]
  },
  {
   "cell_type": "code",
   "execution_count": 11,
   "metadata": {},
   "outputs": [
    {
     "data": {
      "text/plain": "Graph(wdir='.')"
     },
     "execution_count": 11,
     "metadata": {},
     "output_type": "execute_result"
    }
   ],
   "source": [
    "g = Graph()\n",
    "\n",
    "g"
   ]
  },
  {
   "cell_type": "code",
   "execution_count": 12,
   "metadata": {},
   "outputs": [
    {
     "name": "stdout",
     "output_type": "stream",
     "text": [
      "gpt binary: D:\\olaf\\bc\\snap-snapshots\\12\\esa-snap\\bin\\gpt.exe\n",
      "working dir: .\n",
      "\n",
      "<graph>\n",
      "  <version>1.0</version>\n",
      "</graph>\n",
      "\n"
     ]
    }
   ],
   "source": [
    "print(g)"
   ]
  },
  {
   "cell_type": "markdown",
   "metadata": {},
   "source": [
    "Add two nodes:"
   ]
  },
  {
   "cell_type": "code",
   "execution_count": 13,
   "metadata": {},
   "outputs": [],
   "source": [
    "g.add_node(operator=Operator('Read'), \n",
    "           node_id='read_1')\n",
    "\n",
    "calibration = Operator('Calibration')\n",
    "\n",
    "calibration.createBetaBand = 'false'\n",
    "\n",
    "g.add_node(operator=calibration, \n",
    "           node_id='calibration', \n",
    "           source='read_1')"
   ]
  },
  {
   "cell_type": "code",
   "execution_count": 14,
   "metadata": {},
   "outputs": [
    {
     "name": "stdout",
     "output_type": "stream",
     "text": [
      "<graph>\n",
      "  <version>1.0</version>\n",
      "  <node id=\"read_1\">\n",
      "    <operator>Read</operator>\n",
      "    <sources/>\n",
      "    <parameters class=\"com.bc.ceres.binding.dom.XppDomElement\">\n",
      "      <bandNames/>\n",
      "      <copyMetadata>true</copyMetadata>\n",
      "      <file/>\n",
      "      <formatName/>\n",
      "      <geometryRegion/>\n",
      "      <maskNames/>\n",
      "      <pixelRegion/>\n",
      "      <useAdvancedOptions>false</useAdvancedOptions>\n",
      "    </parameters>\n",
      "  </node>\n",
      "  <node id=\"calibration\">\n",
      "    <operator>Calibration</operator>\n",
      "    <sources>\n",
      "      <sourceProduct refid=\"read_1\"/>\n",
      "    </sources>\n",
      "    <parameters class=\"com.bc.ceres.binding.dom.XppDomElement\">\n",
      "      <auxFile>Latest Auxiliary File</auxFile>\n",
      "      <createBetaBand>false</createBetaBand>\n",
      "      <createGammaBand>false</createGammaBand>\n",
      "      <externalAuxFile/>\n",
      "      <outputBetaBand>false</outputBetaBand>\n",
      "      <outputGammaBand>false</outputGammaBand>\n",
      "      <outputImageInComplex>false</outputImageInComplex>\n",
      "      <outputImageScaleInDb>false</outputImageScaleInDb>\n",
      "      <outputSigmaBand>true</outputSigmaBand>\n",
      "      <selectedPolarisations/>\n",
      "      <sourceBandNames/>\n",
      "    </parameters>\n",
      "  </node>\n",
      "</graph>\n",
      "\n"
     ]
    }
   ],
   "source": [
    "g.view()"
   ]
  },
  {
   "cell_type": "code",
   "execution_count": 15,
   "metadata": {},
   "outputs": [
    {
     "name": "stdout",
     "output_type": "stream",
     "text": [
      "gpt binary: D:\\olaf\\bc\\snap-snapshots\\12\\esa-snap\\bin\\gpt.exe\n",
      "working dir: .\n",
      "\n",
      "<graph>\n",
      "  <version>1.0</version>\n",
      "  <node id=\"read_1\">\n",
      "    <operator>Read</operator>\n",
      "    <sources/>\n",
      "    <parameters class=\"com.bc.ceres.binding.dom.XppDomElement\">\n",
      "      <bandNames/>\n",
      "      <copyMetadata>true</copyMetadata>\n",
      "      <file/>\n",
      "      <formatName/>\n",
      "      <geometryRegion/>\n",
      "      <maskNames/>\n",
      "      <pixelRegion/>\n",
      "      <useAdvancedOptions>false</useAdvancedOptions>\n",
      "    </parameters>\n",
      "  </node>\n",
      "  <node id=\"calibration\">\n",
      "    <operator>Calibration</operator>\n",
      "    <sources>\n",
      "      <sourceProduct refid=\"read_1\"/>\n",
      "    </sources>\n",
      "    <parameters class=\"com.bc.ceres.binding.dom.XppDomElement\">\n",
      "      <auxFile>Latest Auxiliary File</auxFile>\n",
      "      <createBetaBand>false</createBetaBand>\n",
      "      <createGammaBand>false</createGammaBand>\n",
      "      <externalAuxFile/>\n",
      "      <outputBetaBand>false</outputBetaBand>\n",
      "      <outputGammaBand>false</outputGammaBand>\n",
      "      <outputImageInComplex>false</outputImageInComplex>\n",
      "      <outputImageScaleInDb>false</outputImageScaleInDb>\n",
      "      <outputSigmaBand>true</outputSigmaBand>\n",
      "      <selectedPolarisations/>\n",
      "      <sourceBandNames/>\n",
      "    </parameters>\n",
      "  </node>\n",
      "</graph>\n",
      "\n"
     ]
    }
   ],
   "source": [
    "print(g)"
   ]
  },
  {
   "cell_type": "markdown",
   "metadata": {},
   "source": [
    "Get a list of the SNAP operators"
   ]
  },
  {
   "cell_type": "code",
   "execution_count": 16,
   "metadata": {},
   "outputs": [
    {
     "data": {
      "text/plain": "['PhaseToHeight',\n 'Apply-Orbit-File',\n 'MphChlMeris',\n 'MultiMasterInSAR',\n 'OWTClassification',\n 'SliceAssembly',\n 'KDTree-KNN-Classifier',\n 'Collocate',\n 'Random-Forest-Classifier',\n 'Oversample',\n 'c2rcc.msi',\n 'Aatsr.SST',\n 'NdpiOp',\n 'Faraday-Rotation-Correction',\n 'GaborFilter',\n 'Demodulate',\n 'BiophysicalLandsat8Op',\n 'CP-Simulation',\n 'Meris.CloudClassification',\n 'FillAerosol',\n 'MsaviOp',\n 'PCA',\n 'Meris.Adapt.4To3',\n 'MultiMasterStackGenerator',\n 'Principle-Components',\n 'HorizontalVerticalMotion',\n 'IEM-Multi-Angle-Inversion',\n 'DarkObjectSubtraction',\n 'FlhMci',\n 'MoreThenAnIntegerOp',\n 'ProductSet-Reader',\n 'SmileCorrection.Olci',\n 'Read',\n 'Warp',\n 'c2rcc',\n 'Radar-Vegetation-Index',\n 'SnaphuExport',\n 'S2repOp',\n 'Unmix',\n 'IonosphericCorrection',\n 'Land-Sea-Mask',\n 'WriteRGB',\n 'S2Resampling',\n 'ReipOp',\n 'BiOp',\n 'Import-Vector',\n 'GLCM',\n 'GndviOp',\n 'c2rcc.meris',\n 'Compute-Slope-Aspect',\n 'L3ToL1',\n 'PhaseToElevation',\n 'ChangeVectorAnalysisOp',\n 'c2rcc.olci',\n 'Biophysical10mOp',\n 'StoredGraph',\n 'ArviOp',\n 'Meris.CorrectRadiometry',\n 'CiOp',\n 'DecisionTree',\n 'Meris.CloudShadow',\n 'KNN-Classifier',\n 'BandMerge',\n 'Meris.CloudTopPressureOp',\n 'RiOp',\n 'Fill-DEM-Hole',\n 'PpeFiltering',\n 'c2rcc.landsat8',\n 'SaviOp',\n 'TOPSAR-Merge',\n 'MtciOp',\n 'SubGraph',\n 'ALOS-Deskewing',\n 'Meris.GapLessSdr',\n 'Polarimetric-Classification',\n 'Ndi45Op',\n 'RviOp',\n 'FuClassification',\n 'RangeFilter',\n 'BandSelect',\n 'SmacOp',\n 'PssraOp',\n 'Speckle-Filter',\n 'Data-Analysis',\n 'Forest-Area-Detection',\n 'Land-Cover-Mask',\n 'GRD-Post',\n 'AdaptiveThresholding',\n 'Flip',\n 'ForestCoverChangeOp',\n 'AddLandCover',\n 'Undersample',\n 'GoldsteinPhaseFiltering',\n 'Meris.Sdr',\n 'IpviOp',\n 'LandWaterMask',\n 'ReflectanceToRadianceOp',\n 'Polarimetric-Matrices',\n 'OlciAnomalyFlagging',\n 'Terrain-Correction',\n 'PviOp',\n 'ReplaceMetadata',\n 'Meris.CombinedCloud',\n 'Ndwi2Op',\n 'Reproject',\n 'SRGR',\n 'Enhanced-Spectral-Diversity',\n 'TOPSAR-Split',\n 'StatisticsOp',\n 'Ellipsoid-Correction-RD',\n 'WdviOp',\n 'Merge',\n 'Msavi2Op',\n 'SM-Dielectric-Modeling',\n 'SetNoDataValue',\n 'EMClusterAnalysis',\n 'CP-Decomposition',\n 'MphChlBasis',\n 'SARSim-Terrain-Correction',\n 'Interferogram',\n 'Flood-Detection',\n 'CP-Stokes-Parameters',\n 'Polarimetric-Speckle-Filter',\n 'Stack-Averaging',\n 'Multi-Temporal-Speckle-Filter',\n 'BandsExtractorOp',\n 'FillBand',\n 'Azimuth-Shift-Estimation-ESD',\n 'Speckle-Divergence',\n 'c2rcc.modis',\n 'TemporalPercentile',\n 'RemoteExecutionOp',\n 'Meris.LandClassification',\n 'MndwiOp',\n 'AATSR.Ungrid',\n 'Meris.N1Patcher',\n 'Meris.CloudProbability',\n 'CreateStack',\n 'CoregistrationOp',\n 'Image-Filter',\n 'Subset',\n 'c2rcc.viirs',\n 'c2rcc.landsat7',\n 'Meris.RayleighCorrection',\n 'EcostressSwath2GridOp',\n 'NdviOp',\n 'Cross-Channel-SNR-Correction',\n 'Terrain-Flattening',\n 'Ellipsoid-Correction-GG',\n 'Arc.SST',\n 'Remove-GRD-Border-Noise',\n 'ThermalNoiseRemoval',\n 'Forest-Area-Classification',\n 'KMeansClusterAnalysis',\n 'Change-Detection',\n 'GemiOp',\n 'Orientation-Angle-Correction',\n 'S2tbx-Reproject',\n 'DEM-Assisted-Coregistration',\n 'Binning',\n 'OlciSensorHarmonisation',\n 'TileWriter',\n 'CrossResampling',\n 'Cross-Correlation',\n 'Wind-Field-Estimation',\n 'Convert-Datatype',\n 'Bi2Op',\n 'FUB.Water',\n 'Coherence',\n 'Resample',\n 'AddElevation',\n 'Compactpol-Radar-Vegetation-Index',\n 'PassThrough',\n 'Polarimetric-Decomposition',\n 'SAR-Simulation',\n 'InSAR-Overview',\n 'BandPassFilter',\n 'Mosaic',\n 'TsaviOp',\n 'Meris.Brr',\n 'c2rcc.meris4',\n 'TopoPhaseRemoval',\n 'GaseousAbsorption',\n 'CloudProb',\n 'Supervised-Wishart-Classification',\n 'GenericRegionMergingOp',\n 'RayleighCorrection',\n 'Update-Geo-Reference',\n 'SnaphuImport',\n 'Maximum-Likelihood-Classifier',\n 'RRToFRS',\n 'Object-Discrimination',\n 'Meris.GaseousCorrection',\n 'Multilook',\n 'SpectralAngleMapperOp',\n 'SimulateAmplitude',\n 'PhaseToDisplacement',\n 'DviOp',\n 'BatchSnaphuUnwrapOp',\n 'Terrain-Mask',\n 'IreciOp',\n 'Mci.s2',\n 'IEM-Hybrid-Inversion',\n 'Rad2Refl',\n 'Meris.SmileCorrection',\n 'TOPSAR-Deburst',\n 'Back-Geocoding',\n 'Offset-Tracking',\n 'SAR-Mosaic',\n 'Stack-Split',\n 'Meris.BlueBand',\n 'Remodulate',\n 'EsaSnappyPyOp',\n 'Three-passDInSAR',\n 'AzimuthFilter',\n 'Polarimetric-Parameters',\n 'IntegerInterferogram',\n 'Double-Difference-Interferogram',\n 'BiophysicalOp',\n 'Minimum-Distance-Classifier',\n 'NdwiOp',\n 'PduStitching',\n 'BandsDifferenceOp',\n 'IEM-Multi-Pol-Inversion',\n 'c2rcc.seawifs',\n 'MphChlOlci',\n 'NdtiOp',\n 'S1-ETAD-Correction',\n 'TileCache',\n 'DeburstWSS',\n 'OlciO2aHarmonisation',\n 'Oil-Spill-Clustering',\n 'LinearToFromdB',\n 'MphChl',\n 'Oil-Spill-Detection',\n 'BandMaths',\n 'Multi-size Mosaic',\n 'EAP-Phase-Correction',\n 'StampsExport',\n 'Generalized-Radar-Vegetation-Index',\n 'Calibration',\n 'PixEx',\n 'RemoveAntennaPattern',\n 'ToolAdapterOp',\n 'Multitemporal-Compositing',\n 'TndviOp',\n 'McariOp',\n 'TOPSAR-DerampDemod',\n 'Write']"
     },
     "execution_count": 16,
     "metadata": {},
     "output_type": "execute_result"
    }
   ],
   "source": [
    "Graph.list_operators()"
   ]
  },
  {
   "cell_type": "code",
   "execution_count": 17,
   "metadata": {},
   "outputs": [
    {
     "name": "stdout",
     "output_type": "stream",
     "text": [
      "WdviOp - Weighted Difference Vegetation Index retrieves the Isovegetation lines parallel to soil line.\n",
      "Soil line has an arbitrary slope and passes through origin\n",
      "Resample - Resampling of a multi-size source product to a single-size target product.\n",
      "Maximum-Likelihood-Classifier - Maximum Likelihood classifier\n",
      "RRToFRS - None\n",
      "c2rcc.viirs - Performs atmospheric correction and IOP retrieval on Viirs L1C data products.\n",
      "Enhanced-Spectral-Diversity - Estimate constant range and azimuth offsets for a stack of images\n",
      "Double-Difference-Interferogram - Compute double difference interferogram\n",
      "SnaphuExport - Export data and prepare conf file for SNAPHU processing\n",
      "AddLandCover - Creates a land cover band\n",
      "Forest-Area-Classification - Detect forest area\n",
      "LandWaterMask - Operator creating a target product with a single band containing a land/water-mask.\n",
      "PassThrough - Sets target product to source product.\n",
      "Meris.Sdr - None\n",
      "CloudProb - Applies a clear sky conservative cloud detection algorithm.\n",
      "Meris.LandClassification - MERIS L2 land/water reclassification.\n",
      "Import-Vector - Imports a shape file into a product\n",
      "NdtiOp - Normalized difference turbidity index, allowing for the measurement of water turbidity\n",
      "Ellipsoid-Correction-RD - Ellipsoid correction with RD method and average scene height\n",
      "TOPSAR-DerampDemod - Bursts co-registration using orbit and DEM\n",
      "IEM-Multi-Pol-Inversion - Performs IEM inversion using Multi-polarization approach\n",
      "AddElevation - Creates a DEM band\n",
      "Supervised-Wishart-Classification - Perform supervised Wishart classification\n",
      "CP-Stokes-Parameters - Generates compact polarimetric Stokes child parameters\n",
      "RviOp - Ratio Vegetation Index retrieves the Isovegetation lines converge at origin\n",
      "S2repOp - Sentinel-2 red-edge position index\n",
      "BiophysicalOp - The 'Biophysical Processor' operator retrieves LAI from atmospherically corrected Sentinel-2 products\n",
      "RemoveAntennaPattern - Remove Antenna Pattern\n",
      "Meris.Brr - Performs the Rayleigh correction on a MERIS L1b product.\n",
      "Binning - Performs spatial and temporal aggregation of pixel values into cells ('bins') of a planetary grid\n",
      "CoregistrationOp - Coregisters two rasters, not considering their location\n",
      "StatisticsOp - Computes statistics for an arbitrary number of source products.\n",
      "ReflectanceToRadianceOp - The 'Reflectance To Radiance Processor' operator retrieves the radiance from reflectance using Sentinel-2 products\n",
      "PssraOp - Pigment Specific Simple Ratio, chlorophyll index\n",
      "StoredGraph - Encapsulates an stored graph into an operator.\n",
      "CP-Decomposition - Perform Compact Polarimetric decomposition of a given product\n",
      "Ellipsoid-Correction-GG - GG method for orthorectification\n",
      "MphChl - This operator computes maximum peak height of chlorophyll (MPH/CHL).\n",
      "AzimuthFilter - Azimuth Filter\n",
      "BandMerge - Allows copying raster data from any number of source products to a specified 'master' product.\n",
      "SARSim-Terrain-Correction - Orthorectification with SAR simulation\n",
      "DEM-Assisted-Coregistration - Orbit and DEM based co-registration\n",
      "LinearToFromdB - Converts bands to/from dB\n",
      "Ndi45Op - Normalized Difference Index using bands 4 and 5\n",
      "PhaseToDisplacement - Phase To Displacement Conversion along LOS\n",
      "TsaviOp - This retrieves the Transformed Soil Adjusted Vegetation Index (TSAVI).\n",
      "OlciSensorHarmonisation - Performs sensor harmonisation on OLCI L1b product. Implements algorithm described in 'OLCI A/B Tandem Phase Analysis'\n",
      "SaviOp - This retrieves the Soil-Adjusted Vegetation Index (SAVI).\n",
      "SRGR - Converts Slant Range to Ground Range\n",
      "Generalized-Radar-Vegetation-Index - Generalized Radar Vegetation Indices generation\n",
      "Aatsr.SST - Computes sea surface temperature (SST) from (A)ATSR products.\n",
      "Unmix - Performs a linear spectral unmixing.\n",
      "Write - Writes a data product to a file.\n",
      "MsaviOp - This retrieves the Modified Soil Adjusted Vegetation Index (MSAVI).\n",
      "Biophysical10mOp - The 'Biophysical Processor' operator retrieves LAI from atmospherically corrected Sentinel-2 products\n",
      "Offset-Tracking - Create velocity vectors from offset tracking\n",
      "S2Resampling - Specific S2 resample algorithm\n",
      "InSAR-Overview - InSAR summary and optimal reference selection.\n",
      "GoldsteinPhaseFiltering - Phase Filtering\n",
      "CP-Simulation - Simulation of Compact Pol data from Quad Pol data\n",
      "BiOp - The Brightness index represents the average of the brightness of a satellite image.\n",
      "c2rcc.landsat8 - Performs atmospheric correction and IOP retrieval with uncertainties on Landsat-8 L1 data products.\n",
      "NdviOp - The retrieves the Normalized Difference Vegetation Index (NDVI).\n",
      "Coherence - Estimate coherence from stack of coregistered images\n",
      "Meris.BlueBand - None\n",
      "OlciO2aHarmonisation - Performs O2A band harmonisation on OLCI L1b product. Implements update v4 of R.Preusker, June 2020.\n",
      "BandPassFilter - Creates a basebanded SLC based on a subband of 1/3 the original bandwidth\n",
      "c2rcc - Performs atmospheric correction and IOP retrieval on OLCI, MSI, MERIS, MODIS or SeaWiFS L1 product.\n",
      "Meris.GaseousCorrection - MERIS L2 gaseous absorbtion correction.\n",
      "SpectralAngleMapperOp - Classifies a product using the spectral angle mapper algorithm\n",
      "GaseousAbsorption - Correct the influence of atmospheric gas absorption for those OLCI channels.\n",
      "Object-Discrimination - Remove false alarms from the detected objects.\n",
      "Oil-Spill-Clustering - Remove small clusters from detected area.\n",
      "Ndwi2Op - The Normalized Difference Water Index, allowing for the measurement of surface water extent\n",
      "TopoPhaseRemoval - Compute and subtract TOPO phase\n",
      "ChangeVectorAnalysisOp - The 'Change Vector Analysis' between two dual bands at two differents dates.\n",
      "Multi-Temporal-Speckle-Filter - Speckle Reduction using Multitemporal Filtering\n",
      "GRD-Post - Applies GRD post-processing\n",
      "Wind-Field-Estimation - Estimate wind speed and direction\n",
      "Remodulate - Remodulation and reramping of SLC data\n",
      "Fill-DEM-Hole - Fill holes in given DEM product file.\n",
      "Oil-Spill-Detection - Detect oil spill.\n",
      "Meris.CloudClassification - MERIS L2 cloud classification.\n",
      "TemporalPercentile - Computes percentiles over a given time period.\n",
      "StampsExport - Export data for StaMPS processing\n",
      "Meris.Adapt.4To3 - Provides the adaptation of MERIS L1b products from 4th to 3rd reprocessing.\n",
      "SetNoDataValue - Set NoDataValueUsed flag and NoDataValue for all bands\n",
      "ForestCoverChangeOp - Creates forest change masks out of two source products\n",
      "Multilook - Averages the power across a number of lines in both the azimuth and range directions\n",
      "TOPSAR-Merge - Merge subswaths of a Sentinel-1 TOPSAR product\n",
      "KNN-Classifier - K-Nearest Neighbour classifier\n",
      "DviOp - Difference Vegetation Index retrieves the Isovegetation lines parallel to soil line\n",
      "L3ToL1 - None\n",
      "Terrain-Flattening - Terrain Flattening\n",
      "EcostressSwath2GridOp - Performs ECOSTRESS Swath to Grid conversion to a specified CRS and radiance to brightness temperature conversion, using the algorithm from 'ECOSTRESS Swath to Grid Conversion Script' by LP DAAC (https://git.earthdata.nasa.gov/projects/LPDUR/repos/ecostress_swath2grid/).\n",
      "Msavi2Op - This retrieves the second Modified Soil Adjusted Vegetation Index (MSAVI2).\n",
      "RiOp - The Redness Index was developed to identify soil colour variations.\n",
      "Interferogram - Compute interferograms from stack of coregistered S-1 images\n",
      "Reproject - Reprojection of a source product to a target Coordinate Reference System.\n",
      "Flip - flips a product horizontal/vertical\n",
      "Land-Sea-Mask - Creates a bitmask defining land vs ocean.\n",
      "Change-Detection - Change Detection.\n",
      "IEM-Hybrid-Inversion - Performs IEM inversion using Hybrid approach\n",
      "ReipOp - The red edge inflection point index\n",
      "Bi2Op - The second Brightness index represents the average of the brightness of a satellite image.\n",
      "Cross-Correlation - Automatic Selection of Ground Control Points\n",
      "MultiMasterStackGenerator - Generates a set of master-slave pairs from a coregistered stack for use in SBAS processing\n",
      "PixEx - Extracts pixels from given locations and source products.\n",
      "Terrain-Mask - Terrain Mask Generation\n",
      "SnaphuImport - Ingest SNAPHU results into InSAR product.\n",
      "Terrain-Correction - RD method for orthorectification\n",
      "BiophysicalLandsat8Op - The 'Biophysical Processor' operator retrieves LAI from atmospherically corrected Landsat8 products\n",
      "GenericRegionMergingOp - The 'Generic Region Merging' operator computes the distinct regions from a product\n",
      "Meris.RayleighCorrection - MERIS L2 rayleigh correction.\n",
      "PviOp - Perpendicular Vegetation Index retrieves the Isovegetation lines parallel to soil line.\n",
      "Soil line has an arbitrary slope and passes through origin\n",
      "Meris.CombinedCloud - None\n",
      "Calibration - Calibration of products\n",
      "BatchSnaphuUnwrapOp - Downloads and executes SNAPHU on a set of two or more interferograms.\n",
      "GndviOp - Green Normalized Difference Vegetation Index\n",
      "Polarimetric-Decomposition - Perform Polarimetric decomposition of a given product\n",
      "Compactpol-Radar-Vegetation-Index - Compact-pol Radar Vegetation Indices generation\n",
      "Compute-Slope-Aspect - Compute Slope and Aspect from DEM\n",
      "OWTClassification - Performs an optical water type classification based on atmospherically corrected reflectances.\n",
      "Minimum-Distance-Classifier - Minimum Distance classifier\n",
      "MndwiOp - Modified Normalized Difference Water Index, allowing for the measurement of surface water extent\n",
      "Collocate - Collocates two products based on their geo-codings.\n",
      "BandMaths - Create a product with one or more bands using mathematical expressions.\n",
      "ToolAdapterOp - Tool Adapter Operator\n",
      "Faraday-Rotation-Correction - Perform Faraday-rotation correction for quad-pol product\n",
      "Meris.CloudProbability - None\n",
      "Principle-Components - Principle Component Analysis\n",
      "Polarimetric-Matrices - Generates covariance or coherency matrix for given product\n",
      "SM-Dielectric-Modeling - Performs SM inversion using dielectric model\n",
      "Demodulate - Demodulation and deramping of SLC data\n",
      "SimulateAmplitude - Simulate amplitude based on DEM\n",
      "Polarimetric-Speckle-Filter - Polarimetric Speckle Reduction\n",
      "MphChlBasis - Computes maximum peak height of chlorophyll. Basis class, contains sensor-independent parts.\n",
      "Rad2Refl - Provides conversion from radiances to reflectances or backwards.\n",
      "OlciAnomalyFlagging - Adds a flagging band indicating saturated pixels and altitude data overflows\n",
      "FUB.Water - MERIS FUB-CSIRO Coastal Water Processor to retrieve case II water properties and atmospheric properties\n",
      "KMeansClusterAnalysis - Performs a K-Means cluster analysis.\n",
      "NdpiOp - The normalized differential pond index, combines the short-wave infrared band-I and the green band\n",
      "c2rcc.seawifs - Performs atmospheric correction and IOP retrieval on SeaWifs L1C data products.\n",
      "Radar-Vegetation-Index - Dual-pol Radar Vegetation Indices generation\n",
      "Flood-Detection - Detect flooded area.\n",
      "Back-Geocoding - Bursts co-registration using orbit and DEM\n",
      "TileCache - Experimental Operator which provides a dedicated cache for its source product.\n",
      "A guide on how this operator is used is provided at https://senbox.atlassian.net/wiki/x/VQCTLw.\n",
      "TndviOp - Transformed Normalized Difference Vegetation Index retrieves the Isovegetation lines parallel to soil line\n",
      "TOPSAR-Deburst - Debursts a Sentinel-1 TOPSAR product\n",
      "Oversample - Oversample the datset\n",
      "ArviOp - Atmospherically Resistant Vegetation Index belongs to a family of indices with built-in atmospheric corrections.\n",
      "Polarimetric-Classification - Perform Polarimetric classification of a given product\n",
      "Meris.N1Patcher - Copies an existing N1 file and replaces the data for the radiance bands\n",
      "Meris.SmileCorrection - None\n",
      "PhaseToElevation - DEM Generation\n",
      "Polarimetric-Parameters - Compute general polarimetric parameters\n",
      "DecisionTree - Perform decision tree classification\n",
      "Multitemporal-Compositing - Compute composite image from multi-temporal RTCs\n",
      "Warp - Create Warp Function And Get Co-registrated Images\n",
      "Three-passDInSAR - Differential Interferometry\n",
      "c2rcc.landsat7 - Performs atmospheric correction and IOP retrieval with uncertainties on Landsat-7 L1 data products.\n",
      "Forest-Area-Detection - Detect forest area.\n",
      "MtciOp - The Meris Terrestrial Chlorophyll Index estimates the Red Edge Position (REP).\n",
      "c2rcc.olci - Performs atmospheric correction and IOP retrieval with uncertainties on SENTINEL-3 OLCI L1B data products.\n",
      "Apply-Orbit-File - Apply orbit file\n",
      "Speckle-Divergence - Detect urban area.\n",
      "Mosaic - Creates a mosaic out of a set of source products.\n",
      "PhaseToHeight - Phase to Height conversion\n",
      "ThermalNoiseRemoval - Removes thermal noise from products\n",
      "Land-Cover-Mask - Perform a masking based on land cover classes\n",
      "MultiMasterInSAR - Multi-master InSAR processing\n",
      "Orientation-Angle-Correction - Perform polarization orientation angle correction for given coherency matrix\n",
      "MphChlOlci - Computes maximum peak height of chlorophyll for OLCI. Implements OLCI-specific parts.\n",
      "SliceAssembly - Merges Sentinel-1 slice products\n",
      "Meris.CorrectRadiometry - Performs radiometric corrections on MERIS L1b data products.\n",
      "Stack-Averaging - Averaging multi-temporal images\n",
      "Meris.CloudTopPressureOp - Computes cloud top pressure with FUB NN.\n",
      "RayleighCorrection - Performs radiometric corrections on OLCI, MERIS L1B and S2 MSI L1C data products.\n",
      "RangeFilter - Range Filter\n",
      "EsaSnappyPyOp - Uses Python code to process data products\n",
      "Convert-Datatype - Convert product data type\n",
      "EMClusterAnalysis - Performs an expectation-maximization (EM) cluster analysis.\n",
      "c2rcc.msi - Performs atmospheric correction and IOP retrieval with uncertainties on Sentinel-2 MSI L1C data products.\n",
      "SAR-Simulation - Rigorous SAR Simulation\n",
      "Undersample - Undersample the datset\n",
      "c2rcc.meris4 - Performs atmospheric correction and IOP retrieval with uncertainties on MERIS L1b data products from the 4th reprocessing.\n",
      "FlhMci - Computes fluorescence line height (FLH) or maximum chlorophyll index (MCI).\n",
      "DarkObjectSubtraction - Performs dark object subtraction for spectral bands in source product.\n",
      "Cross-Channel-SNR-Correction - Compute general polarimetric parameters\n",
      "BandsDifferenceOp - None\n",
      "GLCM - Extract Texture Features\n",
      "GemiOp - This retrieves the Global Environmental Monitoring Index (GEMI).\n",
      "TileWriter - Writes a data product to a tiles.\n",
      "RemoteExecutionOp - Executes a slave graph on a remote machine and uses the resulted products as an input for the master graph executed on the host machine.\n",
      "S1-ETAD-Correction - ETAD correction of S-1 TOPS/SM/GRD products\n",
      "MoreThenAnIntegerOp - just for testing\n",
      "Stack-Split - Writes all bands to files.\n",
      "IEM-Multi-Angle-Inversion - Performs IEM inversion using Multi-angle approach\n",
      "IreciOp - Inverted red-edge chlorophyll index\n",
      "Meris.CloudShadow - None\n",
      "Read - Reads a data product from a given file location.\n",
      "SmacOp - Applies the Simplified Method for Atmospheric Corrections of Envisat MERIS/(A)ATSR measurements.\n",
      "EAP-Phase-Correction - EAP Phase Correction\n",
      "SmileCorrection.Olci - Performs radiometric corrections on OLCI L1b data products.\n",
      "ReplaceMetadata - Replace the metadata of the first product with that of the second\n",
      "FillBand - None\n",
      "DeburstWSS - Debursts an ASAR WSS product\n",
      "ProductSet-Reader - Adds a list of sources\n",
      "c2rcc.meris - Performs atmospheric correction and IOP retrieval with uncertainties on MERIS L1b data products.\n",
      "ALOS-Deskewing - Deskewing ALOS product\n",
      "Multi-size Mosaic - Creates a multi-size mosaic out of a set of source products.\n",
      "WriteRGB - Creates an RGB image from three source bands.\n",
      "Azimuth-Shift-Estimation-ESD - Estimate azimuth offset for the whole image\n",
      "Remove-GRD-Border-Noise - Mask no-value pixels for GRD product\n",
      "Subset - Create a spatial and/or spectral subset of a data product.\n",
      "S2tbx-Reproject - Reprojection of a source product to a target Coordinate Reference System.\n",
      "NdwiOp - The Normalized Difference Water Index was developed for the extraction of water features\n",
      "GaborFilter - Extract Texture Features\n",
      "Update-Geo-Reference - Update Geo Reference\n",
      "TOPSAR-Split - Creates a new product with only the selected subswath\n",
      "AATSR.Ungrid - Ungrids (A)ATSR L1B products and extracts geolocation and pixel field of view data.\n",
      "PpeFiltering - Performs Prompt Particle Event (PPE) filtering on OLCI L1B\n",
      "PduStitching - Stitches multiple SLSTR L1B product dissemination units (PDUs) of the same orbit to a single product.\n",
      "FillAerosol - None\n",
      "BandSelect - Creates a new product with only selected bands\n",
      "Data-Analysis - Computes statistics\n",
      "IonosphericCorrection - Estimation of Ionospheric Phase Screens\n",
      "Speckle-Filter - Speckle Reduction\n",
      "Image-Filter - Common Image Processing Filters\n",
      "CrossResampling - Estimate Resampling Polynomial using SAR Image Geometry, and Resample Input Images\n",
      "SubGraph - Encapsulates a graph within a graph.\n",
      "Merge - Allows merging of several source products by using specified 'master' as reference product.\n",
      "McariOp - Modified Chlorophyll Absorption Ratio Index, developed to be responsive to chlorophyll variation\n",
      "BandsExtractorOp - Creates a new product out of the source product containing only the indexes bands given\n",
      "PCA - Performs a Principal Component Analysis.\n",
      "Random-Forest-Classifier - Random Forest based classifier\n",
      "SAR-Mosaic - Mosaics two or more products based on their geo-codings.\n",
      "MphChlMeris - Computes maximum peak height of chlorophyll for MERIS. Implements MERIS-specific parts.\n",
      "CreateStack - Collocates two or more products based on their geo-codings.\n",
      "AdaptiveThresholding - Detect ships using Constant False Alarm Rate detector.\n",
      "c2rcc.modis - Performs atmospheric correction and IOP retrieval on MODIS L1C_LAC data products.\n",
      "KDTree-KNN-Classifier - KDTree KNN classifier\n",
      "HorizontalVerticalMotion - Computation of Horizontal/Vertical Motion Components\n",
      "CiOp - Colour Index  was developed to differentiate soils in the field. It gives complementary information with the BI and the NDVI.\n",
      "IpviOp - Infrared Percentage Vegetation Index retrieves the Isovegetation lines converge at origin\n",
      "Arc.SST - Computes sea surface temperature (SST) from (A)ATSR and SLSTR products.\n",
      "IntegerInterferogram - Create integer interferogram\n",
      "Meris.GapLessSdr - None\n",
      "Mci.s2 - Computes maximum chlorophyll index (MCI) for Sentinel-2 MSI.\n",
      "FuClassification - Colour classification based on the discrete Forel-Ule scale\n"
     ]
    },
    {
     "data": {
      "text/plain": "{'WdviOp': 'Weighted Difference Vegetation Index retrieves the Isovegetation lines parallel to soil line.\\nSoil line has an arbitrary slope and passes through origin',\n 'Resample': 'Resampling of a multi-size source product to a single-size target product.',\n 'Maximum-Likelihood-Classifier': 'Maximum Likelihood classifier',\n 'RRToFRS': None,\n 'c2rcc.viirs': 'Performs atmospheric correction and IOP retrieval on Viirs L1C data products.',\n 'Enhanced-Spectral-Diversity': 'Estimate constant range and azimuth offsets for a stack of images',\n 'Double-Difference-Interferogram': 'Compute double difference interferogram',\n 'SnaphuExport': 'Export data and prepare conf file for SNAPHU processing',\n 'AddLandCover': 'Creates a land cover band',\n 'Forest-Area-Classification': 'Detect forest area',\n 'LandWaterMask': 'Operator creating a target product with a single band containing a land/water-mask.',\n 'PassThrough': 'Sets target product to source product.',\n 'Meris.Sdr': None,\n 'CloudProb': 'Applies a clear sky conservative cloud detection algorithm.',\n 'Meris.LandClassification': 'MERIS L2 land/water reclassification.',\n 'Import-Vector': 'Imports a shape file into a product',\n 'NdtiOp': 'Normalized difference turbidity index, allowing for the measurement of water turbidity',\n 'Ellipsoid-Correction-RD': 'Ellipsoid correction with RD method and average scene height',\n 'TOPSAR-DerampDemod': 'Bursts co-registration using orbit and DEM',\n 'IEM-Multi-Pol-Inversion': 'Performs IEM inversion using Multi-polarization approach',\n 'AddElevation': 'Creates a DEM band',\n 'Supervised-Wishart-Classification': 'Perform supervised Wishart classification',\n 'CP-Stokes-Parameters': 'Generates compact polarimetric Stokes child parameters',\n 'RviOp': 'Ratio Vegetation Index retrieves the Isovegetation lines converge at origin',\n 'S2repOp': 'Sentinel-2 red-edge position index',\n 'BiophysicalOp': \"The 'Biophysical Processor' operator retrieves LAI from atmospherically corrected Sentinel-2 products\",\n 'RemoveAntennaPattern': 'Remove Antenna Pattern',\n 'Meris.Brr': 'Performs the Rayleigh correction on a MERIS L1b product.',\n 'Binning': \"Performs spatial and temporal aggregation of pixel values into cells ('bins') of a planetary grid\",\n 'CoregistrationOp': 'Coregisters two rasters, not considering their location',\n 'StatisticsOp': 'Computes statistics for an arbitrary number of source products.',\n 'ReflectanceToRadianceOp': \"The 'Reflectance To Radiance Processor' operator retrieves the radiance from reflectance using Sentinel-2 products\",\n 'PssraOp': 'Pigment Specific Simple Ratio, chlorophyll index',\n 'StoredGraph': 'Encapsulates an stored graph into an operator.',\n 'CP-Decomposition': 'Perform Compact Polarimetric decomposition of a given product',\n 'Ellipsoid-Correction-GG': 'GG method for orthorectification',\n 'MphChl': 'This operator computes maximum peak height of chlorophyll (MPH/CHL).',\n 'AzimuthFilter': 'Azimuth Filter',\n 'BandMerge': \"Allows copying raster data from any number of source products to a specified 'master' product.\",\n 'SARSim-Terrain-Correction': 'Orthorectification with SAR simulation',\n 'DEM-Assisted-Coregistration': 'Orbit and DEM based co-registration',\n 'LinearToFromdB': 'Converts bands to/from dB',\n 'Ndi45Op': 'Normalized Difference Index using bands 4 and 5',\n 'PhaseToDisplacement': 'Phase To Displacement Conversion along LOS',\n 'TsaviOp': 'This retrieves the Transformed Soil Adjusted Vegetation Index (TSAVI).',\n 'OlciSensorHarmonisation': \"Performs sensor harmonisation on OLCI L1b product. Implements algorithm described in 'OLCI A/B Tandem Phase Analysis'\",\n 'SaviOp': 'This retrieves the Soil-Adjusted Vegetation Index (SAVI).',\n 'SRGR': 'Converts Slant Range to Ground Range',\n 'Generalized-Radar-Vegetation-Index': 'Generalized Radar Vegetation Indices generation',\n 'Aatsr.SST': 'Computes sea surface temperature (SST) from (A)ATSR products.',\n 'Unmix': 'Performs a linear spectral unmixing.',\n 'Write': 'Writes a data product to a file.',\n 'MsaviOp': 'This retrieves the Modified Soil Adjusted Vegetation Index (MSAVI).',\n 'Biophysical10mOp': \"The 'Biophysical Processor' operator retrieves LAI from atmospherically corrected Sentinel-2 products\",\n 'Offset-Tracking': 'Create velocity vectors from offset tracking',\n 'S2Resampling': 'Specific S2 resample algorithm',\n 'InSAR-Overview': 'InSAR summary and optimal reference selection.',\n 'GoldsteinPhaseFiltering': 'Phase Filtering',\n 'CP-Simulation': 'Simulation of Compact Pol data from Quad Pol data',\n 'BiOp': 'The Brightness index represents the average of the brightness of a satellite image.',\n 'c2rcc.landsat8': 'Performs atmospheric correction and IOP retrieval with uncertainties on Landsat-8 L1 data products.',\n 'NdviOp': 'The retrieves the Normalized Difference Vegetation Index (NDVI).',\n 'Coherence': 'Estimate coherence from stack of coregistered images',\n 'Meris.BlueBand': None,\n 'OlciO2aHarmonisation': 'Performs O2A band harmonisation on OLCI L1b product. Implements update v4 of R.Preusker, June 2020.',\n 'BandPassFilter': 'Creates a basebanded SLC based on a subband of 1/3 the original bandwidth',\n 'c2rcc': 'Performs atmospheric correction and IOP retrieval on OLCI, MSI, MERIS, MODIS or SeaWiFS L1 product.',\n 'Meris.GaseousCorrection': 'MERIS L2 gaseous absorbtion correction.',\n 'SpectralAngleMapperOp': 'Classifies a product using the spectral angle mapper algorithm',\n 'GaseousAbsorption': 'Correct the influence of atmospheric gas absorption for those OLCI channels.',\n 'Object-Discrimination': 'Remove false alarms from the detected objects.',\n 'Oil-Spill-Clustering': 'Remove small clusters from detected area.',\n 'Ndwi2Op': 'The Normalized Difference Water Index, allowing for the measurement of surface water extent',\n 'TopoPhaseRemoval': 'Compute and subtract TOPO phase',\n 'ChangeVectorAnalysisOp': \"The 'Change Vector Analysis' between two dual bands at two differents dates.\",\n 'Multi-Temporal-Speckle-Filter': 'Speckle Reduction using Multitemporal Filtering',\n 'GRD-Post': 'Applies GRD post-processing',\n 'Wind-Field-Estimation': 'Estimate wind speed and direction',\n 'Remodulate': 'Remodulation and reramping of SLC data',\n 'Fill-DEM-Hole': 'Fill holes in given DEM product file.',\n 'Oil-Spill-Detection': 'Detect oil spill.',\n 'Meris.CloudClassification': 'MERIS L2 cloud classification.',\n 'TemporalPercentile': 'Computes percentiles over a given time period.',\n 'StampsExport': 'Export data for StaMPS processing',\n 'Meris.Adapt.4To3': 'Provides the adaptation of MERIS L1b products from 4th to 3rd reprocessing.',\n 'SetNoDataValue': 'Set NoDataValueUsed flag and NoDataValue for all bands',\n 'ForestCoverChangeOp': 'Creates forest change masks out of two source products',\n 'Multilook': 'Averages the power across a number of lines in both the azimuth and range directions',\n 'TOPSAR-Merge': 'Merge subswaths of a Sentinel-1 TOPSAR product',\n 'KNN-Classifier': 'K-Nearest Neighbour classifier',\n 'DviOp': 'Difference Vegetation Index retrieves the Isovegetation lines parallel to soil line',\n 'L3ToL1': None,\n 'Terrain-Flattening': 'Terrain Flattening',\n 'EcostressSwath2GridOp': \"Performs ECOSTRESS Swath to Grid conversion to a specified CRS and radiance to brightness temperature conversion, using the algorithm from 'ECOSTRESS Swath to Grid Conversion Script' by LP DAAC (https://git.earthdata.nasa.gov/projects/LPDUR/repos/ecostress_swath2grid/).\",\n 'Msavi2Op': 'This retrieves the second Modified Soil Adjusted Vegetation Index (MSAVI2).',\n 'RiOp': 'The Redness Index was developed to identify soil colour variations.',\n 'Interferogram': 'Compute interferograms from stack of coregistered S-1 images',\n 'Reproject': 'Reprojection of a source product to a target Coordinate Reference System.',\n 'Flip': 'flips a product horizontal/vertical',\n 'Land-Sea-Mask': 'Creates a bitmask defining land vs ocean.',\n 'Change-Detection': 'Change Detection.',\n 'IEM-Hybrid-Inversion': 'Performs IEM inversion using Hybrid approach',\n 'ReipOp': 'The red edge inflection point index',\n 'Bi2Op': 'The second Brightness index represents the average of the brightness of a satellite image.',\n 'Cross-Correlation': 'Automatic Selection of Ground Control Points',\n 'MultiMasterStackGenerator': 'Generates a set of master-slave pairs from a coregistered stack for use in SBAS processing',\n 'PixEx': 'Extracts pixels from given locations and source products.',\n 'Terrain-Mask': 'Terrain Mask Generation',\n 'SnaphuImport': 'Ingest SNAPHU results into InSAR product.',\n 'Terrain-Correction': 'RD method for orthorectification',\n 'BiophysicalLandsat8Op': \"The 'Biophysical Processor' operator retrieves LAI from atmospherically corrected Landsat8 products\",\n 'GenericRegionMergingOp': \"The 'Generic Region Merging' operator computes the distinct regions from a product\",\n 'Meris.RayleighCorrection': 'MERIS L2 rayleigh correction.',\n 'PviOp': 'Perpendicular Vegetation Index retrieves the Isovegetation lines parallel to soil line.\\nSoil line has an arbitrary slope and passes through origin',\n 'Meris.CombinedCloud': None,\n 'Calibration': 'Calibration of products',\n 'BatchSnaphuUnwrapOp': 'Downloads and executes SNAPHU on a set of two or more interferograms.',\n 'GndviOp': 'Green Normalized Difference Vegetation Index',\n 'Polarimetric-Decomposition': 'Perform Polarimetric decomposition of a given product',\n 'Compactpol-Radar-Vegetation-Index': 'Compact-pol Radar Vegetation Indices generation',\n 'Compute-Slope-Aspect': 'Compute Slope and Aspect from DEM',\n 'OWTClassification': 'Performs an optical water type classification based on atmospherically corrected reflectances.',\n 'Minimum-Distance-Classifier': 'Minimum Distance classifier',\n 'MndwiOp': 'Modified Normalized Difference Water Index, allowing for the measurement of surface water extent',\n 'Collocate': 'Collocates two products based on their geo-codings.',\n 'BandMaths': 'Create a product with one or more bands using mathematical expressions.',\n 'ToolAdapterOp': 'Tool Adapter Operator',\n 'Faraday-Rotation-Correction': 'Perform Faraday-rotation correction for quad-pol product',\n 'Meris.CloudProbability': None,\n 'Principle-Components': 'Principle Component Analysis',\n 'Polarimetric-Matrices': 'Generates covariance or coherency matrix for given product',\n 'SM-Dielectric-Modeling': 'Performs SM inversion using dielectric model',\n 'Demodulate': 'Demodulation and deramping of SLC data',\n 'SimulateAmplitude': 'Simulate amplitude based on DEM',\n 'Polarimetric-Speckle-Filter': 'Polarimetric Speckle Reduction',\n 'MphChlBasis': 'Computes maximum peak height of chlorophyll. Basis class, contains sensor-independent parts.',\n 'Rad2Refl': 'Provides conversion from radiances to reflectances or backwards.',\n 'OlciAnomalyFlagging': 'Adds a flagging band indicating saturated pixels and altitude data overflows',\n 'FUB.Water': 'MERIS FUB-CSIRO Coastal Water Processor to retrieve case II water properties and atmospheric properties',\n 'KMeansClusterAnalysis': 'Performs a K-Means cluster analysis.',\n 'NdpiOp': 'The normalized differential pond index, combines the short-wave infrared band-I and the green band',\n 'c2rcc.seawifs': 'Performs atmospheric correction and IOP retrieval on SeaWifs L1C data products.',\n 'Radar-Vegetation-Index': 'Dual-pol Radar Vegetation Indices generation',\n 'Flood-Detection': 'Detect flooded area.',\n 'Back-Geocoding': 'Bursts co-registration using orbit and DEM',\n 'TileCache': 'Experimental Operator which provides a dedicated cache for its source product.\\nA guide on how this operator is used is provided at https://senbox.atlassian.net/wiki/x/VQCTLw.',\n 'TndviOp': 'Transformed Normalized Difference Vegetation Index retrieves the Isovegetation lines parallel to soil line',\n 'TOPSAR-Deburst': 'Debursts a Sentinel-1 TOPSAR product',\n 'Oversample': 'Oversample the datset',\n 'ArviOp': 'Atmospherically Resistant Vegetation Index belongs to a family of indices with built-in atmospheric corrections.',\n 'Polarimetric-Classification': 'Perform Polarimetric classification of a given product',\n 'Meris.N1Patcher': 'Copies an existing N1 file and replaces the data for the radiance bands',\n 'Meris.SmileCorrection': None,\n 'PhaseToElevation': 'DEM Generation',\n 'Polarimetric-Parameters': 'Compute general polarimetric parameters',\n 'DecisionTree': 'Perform decision tree classification',\n 'Multitemporal-Compositing': 'Compute composite image from multi-temporal RTCs',\n 'Warp': 'Create Warp Function And Get Co-registrated Images',\n 'Three-passDInSAR': 'Differential Interferometry',\n 'c2rcc.landsat7': 'Performs atmospheric correction and IOP retrieval with uncertainties on Landsat-7 L1 data products.',\n 'Forest-Area-Detection': 'Detect forest area.',\n 'MtciOp': 'The Meris Terrestrial Chlorophyll Index estimates the Red Edge Position (REP).',\n 'c2rcc.olci': 'Performs atmospheric correction and IOP retrieval with uncertainties on SENTINEL-3 OLCI L1B data products.',\n 'Apply-Orbit-File': 'Apply orbit file',\n 'Speckle-Divergence': 'Detect urban area.',\n 'Mosaic': 'Creates a mosaic out of a set of source products.',\n 'PhaseToHeight': 'Phase to Height conversion',\n 'ThermalNoiseRemoval': 'Removes thermal noise from products',\n 'Land-Cover-Mask': 'Perform a masking based on land cover classes',\n 'MultiMasterInSAR': 'Multi-master InSAR processing',\n 'Orientation-Angle-Correction': 'Perform polarization orientation angle correction for given coherency matrix',\n 'MphChlOlci': 'Computes maximum peak height of chlorophyll for OLCI. Implements OLCI-specific parts.',\n 'SliceAssembly': 'Merges Sentinel-1 slice products',\n 'Meris.CorrectRadiometry': 'Performs radiometric corrections on MERIS L1b data products.',\n 'Stack-Averaging': 'Averaging multi-temporal images',\n 'Meris.CloudTopPressureOp': 'Computes cloud top pressure with FUB NN.',\n 'RayleighCorrection': 'Performs radiometric corrections on OLCI, MERIS L1B and S2 MSI L1C data products.',\n 'RangeFilter': 'Range Filter',\n 'EsaSnappyPyOp': 'Uses Python code to process data products',\n 'Convert-Datatype': 'Convert product data type',\n 'EMClusterAnalysis': 'Performs an expectation-maximization (EM) cluster analysis.',\n 'c2rcc.msi': 'Performs atmospheric correction and IOP retrieval with uncertainties on Sentinel-2 MSI L1C data products.',\n 'SAR-Simulation': 'Rigorous SAR Simulation',\n 'Undersample': 'Undersample the datset',\n 'c2rcc.meris4': 'Performs atmospheric correction and IOP retrieval with uncertainties on MERIS L1b data products from the 4th reprocessing.',\n 'FlhMci': 'Computes fluorescence line height (FLH) or maximum chlorophyll index (MCI).',\n 'DarkObjectSubtraction': 'Performs dark object subtraction for spectral bands in source product.',\n 'Cross-Channel-SNR-Correction': 'Compute general polarimetric parameters',\n 'BandsDifferenceOp': None,\n 'GLCM': 'Extract Texture Features',\n 'GemiOp': 'This retrieves the Global Environmental Monitoring Index (GEMI).',\n 'TileWriter': 'Writes a data product to a tiles.',\n 'RemoteExecutionOp': 'Executes a slave graph on a remote machine and uses the resulted products as an input for the master graph executed on the host machine.',\n 'S1-ETAD-Correction': 'ETAD correction of S-1 TOPS/SM/GRD products',\n 'MoreThenAnIntegerOp': 'just for testing',\n 'Stack-Split': 'Writes all bands to files.',\n 'IEM-Multi-Angle-Inversion': 'Performs IEM inversion using Multi-angle approach',\n 'IreciOp': 'Inverted red-edge chlorophyll index',\n 'Meris.CloudShadow': None,\n 'Read': 'Reads a data product from a given file location.',\n 'SmacOp': 'Applies the Simplified Method for Atmospheric Corrections of Envisat MERIS/(A)ATSR measurements.',\n 'EAP-Phase-Correction': 'EAP Phase Correction',\n 'SmileCorrection.Olci': 'Performs radiometric corrections on OLCI L1b data products.',\n 'ReplaceMetadata': 'Replace the metadata of the first product with that of the second',\n 'FillBand': None,\n 'DeburstWSS': 'Debursts an ASAR WSS product',\n 'ProductSet-Reader': 'Adds a list of sources',\n 'c2rcc.meris': 'Performs atmospheric correction and IOP retrieval with uncertainties on MERIS L1b data products.',\n 'ALOS-Deskewing': 'Deskewing ALOS product',\n 'Multi-size Mosaic': 'Creates a multi-size mosaic out of a set of source products.',\n 'WriteRGB': 'Creates an RGB image from three source bands.',\n 'Azimuth-Shift-Estimation-ESD': 'Estimate azimuth offset for the whole image',\n 'Remove-GRD-Border-Noise': 'Mask no-value pixels for GRD product',\n 'Subset': 'Create a spatial and/or spectral subset of a data product.',\n 'S2tbx-Reproject': 'Reprojection of a source product to a target Coordinate Reference System.',\n 'NdwiOp': 'The Normalized Difference Water Index was developed for the extraction of water features',\n 'GaborFilter': 'Extract Texture Features',\n 'Update-Geo-Reference': 'Update Geo Reference',\n 'TOPSAR-Split': 'Creates a new product with only the selected subswath',\n 'AATSR.Ungrid': 'Ungrids (A)ATSR L1B products and extracts geolocation and pixel field of view data.',\n 'PpeFiltering': 'Performs Prompt Particle Event (PPE) filtering on OLCI L1B',\n 'PduStitching': 'Stitches multiple SLSTR L1B product dissemination units (PDUs) of the same orbit to a single product.',\n 'FillAerosol': None,\n 'BandSelect': 'Creates a new product with only selected bands',\n 'Data-Analysis': 'Computes statistics',\n 'IonosphericCorrection': 'Estimation of Ionospheric Phase Screens',\n 'Speckle-Filter': 'Speckle Reduction',\n 'Image-Filter': 'Common Image Processing Filters',\n 'CrossResampling': 'Estimate Resampling Polynomial using SAR Image Geometry, and Resample Input Images',\n 'SubGraph': 'Encapsulates a graph within a graph.',\n 'Merge': \"Allows merging of several source products by using specified 'master' as reference product.\",\n 'McariOp': 'Modified Chlorophyll Absorption Ratio Index, developed to be responsive to chlorophyll variation',\n 'BandsExtractorOp': 'Creates a new product out of the source product containing only the indexes bands given',\n 'PCA': 'Performs a Principal Component Analysis.',\n 'Random-Forest-Classifier': 'Random Forest based classifier',\n 'SAR-Mosaic': 'Mosaics two or more products based on their geo-codings.',\n 'MphChlMeris': 'Computes maximum peak height of chlorophyll for MERIS. Implements MERIS-specific parts.',\n 'CreateStack': 'Collocates two or more products based on their geo-codings.',\n 'AdaptiveThresholding': 'Detect ships using Constant False Alarm Rate detector.',\n 'c2rcc.modis': 'Performs atmospheric correction and IOP retrieval on MODIS L1C_LAC data products.',\n 'KDTree-KNN-Classifier': 'KDTree KNN classifier',\n 'HorizontalVerticalMotion': 'Computation of Horizontal/Vertical Motion Components',\n 'CiOp': 'Colour Index  was developed to differentiate soils in the field. It gives complementary information with the BI and the NDVI.',\n 'IpviOp': 'Infrared Percentage Vegetation Index retrieves the Isovegetation lines converge at origin',\n 'Arc.SST': 'Computes sea surface temperature (SST) from (A)ATSR and SLSTR products.',\n 'IntegerInterferogram': 'Create integer interferogram',\n 'Meris.GapLessSdr': None,\n 'Mci.s2': 'Computes maximum chlorophyll index (MCI) for Sentinel-2 MSI.',\n 'FuClassification': 'Colour classification based on the discrete Forel-Ule scale'}"
     },
     "execution_count": 17,
     "metadata": {},
     "output_type": "execute_result"
    }
   ],
   "source": [
    "g.describe_operators()"
   ]
  },
  {
   "cell_type": "markdown",
   "metadata": {},
   "source": [
    "Create a linear graph"
   ]
  },
  {
   "cell_type": "code",
   "execution_count": 18,
   "metadata": {},
   "outputs": [
    {
     "name": "stdout",
     "output_type": "stream",
     "text": [
      "Adding Operator Read to graph\n",
      "Adding Operator Resample to graph\n",
      "Adding Operator Reproject to graph\n",
      "Adding Operator Subset to graph\n",
      "Adding Operator AddLandCover to graph\n",
      "Adding Operator Write to graph\n"
     ]
    }
   ],
   "source": [
    "g = Graph() \n",
    "\n",
    "read = Operator('Read')\n",
    "\n",
    "read.formatName = 'SENTINEL-1'\n",
    "read.file = 'some1'\n",
    "\n",
    "\n",
    "operators = [read,\n",
    "             'Resample',\n",
    "             'Reproject',\n",
    "             'Subset',\n",
    "             'AddLandCover',\n",
    "             'Write']\n",
    "\n",
    "for index, operator in enumerate(operators):\n",
    "    \n",
    "    print('Adding Operator {} to graph'.format(operator.operator if isinstance(operator, Operator) else operator))\n",
    "    if index == 0:            \n",
    "        source_node_id = ''\n",
    "\n",
    "    else:\n",
    "        source_node_id = operators[index - 1].operator if isinstance(operators[index - 1], Operator) else operators[index - 1]\n",
    "        \n",
    "        \n",
    "    g.add_node(operator if isinstance(operator, Operator) else Operator(operator),\n",
    "               operator.operator if isinstance(operator, Operator) else operator,\n",
    "               source_node_id)\n",
    "      "
   ]
  },
  {
   "cell_type": "code",
   "execution_count": 19,
   "metadata": {},
   "outputs": [
    {
     "name": "stdout",
     "output_type": "stream",
     "text": [
      "<graph>\n",
      "  <version>1.0</version>\n",
      "  <node id=\"Read\">\n",
      "    <operator>Read</operator>\n",
      "    <sources>\n",
      "      <sourceProduct refid=\"\"/>\n",
      "    </sources>\n",
      "    <parameters class=\"com.bc.ceres.binding.dom.XppDomElement\">\n",
      "      <bandNames/>\n",
      "      <copyMetadata>true</copyMetadata>\n",
      "      <file>some1</file>\n",
      "      <formatName>SENTINEL-1</formatName>\n",
      "      <geometryRegion/>\n",
      "      <maskNames/>\n",
      "      <pixelRegion/>\n",
      "      <useAdvancedOptions>false</useAdvancedOptions>\n",
      "    </parameters>\n",
      "  </node>\n",
      "  <node id=\"Resample\">\n",
      "    <operator>Resample</operator>\n",
      "    <sources>\n",
      "      <sourceProduct refid=\"Read\"/>\n",
      "    </sources>\n",
      "    <parameters class=\"com.bc.ceres.binding.dom.XppDomElement\">\n",
      "      <bandResamplings/>\n",
      "      <downsamplingMethod>First</downsamplingMethod>\n",
      "      <flagDownsamplingMethod>First</flagDownsamplingMethod>\n",
      "      <referenceBandName/>\n",
      "      <resampleOnPyramidLevels>true</resampleOnPyramidLevels>\n",
      "      <resamplingPreset/>\n",
      "      <targetHeight/>\n",
      "      <targetResolution/>\n",
      "      <targetWidth/>\n",
      "      <upsamplingMethod>Nearest</upsamplingMethod>\n",
      "    </parameters>\n",
      "  </node>\n",
      "  <node id=\"Reproject\">\n",
      "    <operator>Reproject</operator>\n",
      "    <sources>\n",
      "      <sourceProduct refid=\"Resample\"/>\n",
      "    </sources>\n",
      "    <parameters class=\"com.bc.ceres.binding.dom.XppDomElement\">\n",
      "      <addDeltaBands>false</addDeltaBands>\n",
      "      <crs/>\n",
      "      <easting/>\n",
      "      <elevationModelName/>\n",
      "      <height/>\n",
      "      <includeTiePointGrids>true</includeTiePointGrids>\n",
      "      <noDataValue/>\n",
      "      <northing/>\n",
      "      <orientation>0</orientation>\n",
      "      <orthorectify>false</orthorectify>\n",
      "      <pixelSizeX/>\n",
      "      <pixelSizeY/>\n",
      "      <referencePixelX/>\n",
      "      <referencePixelY/>\n",
      "      <resamplingName>Nearest</resamplingName>\n",
      "      <tileSizeX/>\n",
      "      <tileSizeY/>\n",
      "      <width/>\n",
      "      <wktFile/>\n",
      "    </parameters>\n",
      "  </node>\n",
      "  <node id=\"Subset\">\n",
      "    <operator>Subset</operator>\n",
      "    <sources>\n",
      "      <sourceProduct refid=\"Reproject\"/>\n",
      "    </sources>\n",
      "    <parameters class=\"com.bc.ceres.binding.dom.XppDomElement\">\n",
      "      <bandNames/>\n",
      "      <copyMetadata>false</copyMetadata>\n",
      "      <fullSwath>false</fullSwath>\n",
      "      <geoRegion/>\n",
      "      <referenceBand/>\n",
      "      <region/>\n",
      "      <subSamplingX>1</subSamplingX>\n",
      "      <subSamplingY>1</subSamplingY>\n",
      "      <tiePointGridNames/>\n",
      "    </parameters>\n",
      "  </node>\n",
      "  <node id=\"AddLandCover\">\n",
      "    <operator>AddLandCover</operator>\n",
      "    <sources>\n",
      "      <sourceProduct refid=\"Subset\"/>\n",
      "    </sources>\n",
      "    <parameters class=\"com.bc.ceres.binding.dom.XppDomElement\">\n",
      "      <externalFiles/>\n",
      "      <landCoverNames>AAFC Canada Sand Pct</landCoverNames>\n",
      "      <resamplingMethod>NEAREST_NEIGHBOUR</resamplingMethod>\n",
      "    </parameters>\n",
      "  </node>\n",
      "  <node id=\"Write\">\n",
      "    <operator>Write</operator>\n",
      "    <sources>\n",
      "      <sourceProduct refid=\"AddLandCover\"/>\n",
      "    </sources>\n",
      "    <parameters class=\"com.bc.ceres.binding.dom.XppDomElement\">\n",
      "      <clearCacheAfterRowWrite>false</clearCacheAfterRowWrite>\n",
      "      <deleteOutputOnFailure>true</deleteOutputOnFailure>\n",
      "      <file/>\n",
      "      <formatName>BEAM-DIMAP</formatName>\n",
      "      <writeEntireTileRows>false</writeEntireTileRows>\n",
      "    </parameters>\n",
      "  </node>\n",
      "</graph>\n",
      "\n"
     ]
    }
   ],
   "source": [
    "g.view()"
   ]
  },
  {
   "cell_type": "code",
   "execution_count": 20,
   "metadata": {},
   "outputs": [],
   "source": [
    "#g.run()"
   ]
  },
  {
   "cell_type": "markdown",
   "metadata": {},
   "source": [
    "## BandMaths"
   ]
  },
  {
   "cell_type": "code",
   "execution_count": 21,
   "metadata": {},
   "outputs": [],
   "source": [
    "band_maths = Operator('BandMaths')"
   ]
  },
  {
   "cell_type": "code",
   "execution_count": 22,
   "metadata": {},
   "outputs": [
    {
     "name": "stdout",
     "output_type": "stream",
     "text": [
      "Operator name: BandMaths\n",
      "\n",
      "Description: Create a product with one or more bands using mathematical expressions.\n",
      "Authors: Marco Zuehlke, Norman Fomferra, Marco Peters\n",
      "\n",
      "org.esa.snap.core.gpf.common.BandMathsOp\n",
      "Version: 1.1\n",
      "\n",
      "Parameters:\n",
      "\n",
      "\ttargetBandDescriptors: List of descriptors defining the target bands.\n",
      "\t\tDefault Value: None\n",
      "\n",
      "\t\tPossible values: []\n",
      "\n",
      "\tvariables: List of variables which can be used within the expressions.\n",
      "\t\tDefault Value: None\n",
      "\n",
      "\t\tPossible values: []\n",
      "\n"
     ]
    }
   ],
   "source": [
    "band_maths.describe()"
   ]
  },
  {
   "cell_type": "markdown",
   "metadata": {},
   "source": [
    "<targetBand>\n",
    "          <name>active_fire_detected</name>\n",
    "          <type>float32</type>\n",
    "          <expression>S9_BT_in &lt; 265 ? 0 : F1_BT_in &gt; 315 and (F1_BT_in - F2_BT_in) &gt; 15 ? 1 : 0</expression>\n",
    "          <description/>\n",
    "          <unit/>\n",
    "          <noDataValue>NaN</noDataValue>\n",
    "        </targetBand>"
   ]
  },
  {
   "cell_type": "code",
   "execution_count": 23,
   "metadata": {},
   "outputs": [],
   "source": [
    "active_fire_band = TargetBand(name='active_fire_detected',\n",
    "                              expression='S9_BT_in &lt; 265 ? 0 : F1_BT_in &gt; 315 and (F1_BT_in - F2_BT_in) &gt; 15 ? 1 : 0')"
   ]
  },
  {
   "cell_type": "code",
   "execution_count": 24,
   "metadata": {},
   "outputs": [
    {
     "data": {
      "text/plain": "TargetBand(name='active_fire_detected', expression='S9_BT_in &lt; 265 ? 0 : F1_BT_in &gt; 315 and (F1_BT_in - F2_BT_in) &gt; 15 ? 1 : 0', type='float32', description=None, unit=None, no_data_value='NaN')"
     },
     "execution_count": 24,
     "metadata": {},
     "output_type": "execute_result"
    }
   ],
   "source": [
    "active_fire_band"
   ]
  },
  {
   "cell_type": "code",
   "execution_count": 25,
   "metadata": {},
   "outputs": [],
   "source": [
    "band_maths.targetBandDescriptors = TargetBandDescriptors([active_fire_band])"
   ]
  },
  {
   "cell_type": "code",
   "execution_count": 26,
   "metadata": {},
   "outputs": [],
   "source": [
    "g = Graph()\n",
    "\n",
    "g.add_node(operator=Operator('Read'), \n",
    "           node_id='read_1')"
   ]
  },
  {
   "cell_type": "code",
   "execution_count": 27,
   "metadata": {},
   "outputs": [
    {
     "name": "stdout",
     "output_type": "stream",
     "text": [
      "targetBandDescriptors <snapista.target_band_descriptors.TargetBandDescriptors object at 0x000001AF48244640>\n"
     ]
    }
   ],
   "source": [
    "g.add_node(operator=band_maths, \n",
    "           node_id='band_maths', \n",
    "           source='read_1')"
   ]
  },
  {
   "cell_type": "code",
   "execution_count": 28,
   "metadata": {},
   "outputs": [
    {
     "name": "stdout",
     "output_type": "stream",
     "text": [
      "<graph>\n",
      "  <version>1.0</version>\n",
      "  <node id=\"read_1\">\n",
      "    <operator>Read</operator>\n",
      "    <sources/>\n",
      "    <parameters class=\"com.bc.ceres.binding.dom.XppDomElement\">\n",
      "      <bandNames/>\n",
      "      <copyMetadata>true</copyMetadata>\n",
      "      <file/>\n",
      "      <formatName/>\n",
      "      <geometryRegion/>\n",
      "      <maskNames/>\n",
      "      <pixelRegion/>\n",
      "      <useAdvancedOptions>false</useAdvancedOptions>\n",
      "    </parameters>\n",
      "  </node>\n",
      "  <node id=\"band_maths\">\n",
      "    <operator>BandMaths</operator>\n",
      "    <sources>\n",
      "      <sourceProduct refid=\"read_1\"/>\n",
      "    </sources>\n",
      "    <parameters class=\"com.bc.ceres.binding.dom.XppDomElement\">\n",
      "      <targetBands>\n",
      "        <targetBand>\n",
      "          <name>active_fire_detected</name>\n",
      "          <expression>S9_BT_in &amp;lt; 265 ? 0 : F1_BT_in &amp;gt; 315 and (F1_BT_in - F2_BT_in) &amp;gt; 15 ? 1 : 0</expression>\n",
      "          <type>float32</type>\n",
      "          <description/>\n",
      "          <unit/>\n",
      "          <no_data_value>NaN</no_data_value>\n",
      "        </targetBand>\n",
      "      </targetBands>\n",
      "      <variables/>\n",
      "    </parameters>\n",
      "  </node>\n",
      "</graph>\n",
      "\n"
     ]
    }
   ],
   "source": [
    "g.view()"
   ]
  },
  {
   "cell_type": "markdown",
   "metadata": {},
   "source": [
    "## Binning"
   ]
  },
  {
   "cell_type": "code",
   "execution_count": 29,
   "metadata": {},
   "outputs": [],
   "source": [
    "%load_ext autoreload\n",
    "%autoreload 2\n",
    "\n",
    "from snapista.binning import aggregators\n",
    "from snapista.binning import BinningVariable, BinningOutputBands, BinningBand, Aggregators\n",
    "from snapista import Graph\n",
    "from snapista import Operator\n",
    "import lxml.etree as etree\n"
   ]
  },
  {
   "cell_type": "code",
   "execution_count": 30,
   "metadata": {},
   "outputs": [
    {
     "ename": "TypeError",
     "evalue": "AggregatorAvg.__init__() got an unexpected keyword argument 'var_name'",
     "output_type": "error",
     "traceback": [
      "\u001B[1;31m---------------------------------------------------------------------------\u001B[0m",
      "\u001B[1;31mTypeError\u001B[0m                                 Traceback (most recent call last)",
      "Cell \u001B[1;32mIn[30], line 1\u001B[0m\n\u001B[1;32m----> 1\u001B[0m ag \u001B[38;5;241m=\u001B[39m \u001B[43maggregators\u001B[49m\u001B[38;5;241;43m.\u001B[39;49m\u001B[43mAggregatorAvg\u001B[49m\u001B[43m(\u001B[49m\u001B[43mvar_name\u001B[49m\u001B[38;5;241;43m=\u001B[39;49m\u001B[38;5;124;43m'\u001B[39;49m\u001B[38;5;124;43mpippo\u001B[39;49m\u001B[38;5;124;43m'\u001B[39;49m\u001B[43m,\u001B[49m\u001B[43m \u001B[49m\u001B[43mtarget_name\u001B[49m\u001B[38;5;241;43m=\u001B[39;49m\u001B[38;5;124;43m\"\u001B[39;49m\u001B[38;5;124;43mtarget_name\u001B[39;49m\u001B[38;5;124;43m\"\u001B[39;49m\u001B[43m,\u001B[49m\u001B[43m \u001B[49m\u001B[43moutput_counts\u001B[49m\u001B[38;5;241;43m=\u001B[39;49m\u001B[38;5;124;43m'\u001B[39;49m\u001B[38;5;124;43mtrue\u001B[39;49m\u001B[38;5;124;43m'\u001B[39;49m\u001B[43m)\u001B[49m\n",
      "\u001B[1;31mTypeError\u001B[0m: AggregatorAvg.__init__() got an unexpected keyword argument 'var_name'"
     ]
    }
   ],
   "source": [
    "ag = aggregators.AggregatorAvg(var_name='pippo', target_name=\"target_name\", output_counts='true')"
   ]
  },
  {
   "cell_type": "code",
   "execution_count": null,
   "metadata": {},
   "outputs": [],
   "source": [
    "ag.to_dict()"
   ]
  },
  {
   "cell_type": "code",
   "execution_count": null,
   "metadata": {},
   "outputs": [],
   "source": []
  },
  {
   "cell_type": "code",
   "execution_count": null,
   "metadata": {},
   "outputs": [],
   "source": [
    "bv = BinningVariable(name='pippo', expression='aa', valid_expression='aa')"
   ]
  },
  {
   "cell_type": "code",
   "execution_count": null,
   "metadata": {},
   "outputs": [],
   "source": [
    "bv"
   ]
  },
  {
   "cell_type": "code",
   "execution_count": null,
   "metadata": {},
   "outputs": [],
   "source": [
    "bv.to_xml()"
   ]
  },
  {
   "cell_type": "code",
   "execution_count": null,
   "metadata": {},
   "outputs": [],
   "source": []
  },
  {
   "cell_type": "code",
   "execution_count": null,
   "metadata": {},
   "outputs": [],
   "source": [
    "etree.tostring(bv.to_xml())"
   ]
  },
  {
   "cell_type": "code",
   "execution_count": null,
   "metadata": {},
   "outputs": [],
   "source": [
    "bb = BinningBand(index=\"0\", name='aa', min_value=0, max_value=100)"
   ]
  },
  {
   "cell_type": "code",
   "execution_count": null,
   "metadata": {},
   "outputs": [],
   "source": [
    "ob = BinningOutputBands([bb])"
   ]
  },
  {
   "cell_type": "code",
   "execution_count": null,
   "metadata": {},
   "outputs": [],
   "source": [
    "etree.tostring(ob.to_xml())"
   ]
  },
  {
   "cell_type": "code",
   "execution_count": null,
   "metadata": {},
   "outputs": [],
   "source": [
    "[bv]"
   ]
  },
  {
   "cell_type": "code",
   "execution_count": null,
   "metadata": {},
   "outputs": [],
   "source": [
    "binning = Operator('Binning')"
   ]
  },
  {
   "cell_type": "code",
   "execution_count": null,
   "metadata": {},
   "outputs": [],
   "source": [
    "binning"
   ]
  },
  {
   "cell_type": "code",
   "execution_count": null,
   "metadata": {},
   "outputs": [],
   "source": [
    "binning.aggregatorConfigs = Aggregators([ag])\n",
    "binning.bandConfigurations = BinningOutputBands([bb])\n",
    "binning"
   ]
  },
  {
   "cell_type": "code",
   "execution_count": null,
   "metadata": {},
   "outputs": [],
   "source": [
    "import os\n",
    "os.environ['PATH'] = '/srv/conda/envs/env_snap/snap/bin:' +  os.environ['PATH']"
   ]
  },
  {
   "cell_type": "code",
   "execution_count": null,
   "metadata": {},
   "outputs": [],
   "source": [
    "g = Graph()\n",
    "\n",
    "g.add_node(operator=binning, \n",
    "           node_id='binning_1')"
   ]
  },
  {
   "cell_type": "code",
   "execution_count": null,
   "metadata": {},
   "outputs": [],
   "source": [
    "g.view()"
   ]
  },
  {
   "cell_type": "code",
   "execution_count": null,
   "metadata": {},
   "outputs": [],
   "source": []
  },
  {
   "cell_type": "code",
   "execution_count": null,
   "metadata": {},
   "outputs": [],
   "source": [
    "%load_ext autoreload\n",
    "%autoreload 2\n",
    "\n",
    "from snapista.binning import aggregators\n",
    "from snapista.binning import BinningVariable, BinningOutputBands, BinningBand, Aggregators, BinningVariables\n",
    "from snapista import Graph\n",
    "from snapista import Operator\n",
    "import lxml.etree as etree\n",
    "import os\n",
    "\n",
    "os.environ['PATH'] = '/srv/conda/envs/env_snap/snap/bin:' +  os.environ['PATH']\n",
    "\n",
    "ag = aggregators.AggregatorAvg(var_name='pippo', target_name=\"target_name\", output_counts='true')\n",
    "bv = BinningVariable(name='pippo', expression='aa', valid_expression='aa')\n",
    "bb = BinningBand(index=\"0\", name='aa', min_value=0, max_value=100)\n",
    "\n",
    "binning = Operator('Binning')\n",
    "\n",
    "binning.aggregatorConfigs = Aggregators([ag])\n",
    "binning.bandConfigurations = BinningOutputBands([bb])\n",
    "binning.variableConfigs = BinningVariables([bv])\n",
    "g = Graph()\n",
    "\n",
    "g.add_node(operator=binning, \n",
    "           node_id='binning_1')"
   ]
  },
  {
   "cell_type": "code",
   "execution_count": null,
   "metadata": {},
   "outputs": [],
   "source": [
    "g.view()"
   ]
  },
  {
   "cell_type": "code",
   "execution_count": null,
   "metadata": {},
   "outputs": [],
   "source": []
  },
  {
   "cell_type": "code",
   "execution_count": null,
   "metadata": {},
   "outputs": [],
   "source": []
  }
 ],
 "metadata": {
  "kernelspec": {
   "display_name": "Python 3",
   "language": "python",
   "name": "python3"
  },
  "language_info": {
   "codemirror_mode": {
    "name": "ipython",
    "version": 3
   },
   "file_extension": ".py",
   "mimetype": "text/x-python",
   "name": "python",
   "nbconvert_exporter": "python",
   "pygments_lexer": "ipython3",
   "version": "3.9.4"
  }
 },
 "nbformat": 4,
 "nbformat_minor": 4
}
