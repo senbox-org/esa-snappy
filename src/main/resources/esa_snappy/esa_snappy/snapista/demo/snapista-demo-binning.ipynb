{
 "cells": [
  {
   "cell_type": "markdown",
   "id": "e386c767",
   "metadata": {
    "collapsed": false,
    "jupyter": {
     "outputs_hidden": false
    }
   },
   "source": [
    "## Snapista Demo notebook - Creating a binning operator and running it in a graph..."
   ]
  },
  {
   "cell_type": "code",
   "execution_count": 1,
   "id": "1bc9294f-af44-4833-b67a-2a845d6f3c79",
   "metadata": {},
   "outputs": [
    {
     "name": "stdout",
     "output_type": "stream",
     "text": [
      "3.11.9 | packaged by Anaconda, Inc. | (main, Apr 19 2024, 16:40:41) [MSC v.1916 64 bit (AMD64)]\n",
      "Location of esa_snappy package: D:\\olaf\\miniconda3_py311\\Lib\\site-packages\\esa_snappy\n"
     ]
    }
   ],
   "source": [
    "# Some information...\n",
    "\n",
    "import os\n",
    "import sys\n",
    "print(sys.version)\n",
    "\n",
    "import sysconfig\n",
    "print(\"Location of esa_snappy package: \" + sysconfig.get_paths()['purelib'] + os.sep + \"esa_snappy\")"
   ]
  },
  {
   "cell_type": "code",
   "execution_count": 2,
   "id": "c4bf59c7-78f2-4e94-a6b9-da0c8a04368d",
   "metadata": {},
   "outputs": [],
   "source": [
    "# Import esa_snappy and snapista...\n",
    "\n",
    "import esa_snappy\n",
    "import snapista\n",
    "\n",
    "from snapista.binning import aggregators\n",
    "from snapista.binning import BinningVariable, BinningOutputBands, BinningBand, Aggregators, BinningVariables\n",
    "from snapista import Graph\n",
    "from snapista import Operator\n",
    "import lxml.etree as etree\n",
    "import os"
   ]
  },
  {
   "cell_type": "code",
   "execution_count": 3,
   "id": "ba09111e-e105-4b63-a838-9ec767191a73",
   "metadata": {},
   "outputs": [],
   "source": [
    "# Create an Aggregator for band 'IWV' (integrated water vapour column) in input products...\n",
    "\n",
    "ag = aggregators.AggregatorAvg(varName='IWV', targetName=\"iwv\", outputCounts='true', outputSums='true', weightCoeff=1.0)"
   ]
  },
  {
   "cell_type": "code",
   "execution_count": 4,
   "id": "bb37992a-5f51-4399-add4-e23c3493a188",
   "metadata": {},
   "outputs": [],
   "source": [
    "# Create a binning operator. Apply to band 'IWV'...\n",
    "\n",
    "binning = Operator('Binning')\n",
    "\n",
    "binning.sourceProductFormat = 'NetCDF4-BEAM'\n",
    "\n",
    "binning.aggregatorConfigs = Aggregators([ag,\n",
    "                                        aggregators.AggregatorAvgOutlier(varName='IWV', targetName='outlier'),\n",
    "                                         aggregators.AggregatorMinMax(varName='IWV', targetName='iwv'),\n",
    "                                        aggregators.AggregatorOnMaxSet(targetName='omvn', onMaxVarName='IWV', setVarNames='IWV'),\n",
    "                                        aggregators.AggregatorPercentile(varName='IWV', percentage=90, targetName='percent'),\n",
    "                                        aggregators.AggregatorSum(varName='IWV', targetName='sum')])\n",
    "\n",
    "binning.sourceProductPaths = './data/subset_1_of_S3A_OL_2*.nc'\n",
    "\n",
    "binning.outputFile = './data/snapista_demo_binning_result.nc'\n",
    "binning.outputFormat = 'NetCDF4-BEAM'"
   ]
  },
  {
   "cell_type": "code",
   "execution_count": 5,
   "id": "6fa5b71e-a3ae-4f78-a00d-e9c8795bfee3",
   "metadata": {},
   "outputs": [
    {
     "data": {
      "text/plain": [
       "Operator('Binning', sourceProductPaths='./data/subset_1_of_S3A_OL_2*.nc', sourceProductFormat='NetCDF4-BEAM', sourceGraphPaths='None', region='None', startDateTime='None', periodDuration='None', timeFilterMethod='NONE', minDataHour='None', numRows='2160', superSampling='1', maxDistanceOnEarth='-1', maskExpr='None', variableConfigs='None', aggregatorConfigs='<snapista.binning.aggregators.Aggregators object at 0x000001DCE25FA2D0>', postProcessorConfig='None', outputType='Product', outputFile='./data/snapista_demo_binning_result.nc', outputFormat='NetCDF4-BEAM', bandConfigurations='None', productCustomizerConfig='None', outputBinnedData='false', outputTargetProduct='true', metadataPropertiesFile='./metadata.properties', metadataTemplateDir='.', metadataAggregatorName='NAME', planetaryGridClass='org.esa.snap.binning.support.SEAGrid')"
      ]
     },
     "execution_count": 5,
     "metadata": {},
     "output_type": "execute_result"
    }
   ],
   "source": [
    "binning"
   ]
  },
  {
   "cell_type": "code",
   "execution_count": 6,
   "id": "e5c0e2c1-6896-4db7-b90d-ad2d7da9beb6",
   "metadata": {},
   "outputs": [
    {
     "name": "stdout",
     "output_type": "stream",
     "text": [
      "aggregatorConfigs <snapista.binning.aggregators.Aggregators object at 0x000001DCE25FA2D0>\n",
      "Instance TargetBandDescriptors: False\n",
      "Instance Aggregators: True\n",
      "Instance BinningOutputBands: False\n",
      "Instance BinningVariables: False\n",
      "Instance str: False\n",
      "bandConfigurations None\n",
      "postProcessorConfig None\n",
      "productCustomizerConfig None\n",
      "variableConfigs None\n"
     ]
    }
   ],
   "source": [
    "# Set up a graph...\n",
    "g = Graph()\n",
    "\n",
    "# Add binning operator to the graph\n",
    "g.add_node(operator=binning, \n",
    "           node_id='binning_1')"
   ]
  },
  {
   "cell_type": "code",
   "execution_count": 7,
   "id": "54468091-3227-419e-b949-f8b86fcb9eef",
   "metadata": {},
   "outputs": [
    {
     "name": "stdout",
     "output_type": "stream",
     "text": [
      "<graph>\n",
      "  <version>1.0</version>\n",
      "  <node id=\"binning_1\">\n",
      "    <operator>Binning</operator>\n",
      "    <sources/>\n",
      "    <parameters class=\"com.bc.ceres.binding.dom.XppDomElement\">\n",
      "      <aggregators>\n",
      "        <aggregator>\n",
      "          <type>AVG</type>\n",
      "          <varName>IWV</varName>\n",
      "          <targetName>iwv</targetName>\n",
      "          <weightCoeff>1.0</weightCoeff>\n",
      "          <outputCounts>true</outputCounts>\n",
      "          <outputSums>true</outputSums>\n",
      "        </aggregator>\n",
      "        <aggregator>\n",
      "          <type>AVG_OUTLIER</type>\n",
      "          <varName>IWV</varName>\n",
      "          <targetName>outlier</targetName>\n",
      "        </aggregator>\n",
      "        <aggregator>\n",
      "          <type>MIN_MAX</type>\n",
      "          <varName>IWV</varName>\n",
      "          <targetName>iwv</targetName>\n",
      "        </aggregator>\n",
      "        <aggregator>\n",
      "          <type>ON_MAX_SET</type>\n",
      "          <targetName>omvn</targetName>\n",
      "          <onMaxVarName>IWV</onMaxVarName>\n",
      "          <setVarNames>IWV</setVarNames>\n",
      "        </aggregator>\n",
      "        <aggregator>\n",
      "          <type>PERCENTILE</type>\n",
      "          <varName>IWV</varName>\n",
      "          <targetName>percent</targetName>\n",
      "          <percentage>90</percentage>\n",
      "        </aggregator>\n",
      "        <aggregator>\n",
      "          <type>SUM</type>\n",
      "          <varName>IWV</varName>\n",
      "          <targetName>sum</targetName>\n",
      "        </aggregator>\n",
      "      </aggregators>\n",
      "      <maskExpr/>\n",
      "      <maxDistanceOnEarth>-1</maxDistanceOnEarth>\n",
      "      <metadataAggregatorName>NAME</metadataAggregatorName>\n",
      "      <metadataPropertiesFile>./metadata.properties</metadataPropertiesFile>\n",
      "      <metadataTemplateDir>.</metadataTemplateDir>\n",
      "      <minDataHour/>\n",
      "      <numRows>2160</numRows>\n",
      "      <outputBinnedData>false</outputBinnedData>\n",
      "      <outputFile>./data/snapista_demo_binning_result.nc</outputFile>\n",
      "      <outputFormat>NetCDF4-BEAM</outputFormat>\n",
      "      <outputTargetProduct>true</outputTargetProduct>\n",
      "      <outputType>Product</outputType>\n",
      "      <periodDuration/>\n",
      "      <planetaryGridClass>org.esa.snap.binning.support.SEAGrid</planetaryGridClass>\n",
      "      <region/>\n",
      "      <sourceGraphPaths/>\n",
      "      <sourceProductFormat>NetCDF4-BEAM</sourceProductFormat>\n",
      "      <sourceProductPaths>./data/subset_1_of_S3A_OL_2*.nc</sourceProductPaths>\n",
      "      <startDateTime/>\n",
      "      <superSampling>1</superSampling>\n",
      "      <timeFilterMethod>NONE</timeFilterMethod>\n",
      "    </parameters>\n",
      "  </node>\n",
      "</graph>\n",
      "\n"
     ]
    }
   ],
   "source": [
    "# View graph in XML representation...\n",
    "\n",
    "g.view()"
   ]
  },
  {
   "cell_type": "code",
   "execution_count": 8,
   "id": "5a56860a-fcc2-408c-93fd-f667b64680a7",
   "metadata": {
    "pycharm": {
     "is_executing": true
    }
   },
   "outputs": [
    {
     "name": "stdout",
     "output_type": "stream",
     "text": [
      "Processing the graph, this may take a while. Please wait...\n",
      "Executing processing graph\n",
      "45%90% done.\n",
      "SEVERE: org.esa.snap.runtime.Engine: Failed to modify class loader field 'usr_paths'\n",
      "java.lang.NoSuchMethodException: java.lang.ClassLoader.initializePath(java.lang.String)\n",
      "\tat java.base/java.lang.Class.getDeclaredMethod(Class.java:2848)\n",
      "\tat org.esa.snap.runtime.Engine.setJavaLibraryPath(Engine.java:286)\n",
      "\tat org.esa.snap.runtime.Engine.setJavaLibraryPath(Engine.java:265)\n",
      "\tat org.esa.snap.runtime.Engine.<init>(Engine.java:46)\n",
      "\tat org.esa.snap.runtime.Engine.start(Engine.java:117)\n",
      "\tat org.esa.snap.runtime.Engine.start(Engine.java:90)\n",
      "\tat org.esa.snap.runtime.Launcher.run(Launcher.java:51)\n",
      "\tat org.esa.snap.runtime.Launcher.main(Launcher.java:31)\n",
      "\tat java.base/jdk.internal.reflect.DirectMethodHandleAccessor.invoke(DirectMethodHandleAccessor.java:103)\n",
      "\tat java.base/java.lang.reflect.Method.invoke(Method.java:580)\n",
      "\tat com.exe4j.runtime.LauncherEngine.launch(LauncherEngine.java:84)\n",
      "\tat com.exe4j.runtime.WinLauncher.main(WinLauncher.java:94)\n",
      "\tat com.install4j.runtime.launcher.WinLauncher.main(WinLauncher.java:25)\n",
      "\n",
      "INFO: org.esa.snap.core.gpf.operators.tooladapter.ToolAdapterIO: Initializing external tool adapters\n",
      "INFO: org.esa.snap.core.util.EngineVersionCheckActivator: Please check regularly for new updates for the best SNAP experience.\n",
      "INFO: org.esa.snap.binning.operator.BinningOp: expanding sourceProductPaths wildcards.\n",
      "INFO: org.esa.snap.binning.operator.BinningOp: found 2 product files.\n",
      "INFO: org.esa.snap.binning.operator.BinningOp: D:\\olaf\\bc\\workspace\\senbox-org\\esa-snappy\\src\\main\\resources\\esa_snappy\\esa_snappy\\snapista\\demo\\data\\subset_1_of_S3A_OL_2_WRR____20210304T082509_20210304T090900_20210609T141823_2631_069_121______MAR_R_NT_003.nc\n",
      "INFO: org.esa.snap.binning.operator.BinningOp: D:\\olaf\\bc\\workspace\\senbox-org\\esa-snappy\\src\\main\\resources\\esa_snappy\\esa_snappy\\snapista\\demo\\data\\subset_1_of_S3A_OL_2_WRR____20210308T082053_20210308T090445_20210609T070006_2632_069_178______MAR_R_NT_003.nc\n",
      "WARNING: org.esa.snap.dataio.netcdf.util.MetadataUtils: Missing configuration property 'snap.dataio.netcdf.metadataElementLimit'. Using default (100).\n",
      "INFO: org.esa.snap.binning.operator.BinningOp: Spatial binning of product 'subset_1_of_S3A_OL_2_WRR____20210304T082509_20210304T090900_20210609T141823_2631_069_121______MAR_R_NT_003'...\n",
      "INFO: org.esa.snap.binning.operator.SpatialProductBinner: Processed slice 1 of 1 : 00:00:00.171\n",
      "INFO: org.esa.snap.binning.operator.BinningOp: Spatial binning of product 'subset_1_of_S3A_OL_2_WRR____20210304T082509_20210304T090900_20210609T141823_2631_069_121______MAR_R_NT_003' done, 210605 observations seen, took 00:00:00.194\n",
      "WARNING: org.esa.snap.dataio.netcdf.util.MetadataUtils: Missing configuration property 'snap.dataio.netcdf.metadataElementLimit'. Using default (100).\n",
      "INFO: org.esa.snap.binning.operator.BinningOp: Spatial binning of product 'subset_1_of_S3A_OL_2_WRR____20210308T082053_20210308T090445_20210609T070006_2632_069_178______MAR_R_NT_003'...\n",
      "INFO: org.esa.snap.binning.operator.SpatialProductBinner: Processed slice 1 of 1 : 00:00:00.065\n",
      "INFO: org.esa.snap.binning.operator.BinningOp: Spatial binning of product 'subset_1_of_S3A_OL_2_WRR____20210308T082053_20210308T090445_20210609T070006_2632_069_178______MAR_R_NT_003' done, 210864 observations seen, took 00:00:00.070\n",
      "INFO: org.esa.snap.binning.operator.BinningOp: Finished 1% of temporal bins\n",
      "INFO: org.esa.snap.binning.operator.BinningOp: Finished 2% of temporal bins\n",
      "INFO: org.esa.snap.binning.operator.BinningOp: Finished 3% of temporal bins\n",
      "INFO: org.esa.snap.binning.operator.BinningOp: Finished 4% of temporal bins\n",
      "INFO: org.esa.snap.binning.operator.BinningOp: Finished 5% of temporal bins\n",
      "INFO: org.esa.snap.binning.operator.BinningOp: Finished 6% of temporal bins\n",
      "INFO: org.esa.snap.binning.operator.BinningOp: Finished 7% of temporal bins\n",
      "INFO: org.esa.snap.binning.operator.BinningOp: Finished 8% of temporal bins\n",
      "INFO: org.esa.snap.binning.operator.BinningOp: Finished 9% of temporal bins\n",
      "INFO: org.esa.snap.binning.operator.BinningOp: Finished 10% of temporal bins\n",
      "INFO: org.esa.snap.binning.operator.BinningOp: Finished 11% of temporal bins\n",
      "INFO: org.esa.snap.binning.operator.BinningOp: Finished 12% of temporal bins\n",
      "INFO: org.esa.snap.binning.operator.BinningOp: Finished 13% of temporal bins\n",
      "INFO: org.esa.snap.binning.operator.BinningOp: Finished 14% of temporal bins\n",
      "INFO: org.esa.snap.binning.operator.BinningOp: Finished 15% of temporal bins\n",
      "INFO: org.esa.snap.binning.operator.BinningOp: Finished 16% of temporal bins\n",
      "INFO: org.esa.snap.binning.operator.BinningOp: Finished 17% of temporal bins\n",
      "INFO: org.esa.snap.binning.operator.BinningOp: Finished 18% of temporal bins\n",
      "INFO: org.esa.snap.binning.operator.BinningOp: Finished 19% of temporal bins\n",
      "INFO: org.esa.snap.binning.operator.BinningOp: Finished 20% of temporal bins\n",
      "INFO: org.esa.snap.binning.operator.BinningOp: Finished 21% of temporal bins\n",
      "INFO: org.esa.snap.binning.operator.BinningOp: Finished 22% of temporal bins\n",
      "INFO: org.esa.snap.binning.operator.BinningOp: Finished 23% of temporal bins\n",
      "INFO: org.esa.snap.binning.operator.BinningOp: Finished 24% of temporal bins\n",
      "INFO: org.esa.snap.binning.operator.BinningOp: Finished 25% of temporal bins\n",
      "INFO: org.esa.snap.binning.operator.BinningOp: Finished 26% of temporal bins\n",
      "INFO: org.esa.snap.binning.operator.BinningOp: Finished 27% of temporal bins\n",
      "INFO: org.esa.snap.binning.operator.BinningOp: Finished 28% of temporal bins\n",
      "INFO: org.esa.snap.binning.operator.BinningOp: Finished 29% of temporal bins\n",
      "INFO: org.esa.snap.binning.operator.BinningOp: Finished 30% of temporal bins\n",
      "INFO: org.esa.snap.binning.operator.BinningOp: Finished 31% of temporal bins\n",
      "INFO: org.esa.snap.binning.operator.BinningOp: Finished 32% of temporal bins\n",
      "INFO: org.esa.snap.binning.operator.BinningOp: Finished 33% of temporal bins\n",
      "INFO: org.esa.snap.binning.operator.BinningOp: Finished 34% of temporal bins\n",
      "INFO: org.esa.snap.binning.operator.BinningOp: Finished 35% of temporal bins\n",
      "INFO: org.esa.snap.binning.operator.BinningOp: Finished 36% of temporal bins\n",
      "INFO: org.esa.snap.binning.operator.BinningOp: Finished 37% of temporal bins\n",
      "INFO: org.esa.snap.binning.operator.BinningOp: Finished 38% of temporal bins\n",
      "INFO: org.esa.snap.binning.operator.BinningOp: Finished 39% of temporal bins\n",
      "INFO: org.esa.snap.binning.operator.BinningOp: Finished 40% of temporal bins\n",
      "INFO: org.esa.snap.binning.operator.BinningOp: Finished 41% of temporal bins\n",
      "INFO: org.esa.snap.binning.operator.BinningOp: Finished 42% of temporal bins\n",
      "INFO: org.esa.snap.binning.operator.BinningOp: Finished 43% of temporal bins\n",
      "INFO: org.esa.snap.binning.operator.BinningOp: Finished 44% of temporal bins\n",
      "INFO: org.esa.snap.binning.operator.BinningOp: Finished 45% of temporal bins\n",
      "INFO: org.esa.snap.binning.operator.BinningOp: Finished 46% of temporal bins\n",
      "INFO: org.esa.snap.binning.operator.BinningOp: Finished 47% of temporal bins\n",
      "INFO: org.esa.snap.binning.operator.BinningOp: Finished 48% of temporal bins\n",
      "INFO: org.esa.snap.binning.operator.BinningOp: Finished 49% of temporal bins\n",
      "INFO: org.esa.snap.binning.operator.BinningOp: Finished 50% of temporal bins\n",
      "INFO: org.esa.snap.binning.operator.BinningOp: Finished 51% of temporal bins\n",
      "INFO: org.esa.snap.binning.operator.BinningOp: Finished 52% of temporal bins\n",
      "INFO: org.esa.snap.binning.operator.BinningOp: Finished 53% of temporal bins\n",
      "INFO: org.esa.snap.binning.operator.BinningOp: Finished 54% of temporal bins\n",
      "INFO: org.esa.snap.binning.operator.BinningOp: Finished 55% of temporal bins\n",
      "INFO: org.esa.snap.binning.operator.BinningOp: Finished 56% of temporal bins\n",
      "INFO: org.esa.snap.binning.operator.BinningOp: Finished 57% of temporal bins\n",
      "INFO: org.esa.snap.binning.operator.BinningOp: Finished 58% of temporal bins\n",
      "INFO: org.esa.snap.binning.operator.BinningOp: Finished 59% of temporal bins\n",
      "INFO: org.esa.snap.binning.operator.BinningOp: Finished 60% of temporal bins\n",
      "INFO: org.esa.snap.binning.operator.BinningOp: Finished 61% of temporal bins\n",
      "INFO: org.esa.snap.binning.operator.BinningOp: Finished 62% of temporal bins\n",
      "INFO: org.esa.snap.binning.operator.BinningOp: Finished 63% of temporal bins\n",
      "INFO: org.esa.snap.binning.operator.BinningOp: Finished 64% of temporal bins\n",
      "INFO: org.esa.snap.binning.operator.BinningOp: Finished 65% of temporal bins\n",
      "INFO: org.esa.snap.binning.operator.BinningOp: Finished 66% of temporal bins\n",
      "INFO: org.esa.snap.binning.operator.BinningOp: Finished 67% of temporal bins\n",
      "INFO: org.esa.snap.binning.operator.BinningOp: Finished 68% of temporal bins\n",
      "INFO: org.esa.snap.binning.operator.BinningOp: Finished 69% of temporal bins\n",
      "INFO: org.esa.snap.binning.operator.BinningOp: Finished 70% of temporal bins\n",
      "INFO: org.esa.snap.binning.operator.BinningOp: Finished 71% of temporal bins\n",
      "INFO: org.esa.snap.binning.operator.BinningOp: Finished 72% of temporal bins\n",
      "INFO: org.esa.snap.binning.operator.BinningOp: Finished 73% of temporal bins\n",
      "INFO: org.esa.snap.binning.operator.BinningOp: Finished 74% of temporal bins\n",
      "INFO: org.esa.snap.binning.operator.BinningOp: Finished 75% of temporal bins\n",
      "INFO: org.esa.snap.binning.operator.BinningOp: Finished 76% of temporal bins\n",
      "INFO: org.esa.snap.binning.operator.BinningOp: Finished 77% of temporal bins\n",
      "INFO: org.esa.snap.binning.operator.BinningOp: Finished 78% of temporal bins\n",
      "INFO: org.esa.snap.binning.operator.BinningOp: Finished 79% of temporal bins\n",
      "INFO: org.esa.snap.binning.operator.BinningOp: Finished 80% of temporal bins\n",
      "INFO: org.esa.snap.binning.operator.BinningOp: Finished 81% of temporal bins\n",
      "INFO: org.esa.snap.binning.operator.BinningOp: Finished 82% of temporal bins\n",
      "INFO: org.esa.snap.binning.operator.BinningOp: Finished 83% of temporal bins\n",
      "INFO: org.esa.snap.binning.operator.BinningOp: Finished 84% of temporal bins\n",
      "INFO: org.esa.snap.binning.operator.BinningOp: Finished 85% of temporal bins\n",
      "INFO: org.esa.snap.binning.operator.BinningOp: Finished 86% of temporal bins\n",
      "INFO: org.esa.snap.binning.operator.BinningOp: Finished 87% of temporal bins\n",
      "INFO: org.esa.snap.binning.operator.BinningOp: Finished 88% of temporal bins\n",
      "INFO: org.esa.snap.binning.operator.BinningOp: Finished 89% of temporal bins\n",
      "INFO: org.esa.snap.binning.operator.BinningOp: Finished 90% of temporal bins\n",
      "INFO: org.esa.snap.binning.operator.BinningOp: Finished 91% of temporal bins\n",
      "INFO: org.esa.snap.binning.operator.BinningOp: Finished 92% of temporal bins\n",
      "INFO: org.esa.snap.binning.operator.BinningOp: Finished 93% of temporal bins\n",
      "INFO: org.esa.snap.binning.operator.BinningOp: Finished 94% of temporal bins\n",
      "INFO: org.esa.snap.binning.operator.BinningOp: Finished 95% of temporal bins\n",
      "INFO: org.esa.snap.binning.operator.BinningOp: Finished 96% of temporal bins\n",
      "INFO: org.esa.snap.binning.operator.BinningOp: Finished 97% of temporal bins\n",
      "INFO: org.esa.snap.binning.operator.BinningOp: Finished 98% of temporal bins\n",
      "INFO: org.esa.snap.binning.operator.BinningOp: Finished 99% of temporal bins\n",
      "INFO: org.esa.snap.binning.operator.BinningOp: Finished 100% of temporal bins\n",
      "INFO: org.esa.snap.binning.operator.BinningOp: Temporal binning of 6483 bins done, took 00:00:00.109\n",
      "WARNING: org.esa.snap.binning.operator.metadata.GlobalMetadata: Metadata properties file '.\\metadata.properties' not found\n",
      "INFO: org.esa.snap.binning.operator.BinningOp: Writing mapped product './data/snapista_demo_binning_result.nc'...\n",
      "4226 [main] INFO serverStartup - Nc4Iosp: NetCDF-4 C library loaded (jna_path='C:\\Users\\olafd\\.snap\\auxdata\\netcdf_natives\\12.0.0.0\\amd64', libname='netcdf').\n",
      "4233 [main] INFO serverStartup - NetcdfLoader: set log level: old=0 new=0\n",
      "4233 [main] INFO serverStartup - Nc4Iosp: set log level: old=0 new=0\n",
      "INFO: org.esa.snap.binning.operator.BinningOp: Writing mapped product './data/snapista_demo_binning_result.nc' done, took 00:00:00.324\n",
      "WARNING: org.esa.snap.dataio.netcdf.util.MetadataUtils: Missing configuration property 'snap.dataio.netcdf.metadataElementLimit'. Using default (100).\n",
      "Processing finished successfully.\n"
     ]
    },
    {
     "data": {
      "text/plain": [
       "0"
      ]
     },
     "execution_count": 8,
     "metadata": {},
     "output_type": "execute_result"
    }
   ],
   "source": [
    "# Save graph as XML file, then run it...\n",
    "\n",
    "g.save_graph(filename='./data/snapista_demo_binning.xml')\n",
    "g.run()"
   ]
  }
 ],
 "metadata": {
  "kernelspec": {
   "display_name": "Python 3 (ipykernel)",
   "language": "python",
   "name": "python3"
  },
  "language_info": {
   "codemirror_mode": {
    "name": "ipython",
    "version": 3
   },
   "file_extension": ".py",
   "mimetype": "text/x-python",
   "name": "python",
   "nbconvert_exporter": "python",
   "pygments_lexer": "ipython3",
   "version": "3.11.9"
  }
 },
 "nbformat": 4,
 "nbformat_minor": 5
}
