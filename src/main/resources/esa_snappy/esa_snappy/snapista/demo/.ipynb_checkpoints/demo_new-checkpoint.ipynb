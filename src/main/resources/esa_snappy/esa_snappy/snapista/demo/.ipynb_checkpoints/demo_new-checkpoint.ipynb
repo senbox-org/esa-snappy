{
 "cells": [
  {
   "cell_type": "code",
   "execution_count": 1,
   "metadata": {},
   "outputs": [],
   "source": [
    "import esa_snappy.snapista\n",
    "\n",
    "from snapista import Graph\n",
    "from snapista import Operator\n",
    "from snapista import TargetBand\n",
    "from snapista import TargetBandDescriptors"
   ]
  },
  {
   "cell_type": "code",
   "execution_count": 2,
   "metadata": {},
   "outputs": [],
   "source": [
    "r = Operator(\"Read\", file='/data/S2B_MSIL2A_20210608T112119_N0300_R037_T29SMC_20210608T131325.SAFE/MTD_MSIL2A.xml')"
   ]
  },
  {
   "cell_type": "code",
   "execution_count": 3,
   "metadata": {},
   "outputs": [
    {
     "data": {
      "text/plain": "Operator('Read', file='/data/S2B_MSIL2A_20210608T112119_N0300_R037_T29SMC_20210608T131325.SAFE/MTD_MSIL2A.xml', formatName='None', bandNames='None', maskNames='None', pixelRegion='None', geometryRegion='None', useAdvancedOptions='false', copyMetadata='true')"
     },
     "execution_count": 3,
     "metadata": {},
     "output_type": "execute_result"
    }
   ],
   "source": [
    "r"
   ]
  },
  {
   "cell_type": "code",
   "execution_count": 3,
   "metadata": {},
   "outputs": [],
   "source": []
  },
  {
   "cell_type": "markdown",
   "metadata": {},
   "source": [
    "## Operator"
   ]
  },
  {
   "cell_type": "markdown",
   "metadata": {},
   "source": [
    "Instantiate a SNAP operator by providing its name:"
   ]
  },
  {
   "cell_type": "code",
   "execution_count": 4,
   "metadata": {},
   "outputs": [
    {
     "data": {
      "text/plain": "Operator('Calibration', sourceBandNames='None', auxFile='Latest Auxiliary File', externalAuxFile='None', outputImageInComplex='false', outputImageScaleInDb='false', createGammaBand='false', createBetaBand='false', selectedPolarisations='None', outputSigmaBand='true', outputGammaBand='false', outputBetaBand='false')"
     },
     "execution_count": 4,
     "metadata": {},
     "output_type": "execute_result"
    }
   ],
   "source": [
    "calibration = Operator('Calibration')\n",
    "\n",
    "calibration"
   ]
  },
  {
   "cell_type": "markdown",
   "metadata": {},
   "source": [
    "Get the SNAP Operator description:"
   ]
  },
  {
   "cell_type": "code",
   "execution_count": 5,
   "metadata": {},
   "outputs": [
    {
     "name": "stdout",
     "output_type": "stream",
     "text": [
      "Operator name: Calibration\n",
      "\n",
      "Description: Calibration of products\n",
      "Authors: Jun Lu, Luis Veci\n",
      "\n",
      "eu.esa.sar.calibration.gpf.CalibrationOp\n",
      "Version: 1.0\n",
      "\n",
      "Parameters:\n",
      "\n",
      "\tsourceBandNames: The list of source bands.\n",
      "\t\tDefault Value: None\n",
      "\n",
      "\t\tPossible values: []\n",
      "\n",
      "\tauxFile: The auxiliary file\n",
      "\t\tDefault Value: Latest Auxiliary File\n",
      "\n",
      "\t\tPossible values: ['Latest Auxiliary File', 'Product Auxiliary File', 'External Auxiliary File']\n",
      "\n",
      "\texternalAuxFile: The antenna elevation pattern gain auxiliary data file.\n",
      "\t\tDefault Value: None\n",
      "\n",
      "\t\tPossible values: []\n",
      "\n",
      "\toutputImageInComplex: Output image in complex\n",
      "\t\tDefault Value: false\n",
      "\n",
      "\t\tPossible values: []\n",
      "\n",
      "\toutputImageScaleInDb: Output image scale\n",
      "\t\tDefault Value: false\n",
      "\n",
      "\t\tPossible values: []\n",
      "\n",
      "\tcreateGammaBand: Create gamma0 virtual band\n",
      "\t\tDefault Value: false\n",
      "\n",
      "\t\tPossible values: []\n",
      "\n",
      "\tcreateBetaBand: Create beta0 virtual band\n",
      "\t\tDefault Value: false\n",
      "\n",
      "\t\tPossible values: []\n",
      "\n",
      "\tselectedPolarisations: The list of polarisations\n",
      "\t\tDefault Value: None\n",
      "\n",
      "\t\tPossible values: []\n",
      "\n",
      "\toutputSigmaBand: Output sigma0 band\n",
      "\t\tDefault Value: true\n",
      "\n",
      "\t\tPossible values: []\n",
      "\n",
      "\toutputGammaBand: Output gamma0 band\n",
      "\t\tDefault Value: false\n",
      "\n",
      "\t\tPossible values: []\n",
      "\n",
      "\toutputBetaBand: Output beta0 band\n",
      "\t\tDefault Value: false\n",
      "\n",
      "\t\tPossible values: []\n",
      "\n"
     ]
    }
   ],
   "source": [
    "calibration.describe()"
   ]
  },
  {
   "cell_type": "markdown",
   "metadata": {},
   "source": [
    "Instantiate a SNAP operator by providing its name and update a parameter value"
   ]
  },
  {
   "cell_type": "code",
   "execution_count": 6,
   "metadata": {},
   "outputs": [],
   "source": [
    "calibration = Operator('Calibration')"
   ]
  },
  {
   "cell_type": "code",
   "execution_count": 7,
   "metadata": {},
   "outputs": [
    {
     "data": {
      "text/plain": "['__class__',\n '__delattr__',\n '__dict__',\n '__dir__',\n '__doc__',\n '__eq__',\n '__format__',\n '__ge__',\n '__getattribute__',\n '__gt__',\n '__hash__',\n '__init__',\n '__init_subclass__',\n '__le__',\n '__lt__',\n '__module__',\n '__ne__',\n '__new__',\n '__reduce__',\n '__reduce_ex__',\n '__repr__',\n '__setattr__',\n '__sizeof__',\n '__str__',\n '__subclasshook__',\n '__weakref__',\n '_get_formats',\n '_params',\n 'auxFile',\n 'createBetaBand',\n 'createGammaBand',\n 'describe',\n 'externalAuxFile',\n 'operator',\n 'outputBetaBand',\n 'outputGammaBand',\n 'outputImageInComplex',\n 'outputImageScaleInDb',\n 'outputSigmaBand',\n 'selectedPolarisations',\n 'sourceBandNames',\n 'to_dict']"
     },
     "execution_count": 7,
     "metadata": {},
     "output_type": "execute_result"
    }
   ],
   "source": [
    "dir(calibration)"
   ]
  },
  {
   "cell_type": "code",
   "execution_count": 8,
   "metadata": {},
   "outputs": [
    {
     "data": {
      "text/plain": "Operator('Calibration', sourceBandNames='None', auxFile='Latest Auxiliary File', externalAuxFile='None', outputImageInComplex='false', outputImageScaleInDb='false', createGammaBand='false', createBetaBand='true', selectedPolarisations='None', outputSigmaBand='true', outputGammaBand='false', outputBetaBand='false')"
     },
     "execution_count": 8,
     "metadata": {},
     "output_type": "execute_result"
    }
   ],
   "source": [
    "calibration.createBetaBand = 'true'\n",
    "\n",
    "calibration"
   ]
  },
  {
   "cell_type": "markdown",
   "metadata": {},
   "source": [
    "Instantiate a SNAP operator by providing its name and setting the values in the constructor "
   ]
  },
  {
   "cell_type": "code",
   "execution_count": 9,
   "metadata": {},
   "outputs": [
    {
     "data": {
      "text/plain": "Operator('Calibration', sourceBandNames='None', auxFile='Latest Auxiliary File', externalAuxFile='None', outputImageInComplex='false', outputImageScaleInDb='false', createGammaBand='true', createBetaBand='true', selectedPolarisations='None', outputSigmaBand='true', outputGammaBand='false', outputBetaBand='false')"
     },
     "execution_count": 9,
     "metadata": {},
     "output_type": "execute_result"
    }
   ],
   "source": [
    "calibration = Operator('Calibration', \n",
    "                       createBetaBand='true', \n",
    "                       createGammaBand='true')\n",
    "\n",
    "calibration"
   ]
  },
  {
   "cell_type": "code",
   "execution_count": 10,
   "metadata": {},
   "outputs": [
    {
     "name": "stdout",
     "output_type": "stream",
     "text": [
      "Calibration:\n",
      "\tsourceBandNames='None'\n",
      "\tauxFile='Latest Auxiliary File'\n",
      "\texternalAuxFile='None'\n",
      "\toutputImageInComplex='false'\n",
      "\toutputImageScaleInDb='false'\n",
      "\tcreateGammaBand='true'\n",
      "\tcreateBetaBand='true'\n",
      "\tselectedPolarisations='None'\n",
      "\toutputSigmaBand='true'\n",
      "\toutputGammaBand='false'\n",
      "\toutputBetaBand='false'\n"
     ]
    }
   ],
   "source": [
    "print(calibration)"
   ]
  },
  {
   "cell_type": "markdown",
   "metadata": {},
   "source": [
    "## Graph"
   ]
  },
  {
   "cell_type": "markdown",
   "metadata": {},
   "source": [
    "Create a graph:"
   ]
  },
  {
   "cell_type": "code",
   "execution_count": 11,
   "metadata": {},
   "outputs": [
    {
     "data": {
      "text/plain": "Graph(wdir='.')"
     },
     "execution_count": 11,
     "metadata": {},
     "output_type": "execute_result"
    }
   ],
   "source": [
    "g = Graph()\n",
    "\n",
    "g"
   ]
  },
  {
   "cell_type": "code",
   "execution_count": 12,
   "metadata": {},
   "outputs": [
    {
     "name": "stdout",
     "output_type": "stream",
     "text": [
      "gpt binary: D:\\olaf\\bc\\snap-snapshots\\12\\esa-snap\\bin\\gpt.exe\n",
      "working dir: .\n",
      "\n",
      "<graph>\n",
      "  <version>1.0</version>\n",
      "</graph>\n",
      "\n"
     ]
    }
   ],
   "source": [
    "print(g)"
   ]
  },
  {
   "cell_type": "markdown",
   "metadata": {},
   "source": [
    "Add two nodes:"
   ]
  },
  {
   "cell_type": "code",
   "execution_count": 13,
   "metadata": {},
   "outputs": [],
   "source": [
    "g.add_node(operator=Operator('Read'), \n",
    "           node_id='read_1')\n",
    "\n",
    "calibration = Operator('Calibration')\n",
    "\n",
    "calibration.createBetaBand = 'false'\n",
    "\n",
    "g.add_node(operator=calibration, \n",
    "           node_id='calibration', \n",
    "           source='read_1')"
   ]
  },
  {
   "cell_type": "code",
   "execution_count": 14,
   "metadata": {},
   "outputs": [
    {
     "name": "stdout",
     "output_type": "stream",
     "text": [
      "<graph>\n",
      "  <version>1.0</version>\n",
      "  <node id=\"read_1\">\n",
      "    <operator>Read</operator>\n",
      "    <sources/>\n",
      "    <parameters class=\"com.bc.ceres.binding.dom.XppDomElement\">\n",
      "      <bandNames/>\n",
      "      <copyMetadata>true</copyMetadata>\n",
      "      <file/>\n",
      "      <formatName/>\n",
      "      <geometryRegion/>\n",
      "      <maskNames/>\n",
      "      <pixelRegion/>\n",
      "      <useAdvancedOptions>false</useAdvancedOptions>\n",
      "    </parameters>\n",
      "  </node>\n",
      "  <node id=\"calibration\">\n",
      "    <operator>Calibration</operator>\n",
      "    <sources>\n",
      "      <sourceProduct refid=\"read_1\"/>\n",
      "    </sources>\n",
      "    <parameters class=\"com.bc.ceres.binding.dom.XppDomElement\">\n",
      "      <auxFile>Latest Auxiliary File</auxFile>\n",
      "      <createBetaBand>false</createBetaBand>\n",
      "      <createGammaBand>false</createGammaBand>\n",
      "      <externalAuxFile/>\n",
      "      <outputBetaBand>false</outputBetaBand>\n",
      "      <outputGammaBand>false</outputGammaBand>\n",
      "      <outputImageInComplex>false</outputImageInComplex>\n",
      "      <outputImageScaleInDb>false</outputImageScaleInDb>\n",
      "      <outputSigmaBand>true</outputSigmaBand>\n",
      "      <selectedPolarisations/>\n",
      "      <sourceBandNames/>\n",
      "    </parameters>\n",
      "  </node>\n",
      "</graph>\n",
      "\n"
     ]
    }
   ],
   "source": [
    "g.view()"
   ]
  },
  {
   "cell_type": "code",
   "execution_count": 15,
   "metadata": {},
   "outputs": [
    {
     "name": "stdout",
     "output_type": "stream",
     "text": [
      "gpt binary: D:\\olaf\\bc\\snap-snapshots\\12\\esa-snap\\bin\\gpt.exe\n",
      "working dir: .\n",
      "\n",
      "<graph>\n",
      "  <version>1.0</version>\n",
      "  <node id=\"read_1\">\n",
      "    <operator>Read</operator>\n",
      "    <sources/>\n",
      "    <parameters class=\"com.bc.ceres.binding.dom.XppDomElement\">\n",
      "      <bandNames/>\n",
      "      <copyMetadata>true</copyMetadata>\n",
      "      <file/>\n",
      "      <formatName/>\n",
      "      <geometryRegion/>\n",
      "      <maskNames/>\n",
      "      <pixelRegion/>\n",
      "      <useAdvancedOptions>false</useAdvancedOptions>\n",
      "    </parameters>\n",
      "  </node>\n",
      "  <node id=\"calibration\">\n",
      "    <operator>Calibration</operator>\n",
      "    <sources>\n",
      "      <sourceProduct refid=\"read_1\"/>\n",
      "    </sources>\n",
      "    <parameters class=\"com.bc.ceres.binding.dom.XppDomElement\">\n",
      "      <auxFile>Latest Auxiliary File</auxFile>\n",
      "      <createBetaBand>false</createBetaBand>\n",
      "      <createGammaBand>false</createGammaBand>\n",
      "      <externalAuxFile/>\n",
      "      <outputBetaBand>false</outputBetaBand>\n",
      "      <outputGammaBand>false</outputGammaBand>\n",
      "      <outputImageInComplex>false</outputImageInComplex>\n",
      "      <outputImageScaleInDb>false</outputImageScaleInDb>\n",
      "      <outputSigmaBand>true</outputSigmaBand>\n",
      "      <selectedPolarisations/>\n",
      "      <sourceBandNames/>\n",
      "    </parameters>\n",
      "  </node>\n",
      "</graph>\n",
      "\n"
     ]
    }
   ],
   "source": [
    "print(g)"
   ]
  },
  {
   "cell_type": "markdown",
   "metadata": {},
   "source": [
    "Get a list of the SNAP operators"
   ]
  },
  {
   "cell_type": "code",
   "execution_count": 16,
   "metadata": {},
   "outputs": [
    {
     "data": {
      "text/plain": "['Minimum-Distance-Classifier',\n 'ReflectanceToRadianceOp',\n 'Polarimetric-Speckle-Filter',\n 'AddLandCover',\n 'SnaphuImport',\n 'Subset',\n 'S2tbx-Reproject',\n 'Principle-Components',\n 'GLCM',\n 'DeburstWSS',\n 'Ellipsoid-Correction-RD',\n 'c2rcc.meris4',\n 'Land-Cover-Mask',\n 'Back-Geocoding',\n 'SpectralAngleMapperOp',\n 'Image-Filter',\n 'SnaphuExport',\n 'CloudProb',\n 'ToolAdapterOp',\n 'IpviOp',\n 'Meris.CloudTopPressureOp',\n 'Fill-DEM-Hole',\n 'RiOp',\n 'PssraOp',\n 'Read',\n 'AzimuthFilter',\n 'Warp',\n 'DviOp',\n 'c2rcc.msi',\n 'FUB.Water',\n 'OlciO2aHarmonisation',\n 'BandsExtractorOp',\n 'Collocate',\n 'TOPSAR-Merge',\n 'RangeFilter',\n 'TOPSAR-Split',\n 'Speckle-Filter',\n 'Supervised-Wishart-Classification',\n 'Ndwi2Op',\n 'Rad2Refl',\n 'OlciAnomalyFlagging',\n 'ReipOp',\n 'Bi2Op',\n 'GndviOp',\n 'Meris.Sdr',\n 'Radar-Vegetation-Index',\n 'TOPSAR-Deburst',\n 'DEM-Assisted-Coregistration',\n 'Polarimetric-Parameters',\n 'GemiOp',\n 'Terrain-Correction',\n 'Undersample',\n 'GaseousAbsorption',\n 'IEM-Hybrid-Inversion',\n 'AddElevation',\n 'CoregistrationOp',\n 'ForestCoverChangeOp',\n 'SmileCorrection.Olci',\n 'ProductSet-Reader',\n 'Oil-Spill-Detection',\n 'Cross-Correlation',\n 'ReplaceMetadata',\n 'TopoPhaseRemoval',\n 'KNN-Classifier',\n 'IEM-Multi-Angle-Inversion',\n 'Azimuth-Shift-Estimation-ESD',\n 'ChangeVectorAnalysisOp',\n 'Reproject',\n 'Remodulate',\n 'SARSim-Terrain-Correction',\n 'Terrain-Flattening',\n 'CreateStack',\n 'SimulateAmplitude',\n 'c2rcc',\n 'GenericRegionMergingOp',\n 'Interferogram',\n 'Binning',\n 'AATSR.Ungrid',\n 'Compute-Slope-Aspect',\n 'IEM-Multi-Pol-Inversion',\n 'Meris.RayleighCorrection',\n 'MultiMasterStackGenerator',\n 'Meris.BlueBand',\n 'LandWaterMask',\n 'ALOS-Deskewing',\n 'PixEx',\n 'MndwiOp',\n 'c2rcc.seawifs',\n 'Stack-Split',\n 'Three-passDInSAR',\n 'Terrain-Mask',\n 'IonosphericCorrection',\n 'MphChl',\n 'c2rcc.landsat8',\n 'PhaseToHeight',\n 'BandPassFilter',\n 'RayleighCorrection',\n 'Change-Detection',\n 'Speckle-Divergence',\n 'TileWriter',\n 'IreciOp',\n 'SaviOp',\n 'Meris.GapLessSdr',\n 'RemoteExecutionOp',\n 'CP-Decomposition',\n 'ThermalNoiseRemoval',\n 'Msavi2Op',\n 'Random-Forest-Classifier',\n 'NdwiOp',\n 'Meris.N1Patcher',\n 'AdaptiveThresholding',\n 'FlhMci',\n 'MphChlMeris',\n 'Meris.CloudProbability',\n 'Multitemporal-Compositing',\n 'StampsExport',\n 'Multilook',\n 'MphChlOlci',\n 'c2rcc.olci',\n 'S2Resampling',\n 'c2rcc.landsat7',\n 'LinearToFromdB',\n 'SM-Dielectric-Modeling',\n 'Meris.Adapt.4To3',\n 'GaborFilter',\n 'SubGraph',\n 'Faraday-Rotation-Correction',\n 'Meris.CloudClassification',\n 'c2rcc.modis',\n 'Write',\n 'TemporalPercentile',\n 'McariOp',\n 'IntegerInterferogram',\n 'Meris.CorrectRadiometry',\n 'BiOp',\n 'S2repOp',\n 'Compactpol-Radar-Vegetation-Index',\n 'PassThrough',\n 'Oil-Spill-Clustering',\n 'Wind-Field-Estimation',\n 'EAP-Phase-Correction',\n 'EcostressSwath2GridOp',\n 'KDTree-KNN-Classifier',\n 'CP-Stokes-Parameters',\n 'Enhanced-Spectral-Diversity',\n 'MtciOp',\n 'Double-Difference-Interferogram',\n 'BandSelect',\n 'EsaSnappyPyOp',\n 'Flip',\n 'Multi-size Mosaic',\n 'SRGR',\n 'BandsDifferenceOp',\n 'SAR-Mosaic',\n 'RviOp',\n 'Polarimetric-Matrices',\n 'Meris.CombinedCloud',\n 'Object-Discrimination',\n 'Polarimetric-Decomposition',\n 'Polarimetric-Classification',\n 'BiophysicalLandsat8Op',\n 'Generalized-Radar-Vegetation-Index',\n 'S1-ETAD-Correction',\n 'SmacOp',\n 'OlciSensorHarmonisation',\n 'MsaviOp',\n 'Stack-Averaging',\n 'Coherence',\n 'Forest-Area-Classification',\n 'FillBand',\n 'OWTClassification',\n 'CrossResampling',\n 'Flood-Detection',\n 'Forest-Area-Detection',\n 'Arc.SST',\n 'Maximum-Likelihood-Classifier',\n 'StatisticsOp',\n 'RemoveAntennaPattern',\n 'Meris.LandClassification',\n 'MphChlBasis',\n 'RRToFRS',\n 'Oversample',\n 'NdtiOp',\n 'Ndi45Op',\n 'Update-Geo-Reference',\n 'PduStitching',\n 'PhaseToDisplacement',\n 'TsaviOp',\n 'StoredGraph',\n 'NdpiOp',\n 'BiophysicalOp',\n 'Mci.s2',\n 'Meris.SmileCorrection',\n 'Meris.CloudShadow',\n 'Meris.GaseousCorrection',\n 'EMClusterAnalysis',\n 'CP-Simulation',\n 'Land-Sea-Mask',\n 'BatchSnaphuUnwrapOp',\n 'L3ToL1',\n 'Ellipsoid-Correction-GG',\n 'PCA',\n 'SliceAssembly',\n 'Multi-Temporal-Speckle-Filter',\n 'Mosaic',\n 'InSAR-Overview',\n 'Merge',\n 'Calibration',\n 'HorizontalVerticalMotion',\n 'GoldsteinPhaseFiltering',\n 'Resample',\n 'FillAerosol',\n 'MoreThenAnIntegerOp',\n 'Biophysical10mOp',\n 'Demodulate',\n 'WriteRGB',\n 'PpeFiltering',\n 'Data-Analysis',\n 'Remove-GRD-Border-Noise',\n 'DecisionTree',\n 'BandMaths',\n 'TOPSAR-DerampDemod',\n 'DarkObjectSubtraction',\n 'Offset-Tracking',\n 'ArviOp',\n 'Convert-Datatype',\n 'Orientation-Angle-Correction',\n 'MultiMasterInSAR',\n 'SAR-Simulation',\n 'TileCache',\n 'Apply-Orbit-File',\n 'c2rcc.meris',\n 'FuClassification',\n 'Unmix',\n 'SetNoDataValue',\n 'WdviOp',\n 'Aatsr.SST',\n 'NdviOp',\n 'CiOp',\n 'Meris.Brr',\n 'c2rcc.viirs',\n 'PhaseToElevation',\n 'GRD-Post',\n 'TndviOp',\n 'Import-Vector',\n 'PviOp',\n 'BandMerge',\n 'Cross-Channel-SNR-Correction',\n 'KMeansClusterAnalysis']"
     },
     "execution_count": 16,
     "metadata": {},
     "output_type": "execute_result"
    }
   ],
   "source": [
    "Graph.list_operators()"
   ]
  },
  {
   "cell_type": "code",
   "execution_count": 17,
   "metadata": {},
   "outputs": [
    {
     "name": "stdout",
     "output_type": "stream",
     "text": [
      "BiOp - The Brightness index represents the average of the brightness of a satellite image.\n",
      "Faraday-Rotation-Correction - Perform Faraday-rotation correction for quad-pol product\n",
      "NdwiOp - The Normalized Difference Water Index was developed for the extraction of water features\n",
      "PviOp - Perpendicular Vegetation Index retrieves the Isovegetation lines parallel to soil line.\n",
      "Soil line has an arbitrary slope and passes through origin\n",
      "MoreThenAnIntegerOp - just for testing\n",
      "Polarimetric-Speckle-Filter - Polarimetric Speckle Reduction\n",
      "GemiOp - This retrieves the Global Environmental Monitoring Index (GEMI).\n",
      "RRToFRS - None\n",
      "Remodulate - Remodulation and reramping of SLC data\n",
      "Change-Detection - Change Detection.\n",
      "MtciOp - The Meris Terrestrial Chlorophyll Index estimates the Red Edge Position (REP).\n",
      "MndwiOp - Modified Normalized Difference Water Index, allowing for the measurement of surface water extent\n",
      "GndviOp - Green Normalized Difference Vegetation Index\n",
      "Cross-Correlation - Automatic Selection of Ground Control Points\n",
      "Meris.CloudProbability - None\n",
      "SimulateAmplitude - Simulate amplitude based on DEM\n",
      "PhaseToElevation - DEM Generation\n",
      "GaseousAbsorption - Correct the influence of atmospheric gas absorption for those OLCI channels.\n",
      "MsaviOp - This retrieves the Modified Soil Adjusted Vegetation Index (MSAVI).\n",
      "Mci.s2 - Computes maximum chlorophyll index (MCI) for Sentinel-2 MSI.\n",
      "Supervised-Wishart-Classification - Perform supervised Wishart classification\n",
      "Meris.RayleighCorrection - MERIS L2 rayleigh correction.\n",
      "ArviOp - Atmospherically Resistant Vegetation Index belongs to a family of indices with built-in atmospheric corrections.\n",
      "DecisionTree - Perform decision tree classification\n",
      "MphChl - This operator computes maximum peak height of chlorophyll (MPH/CHL).\n",
      "BiophysicalLandsat8Op - The 'Biophysical Processor' operator retrieves LAI from atmospherically corrected Landsat8 products\n",
      "IEM-Multi-Angle-Inversion - Performs IEM inversion using Multi-angle approach\n",
      "Principle-Components - Principle Component Analysis\n",
      "ALOS-Deskewing - Deskewing ALOS product\n",
      "TileCache - Experimental Operator which provides a dedicated cache for its source product.\n",
      "A guide on how this operator is used is provided at https://senbox.atlassian.net/wiki/x/VQCTLw.\n",
      "GRD-Post - Applies GRD post-processing\n",
      "AzimuthFilter - Azimuth Filter\n",
      "Flood-Detection - Detect flooded area.\n",
      "BandsDifferenceOp - None\n",
      "S2repOp - Sentinel-2 red-edge position index\n",
      "S1-ETAD-Correction - ETAD correction of S-1 TOPS/SM/GRD products\n",
      "FlhMci - Computes fluorescence line height (FLH) or maximum chlorophyll index (MCI).\n",
      "RayleighCorrection - Performs radiometric corrections on OLCI, MERIS L1B and S2 MSI L1C data products.\n",
      "c2rcc.meris - Performs atmospheric correction and IOP retrieval with uncertainties on MERIS L1b data products.\n",
      "GoldsteinPhaseFiltering - Phase Filtering\n",
      "Oil-Spill-Detection - Detect oil spill.\n",
      "c2rcc.olci - Performs atmospheric correction and IOP retrieval with uncertainties on SENTINEL-3 OLCI L1B data products.\n",
      "LinearToFromdB - Converts bands to/from dB\n",
      "TOPSAR-Split - Creates a new product with only the selected subswath\n",
      "Apply-Orbit-File - Apply orbit file\n",
      "TOPSAR-Merge - Merge subswaths of a Sentinel-1 TOPSAR product\n",
      "LandWaterMask - Operator creating a target product with a single band containing a land/water-mask.\n",
      "c2rcc - Performs atmospheric correction and IOP retrieval on OLCI, MSI, MERIS, MODIS or SeaWiFS L1 product.\n",
      "IEM-Multi-Pol-Inversion - Performs IEM inversion using Multi-polarization approach\n",
      "CrossResampling - Estimate Resampling Polynomial using SAR Image Geometry, and Resample Input Images\n",
      "Polarimetric-Matrices - Generates covariance or coherency matrix for given product\n",
      "KNN-Classifier - K-Nearest Neighbour classifier\n",
      "Maximum-Likelihood-Classifier - Maximum Likelihood classifier\n",
      "Polarimetric-Decomposition - Perform Polarimetric decomposition of a given product\n",
      "Ellipsoid-Correction-RD - Ellipsoid correction with RD method and average scene height\n",
      "Biophysical10mOp - The 'Biophysical Processor' operator retrieves LAI from atmospherically corrected Sentinel-2 products\n",
      "RemoteExecutionOp - Executes a slave graph on a remote machine and uses the resulted products as an input for the master graph executed on the host machine.\n",
      "BandsExtractorOp - Creates a new product out of the source product containing only the indexes bands given\n",
      "BandMerge - Allows copying raster data from any number of source products to a specified 'master' product.\n",
      "Undersample - Undersample the datset\n",
      "Ellipsoid-Correction-GG - GG method for orthorectification\n",
      "Rad2Refl - Provides conversion from radiances to reflectances or backwards.\n",
      "Cross-Channel-SNR-Correction - Compute general polarimetric parameters\n",
      "Mosaic - Creates a mosaic out of a set of source products.\n",
      "MultiMasterInSAR - Multi-master InSAR processing\n",
      "Forest-Area-Classification - Detect forest area\n",
      "CreateStack - Collocates two or more products based on their geo-codings.\n",
      "Collocate - Collocates two products based on their geo-codings.\n",
      "c2rcc.msi - Performs atmospheric correction and IOP retrieval with uncertainties on Sentinel-2 MSI L1C data products.\n",
      "Oversample - Oversample the datset\n",
      "PhaseToDisplacement - Phase To Displacement Conversion along LOS\n",
      "Arc.SST - Computes sea surface temperature (SST) from (A)ATSR and SLSTR products.\n",
      "EsaSnappyPyOp - Uses Python code to process data products\n",
      "IonosphericCorrection - Estimation of Ionospheric Phase Screens\n",
      "Generalized-Radar-Vegetation-Index - Generalized Radar Vegetation Indices generation\n",
      "Meris.BlueBand - None\n",
      "Ndwi2Op - The Normalized Difference Water Index, allowing for the measurement of surface water extent\n",
      "ThermalNoiseRemoval - Removes thermal noise from products\n",
      "Forest-Area-Detection - Detect forest area.\n",
      "Terrain-Correction - RD method for orthorectification\n",
      "Compute-Slope-Aspect - Compute Slope and Aspect from DEM\n",
      "Remove-GRD-Border-Noise - Mask no-value pixels for GRD product\n",
      "ProductSet-Reader - Adds a list of sources\n",
      "InSAR-Overview - InSAR summary and optimal reference selection.\n",
      "Meris.GapLessSdr - None\n",
      "Wind-Field-Estimation - Estimate wind speed and direction\n",
      "SubGraph - Encapsulates a graph within a graph.\n",
      "WdviOp - Weighted Difference Vegetation Index retrieves the Isovegetation lines parallel to soil line.\n",
      "Soil line has an arbitrary slope and passes through origin\n",
      "MphChlOlci - Computes maximum peak height of chlorophyll for OLCI. Implements OLCI-specific parts.\n",
      "AddElevation - Creates a DEM band\n",
      "Multitemporal-Compositing - Compute composite image from multi-temporal RTCs\n",
      "StatisticsOp - Computes statistics for an arbitrary number of source products.\n",
      "c2rcc.landsat8 - Performs atmospheric correction and IOP retrieval with uncertainties on Landsat-8 L1 data products.\n",
      "Speckle-Divergence - Detect urban area.\n",
      "IreciOp - Inverted red-edge chlorophyll index\n",
      "Polarimetric-Parameters - Compute general polarimetric parameters\n",
      "SetNoDataValue - Set NoDataValueUsed flag and NoDataValue for all bands\n",
      "RviOp - Ratio Vegetation Index retrieves the Isovegetation lines converge at origin\n",
      "Enhanced-Spectral-Diversity - Estimate constant range and azimuth offsets for a stack of images\n",
      "KDTree-KNN-Classifier - KDTree KNN classifier\n",
      "MphChlMeris - Computes maximum peak height of chlorophyll for MERIS. Implements MERIS-specific parts.\n",
      "Import-Vector - Imports a shape file into a product\n",
      "DeburstWSS - Debursts an ASAR WSS product\n",
      "S2Resampling - Specific S2 resample algorithm\n",
      "Flip - flips a product horizontal/vertical\n",
      "CP-Simulation - Simulation of Compact Pol data from Quad Pol data\n",
      "Object-Discrimination - Remove false alarms from the detected objects.\n",
      "BatchSnaphuUnwrapOp - Downloads and executes SNAPHU on a set of two or more interferograms.\n",
      "IpviOp - Infrared Percentage Vegetation Index retrieves the Isovegetation lines converge at origin\n",
      "Meris.SmileCorrection - None\n",
      "TsaviOp - This retrieves the Transformed Soil Adjusted Vegetation Index (TSAVI).\n",
      "ChangeVectorAnalysisOp - The 'Change Vector Analysis' between two dual bands at two differents dates.\n",
      "EAP-Phase-Correction - EAP Phase Correction\n",
      "CP-Decomposition - Perform Compact Polarimetric decomposition of a given product\n",
      "NdviOp - The retrieves the Normalized Difference Vegetation Index (NDVI).\n",
      "Unmix - Performs a linear spectral unmixing.\n",
      "BiophysicalOp - The 'Biophysical Processor' operator retrieves LAI from atmospherically corrected Sentinel-2 products\n",
      "ReipOp - The red edge inflection point index\n",
      "Stack-Averaging - Averaging multi-temporal images\n",
      "ReflectanceToRadianceOp - The 'Reflectance To Radiance Processor' operator retrieves the radiance from reflectance using Sentinel-2 products\n",
      "Meris.Sdr - None\n",
      "AddLandCover - Creates a land cover band\n",
      "c2rcc.modis - Performs atmospheric correction and IOP retrieval on MODIS L1C_LAC data products.\n",
      "S2tbx-Reproject - Reprojection of a source product to a target Coordinate Reference System.\n",
      "Meris.Brr - Performs the Rayleigh correction on a MERIS L1b product.\n",
      "PduStitching - Stitches multiple SLSTR L1B product dissemination units (PDUs) of the same orbit to a single product.\n",
      "TndviOp - Transformed Normalized Difference Vegetation Index retrieves the Isovegetation lines parallel to soil line\n",
      "NdtiOp - Normalized difference turbidity index, allowing for the measurement of water turbidity\n",
      "Land-Cover-Mask - Perform a masking based on land cover classes\n",
      "McariOp - Modified Chlorophyll Absorption Ratio Index, developed to be responsive to chlorophyll variation\n",
      "Meris.CloudTopPressureOp - Computes cloud top pressure with FUB NN.\n",
      "Radar-Vegetation-Index - Dual-pol Radar Vegetation Indices generation\n",
      "Back-Geocoding - Bursts co-registration using orbit and DEM\n",
      "StoredGraph - Encapsulates an stored graph into an operator.\n",
      "c2rcc.landsat7 - Performs atmospheric correction and IOP retrieval with uncertainties on Landsat-7 L1 data products.\n",
      "PhaseToHeight - Phase to Height conversion\n",
      "Multilook - Averages the power across a number of lines in both the azimuth and range directions\n",
      "GLCM - Extract Texture Features\n",
      "Land-Sea-Mask - Creates a bitmask defining land vs ocean.\n",
      "BandSelect - Creates a new product with only selected bands\n",
      "OWTClassification - Performs an optical water type classification based on atmospherically corrected reflectances.\n",
      "c2rcc.meris4 - Performs atmospheric correction and IOP retrieval with uncertainties on MERIS L1b data products from the 4th reprocessing.\n",
      "Terrain-Flattening - Terrain Flattening\n",
      "BandMaths - Create a product with one or more bands using mathematical expressions.\n",
      "SpectralAngleMapperOp - Classifies a product using the spectral angle mapper algorithm\n",
      "Terrain-Mask - Terrain Mask Generation\n",
      "FUB.Water - MERIS FUB-CSIRO Coastal Water Processor to retrieve case II water properties and atmospheric properties\n",
      "Orientation-Angle-Correction - Perform polarization orientation angle correction for given coherency matrix\n",
      "L3ToL1 - None\n",
      "AATSR.Ungrid - Ungrids (A)ATSR L1B products and extracts geolocation and pixel field of view data.\n",
      "Write - Writes a data product to a file.\n",
      "DEM-Assisted-Coregistration - Orbit and DEM based co-registration\n",
      "Resample - Resampling of a multi-size source product to a single-size target product.\n",
      "Aatsr.SST - Computes sea surface temperature (SST) from (A)ATSR products.\n",
      "Interferogram - Compute interferograms from stack of coregistered S-1 images\n",
      "Warp - Create Warp Function And Get Co-registrated Images\n",
      "DviOp - Difference Vegetation Index retrieves the Isovegetation lines parallel to soil line\n",
      "HorizontalVerticalMotion - Computation of Horizontal/Vertical Motion Components\n",
      "DarkObjectSubtraction - Performs dark object subtraction for spectral bands in source product.\n",
      "Reproject - Reprojection of a source product to a target Coordinate Reference System.\n",
      "GaborFilter - Extract Texture Features\n",
      "Minimum-Distance-Classifier - Minimum Distance classifier\n",
      "SAR-Mosaic - Mosaics two or more products based on their geo-codings.\n",
      "Meris.GaseousCorrection - MERIS L2 gaseous absorbtion correction.\n",
      "Speckle-Filter - Speckle Reduction\n",
      "OlciO2aHarmonisation - Performs O2A band harmonisation on OLCI L1b product. Implements update v4 of R.Preusker, June 2020.\n",
      "Three-passDInSAR - Differential Interferometry\n",
      "SARSim-Terrain-Correction - Orthorectification with SAR simulation\n",
      "MultiMasterStackGenerator - Generates a set of master-slave pairs from a coregistered stack for use in SBAS processing\n",
      "TOPSAR-DerampDemod - Bursts co-registration using orbit and DEM\n",
      "ForestCoverChangeOp - Creates forest change masks out of two source products\n",
      "FillBand - None\n",
      "SM-Dielectric-Modeling - Performs SM inversion using dielectric model\n",
      "c2rcc.seawifs - Performs atmospheric correction and IOP retrieval on SeaWifs L1C data products.\n",
      "BandPassFilter - Creates a basebanded SLC based on a subband of 1/3 the original bandwidth\n",
      "SaviOp - This retrieves the Soil-Adjusted Vegetation Index (SAVI).\n",
      "TopoPhaseRemoval - Compute and subtract TOPO phase\n",
      "Merge - Allows merging of several source products by using specified 'master' as reference product.\n",
      "Random-Forest-Classifier - Random Forest based classifier\n",
      "Msavi2Op - This retrieves the second Modified Soil Adjusted Vegetation Index (MSAVI2).\n",
      "RiOp - The Redness Index was developed to identify soil colour variations.\n",
      "Multi-size Mosaic - Creates a multi-size mosaic out of a set of source products.\n",
      "SmacOp - Applies the Simplified Method for Atmospheric Corrections of Envisat MERIS/(A)ATSR measurements.\n",
      "CP-Stokes-Parameters - Generates compact polarimetric Stokes child parameters\n",
      "OlciAnomalyFlagging - Adds a flagging band indicating saturated pixels and altitude data overflows\n",
      "SRGR - Converts Slant Range to Ground Range\n",
      "Meris.CombinedCloud - None\n",
      "Meris.CloudClassification - MERIS L2 cloud classification.\n",
      "Convert-Datatype - Convert product data type\n",
      "Azimuth-Shift-Estimation-ESD - Estimate azimuth offset for the whole image\n",
      "c2rcc.viirs - Performs atmospheric correction and IOP retrieval on Viirs L1C data products.\n",
      "PssraOp - Pigment Specific Simple Ratio, chlorophyll index\n",
      "TOPSAR-Deburst - Debursts a Sentinel-1 TOPSAR product\n",
      "Calibration - Calibration of products\n",
      "Multi-Temporal-Speckle-Filter - Speckle Reduction using Multitemporal Filtering\n",
      "Stack-Split - Writes all bands to files.\n",
      "EcostressSwath2GridOp - Performs ECOSTRESS Swath to Grid conversion to a specified CRS and radiance to brightness temperature conversion, using the algorithm from 'ECOSTRESS Swath to Grid Conversion Script' by LP DAAC (https://git.earthdata.nasa.gov/projects/LPDUR/repos/ecostress_swath2grid/).\n",
      "Fill-DEM-Hole - Fill holes in given DEM product file.\n",
      "Meris.CloudShadow - None\n",
      "CoregistrationOp - Coregisters two rasters, not considering their location\n",
      "Demodulate - Demodulation and deramping of SLC data\n",
      "CiOp - Colour Index  was developed to differentiate soils in the field. It gives complementary information with the BI and the NDVI.\n",
      "NdpiOp - The normalized differential pond index, combines the short-wave infrared band-I and the green band\n",
      "Read - Reads a data product from a given file location.\n",
      "TileWriter - Writes a data product to a tiles.\n",
      "FuClassification - Colour classification based on the discrete Forel-Ule scale\n",
      "RemoveAntennaPattern - Remove Antenna Pattern\n",
      "Polarimetric-Classification - Perform Polarimetric classification of a given product\n",
      "Meris.Adapt.4To3 - Provides the adaptation of MERIS L1b products from 4th to 3rd reprocessing.\n",
      "Double-Difference-Interferogram - Compute double difference interferogram\n",
      "Oil-Spill-Clustering - Remove small clusters from detected area.\n",
      "SAR-Simulation - Rigorous SAR Simulation\n",
      "KMeansClusterAnalysis - Performs a K-Means cluster analysis.\n",
      "MphChlBasis - Computes maximum peak height of chlorophyll. Basis class, contains sensor-independent parts.\n",
      "Meris.N1Patcher - Copies an existing N1 file and replaces the data for the radiance bands\n",
      "WriteRGB - Creates an RGB image from three source bands.\n",
      "Meris.LandClassification - MERIS L2 land/water reclassification.\n",
      "AdaptiveThresholding - Detect ships using Constant False Alarm Rate detector.\n",
      "PpeFiltering - Performs Prompt Particle Event (PPE) filtering on OLCI L1B\n",
      "ToolAdapterOp - Tool Adapter Operator\n",
      "ReplaceMetadata - Replace the metadata of the first product with that of the second\n",
      "Data-Analysis - Computes statistics\n",
      "SnaphuExport - Export data and prepare conf file for SNAPHU processing\n",
      "Bi2Op - The second Brightness index represents the average of the brightness of a satellite image.\n",
      "PCA - Performs a Principal Component Analysis.\n",
      "StampsExport - Export data for StaMPS processing\n",
      "IEM-Hybrid-Inversion - Performs IEM inversion using Hybrid approach\n",
      "Meris.CorrectRadiometry - Performs radiometric corrections on MERIS L1b data products.\n",
      "RangeFilter - Range Filter\n",
      "PixEx - Extracts pixels from given locations and source products.\n",
      "Compactpol-Radar-Vegetation-Index - Compact-pol Radar Vegetation Indices generation\n",
      "Binning - Performs spatial and temporal aggregation of pixel values into cells ('bins') of a planetary grid\n",
      "Coherence - Estimate coherence from stack of coregistered images\n",
      "SnaphuImport - Ingest SNAPHU results into InSAR product.\n",
      "PassThrough - Sets target product to source product.\n",
      "CloudProb - Applies a clear sky conservative cloud detection algorithm.\n",
      "SliceAssembly - Merges Sentinel-1 slice products\n",
      "Subset - Create a spatial and/or spectral subset of a data product.\n",
      "IntegerInterferogram - Create integer interferogram\n",
      "OlciSensorHarmonisation - Performs sensor harmonisation on OLCI L1b product. Implements algorithm described in 'OLCI A/B Tandem Phase Analysis'\n",
      "TemporalPercentile - Computes percentiles over a given time period.\n",
      "Offset-Tracking - Create velocity vectors from offset tracking\n",
      "SmileCorrection.Olci - Performs radiometric corrections on OLCI L1b data products.\n",
      "FillAerosol - None\n",
      "Update-Geo-Reference - Update Geo Reference\n",
      "GenericRegionMergingOp - The 'Generic Region Merging' operator computes the distinct regions from a product\n",
      "EMClusterAnalysis - Performs an expectation-maximization (EM) cluster analysis.\n",
      "Image-Filter - Common Image Processing Filters\n",
      "Ndi45Op - Normalized Difference Index using bands 4 and 5\n"
     ]
    },
    {
     "data": {
      "text/plain": "{'BiOp': 'The Brightness index represents the average of the brightness of a satellite image.',\n 'Faraday-Rotation-Correction': 'Perform Faraday-rotation correction for quad-pol product',\n 'NdwiOp': 'The Normalized Difference Water Index was developed for the extraction of water features',\n 'PviOp': 'Perpendicular Vegetation Index retrieves the Isovegetation lines parallel to soil line.\\nSoil line has an arbitrary slope and passes through origin',\n 'MoreThenAnIntegerOp': 'just for testing',\n 'Polarimetric-Speckle-Filter': 'Polarimetric Speckle Reduction',\n 'GemiOp': 'This retrieves the Global Environmental Monitoring Index (GEMI).',\n 'RRToFRS': None,\n 'Remodulate': 'Remodulation and reramping of SLC data',\n 'Change-Detection': 'Change Detection.',\n 'MtciOp': 'The Meris Terrestrial Chlorophyll Index estimates the Red Edge Position (REP).',\n 'MndwiOp': 'Modified Normalized Difference Water Index, allowing for the measurement of surface water extent',\n 'GndviOp': 'Green Normalized Difference Vegetation Index',\n 'Cross-Correlation': 'Automatic Selection of Ground Control Points',\n 'Meris.CloudProbability': None,\n 'SimulateAmplitude': 'Simulate amplitude based on DEM',\n 'PhaseToElevation': 'DEM Generation',\n 'GaseousAbsorption': 'Correct the influence of atmospheric gas absorption for those OLCI channels.',\n 'MsaviOp': 'This retrieves the Modified Soil Adjusted Vegetation Index (MSAVI).',\n 'Mci.s2': 'Computes maximum chlorophyll index (MCI) for Sentinel-2 MSI.',\n 'Supervised-Wishart-Classification': 'Perform supervised Wishart classification',\n 'Meris.RayleighCorrection': 'MERIS L2 rayleigh correction.',\n 'ArviOp': 'Atmospherically Resistant Vegetation Index belongs to a family of indices with built-in atmospheric corrections.',\n 'DecisionTree': 'Perform decision tree classification',\n 'MphChl': 'This operator computes maximum peak height of chlorophyll (MPH/CHL).',\n 'BiophysicalLandsat8Op': \"The 'Biophysical Processor' operator retrieves LAI from atmospherically corrected Landsat8 products\",\n 'IEM-Multi-Angle-Inversion': 'Performs IEM inversion using Multi-angle approach',\n 'Principle-Components': 'Principle Component Analysis',\n 'ALOS-Deskewing': 'Deskewing ALOS product',\n 'TileCache': 'Experimental Operator which provides a dedicated cache for its source product.\\nA guide on how this operator is used is provided at https://senbox.atlassian.net/wiki/x/VQCTLw.',\n 'GRD-Post': 'Applies GRD post-processing',\n 'AzimuthFilter': 'Azimuth Filter',\n 'Flood-Detection': 'Detect flooded area.',\n 'BandsDifferenceOp': None,\n 'S2repOp': 'Sentinel-2 red-edge position index',\n 'S1-ETAD-Correction': 'ETAD correction of S-1 TOPS/SM/GRD products',\n 'FlhMci': 'Computes fluorescence line height (FLH) or maximum chlorophyll index (MCI).',\n 'RayleighCorrection': 'Performs radiometric corrections on OLCI, MERIS L1B and S2 MSI L1C data products.',\n 'c2rcc.meris': 'Performs atmospheric correction and IOP retrieval with uncertainties on MERIS L1b data products.',\n 'GoldsteinPhaseFiltering': 'Phase Filtering',\n 'Oil-Spill-Detection': 'Detect oil spill.',\n 'c2rcc.olci': 'Performs atmospheric correction and IOP retrieval with uncertainties on SENTINEL-3 OLCI L1B data products.',\n 'LinearToFromdB': 'Converts bands to/from dB',\n 'TOPSAR-Split': 'Creates a new product with only the selected subswath',\n 'Apply-Orbit-File': 'Apply orbit file',\n 'TOPSAR-Merge': 'Merge subswaths of a Sentinel-1 TOPSAR product',\n 'LandWaterMask': 'Operator creating a target product with a single band containing a land/water-mask.',\n 'c2rcc': 'Performs atmospheric correction and IOP retrieval on OLCI, MSI, MERIS, MODIS or SeaWiFS L1 product.',\n 'IEM-Multi-Pol-Inversion': 'Performs IEM inversion using Multi-polarization approach',\n 'CrossResampling': 'Estimate Resampling Polynomial using SAR Image Geometry, and Resample Input Images',\n 'Polarimetric-Matrices': 'Generates covariance or coherency matrix for given product',\n 'KNN-Classifier': 'K-Nearest Neighbour classifier',\n 'Maximum-Likelihood-Classifier': 'Maximum Likelihood classifier',\n 'Polarimetric-Decomposition': 'Perform Polarimetric decomposition of a given product',\n 'Ellipsoid-Correction-RD': 'Ellipsoid correction with RD method and average scene height',\n 'Biophysical10mOp': \"The 'Biophysical Processor' operator retrieves LAI from atmospherically corrected Sentinel-2 products\",\n 'RemoteExecutionOp': 'Executes a slave graph on a remote machine and uses the resulted products as an input for the master graph executed on the host machine.',\n 'BandsExtractorOp': 'Creates a new product out of the source product containing only the indexes bands given',\n 'BandMerge': \"Allows copying raster data from any number of source products to a specified 'master' product.\",\n 'Undersample': 'Undersample the datset',\n 'Ellipsoid-Correction-GG': 'GG method for orthorectification',\n 'Rad2Refl': 'Provides conversion from radiances to reflectances or backwards.',\n 'Cross-Channel-SNR-Correction': 'Compute general polarimetric parameters',\n 'Mosaic': 'Creates a mosaic out of a set of source products.',\n 'MultiMasterInSAR': 'Multi-master InSAR processing',\n 'Forest-Area-Classification': 'Detect forest area',\n 'CreateStack': 'Collocates two or more products based on their geo-codings.',\n 'Collocate': 'Collocates two products based on their geo-codings.',\n 'c2rcc.msi': 'Performs atmospheric correction and IOP retrieval with uncertainties on Sentinel-2 MSI L1C data products.',\n 'Oversample': 'Oversample the datset',\n 'PhaseToDisplacement': 'Phase To Displacement Conversion along LOS',\n 'Arc.SST': 'Computes sea surface temperature (SST) from (A)ATSR and SLSTR products.',\n 'EsaSnappyPyOp': 'Uses Python code to process data products',\n 'IonosphericCorrection': 'Estimation of Ionospheric Phase Screens',\n 'Generalized-Radar-Vegetation-Index': 'Generalized Radar Vegetation Indices generation',\n 'Meris.BlueBand': None,\n 'Ndwi2Op': 'The Normalized Difference Water Index, allowing for the measurement of surface water extent',\n 'ThermalNoiseRemoval': 'Removes thermal noise from products',\n 'Forest-Area-Detection': 'Detect forest area.',\n 'Terrain-Correction': 'RD method for orthorectification',\n 'Compute-Slope-Aspect': 'Compute Slope and Aspect from DEM',\n 'Remove-GRD-Border-Noise': 'Mask no-value pixels for GRD product',\n 'ProductSet-Reader': 'Adds a list of sources',\n 'InSAR-Overview': 'InSAR summary and optimal reference selection.',\n 'Meris.GapLessSdr': None,\n 'Wind-Field-Estimation': 'Estimate wind speed and direction',\n 'SubGraph': 'Encapsulates a graph within a graph.',\n 'WdviOp': 'Weighted Difference Vegetation Index retrieves the Isovegetation lines parallel to soil line.\\nSoil line has an arbitrary slope and passes through origin',\n 'MphChlOlci': 'Computes maximum peak height of chlorophyll for OLCI. Implements OLCI-specific parts.',\n 'AddElevation': 'Creates a DEM band',\n 'Multitemporal-Compositing': 'Compute composite image from multi-temporal RTCs',\n 'StatisticsOp': 'Computes statistics for an arbitrary number of source products.',\n 'c2rcc.landsat8': 'Performs atmospheric correction and IOP retrieval with uncertainties on Landsat-8 L1 data products.',\n 'Speckle-Divergence': 'Detect urban area.',\n 'IreciOp': 'Inverted red-edge chlorophyll index',\n 'Polarimetric-Parameters': 'Compute general polarimetric parameters',\n 'SetNoDataValue': 'Set NoDataValueUsed flag and NoDataValue for all bands',\n 'RviOp': 'Ratio Vegetation Index retrieves the Isovegetation lines converge at origin',\n 'Enhanced-Spectral-Diversity': 'Estimate constant range and azimuth offsets for a stack of images',\n 'KDTree-KNN-Classifier': 'KDTree KNN classifier',\n 'MphChlMeris': 'Computes maximum peak height of chlorophyll for MERIS. Implements MERIS-specific parts.',\n 'Import-Vector': 'Imports a shape file into a product',\n 'DeburstWSS': 'Debursts an ASAR WSS product',\n 'S2Resampling': 'Specific S2 resample algorithm',\n 'Flip': 'flips a product horizontal/vertical',\n 'CP-Simulation': 'Simulation of Compact Pol data from Quad Pol data',\n 'Object-Discrimination': 'Remove false alarms from the detected objects.',\n 'BatchSnaphuUnwrapOp': 'Downloads and executes SNAPHU on a set of two or more interferograms.',\n 'IpviOp': 'Infrared Percentage Vegetation Index retrieves the Isovegetation lines converge at origin',\n 'Meris.SmileCorrection': None,\n 'TsaviOp': 'This retrieves the Transformed Soil Adjusted Vegetation Index (TSAVI).',\n 'ChangeVectorAnalysisOp': \"The 'Change Vector Analysis' between two dual bands at two differents dates.\",\n 'EAP-Phase-Correction': 'EAP Phase Correction',\n 'CP-Decomposition': 'Perform Compact Polarimetric decomposition of a given product',\n 'NdviOp': 'The retrieves the Normalized Difference Vegetation Index (NDVI).',\n 'Unmix': 'Performs a linear spectral unmixing.',\n 'BiophysicalOp': \"The 'Biophysical Processor' operator retrieves LAI from atmospherically corrected Sentinel-2 products\",\n 'ReipOp': 'The red edge inflection point index',\n 'Stack-Averaging': 'Averaging multi-temporal images',\n 'ReflectanceToRadianceOp': \"The 'Reflectance To Radiance Processor' operator retrieves the radiance from reflectance using Sentinel-2 products\",\n 'Meris.Sdr': None,\n 'AddLandCover': 'Creates a land cover band',\n 'c2rcc.modis': 'Performs atmospheric correction and IOP retrieval on MODIS L1C_LAC data products.',\n 'S2tbx-Reproject': 'Reprojection of a source product to a target Coordinate Reference System.',\n 'Meris.Brr': 'Performs the Rayleigh correction on a MERIS L1b product.',\n 'PduStitching': 'Stitches multiple SLSTR L1B product dissemination units (PDUs) of the same orbit to a single product.',\n 'TndviOp': 'Transformed Normalized Difference Vegetation Index retrieves the Isovegetation lines parallel to soil line',\n 'NdtiOp': 'Normalized difference turbidity index, allowing for the measurement of water turbidity',\n 'Land-Cover-Mask': 'Perform a masking based on land cover classes',\n 'McariOp': 'Modified Chlorophyll Absorption Ratio Index, developed to be responsive to chlorophyll variation',\n 'Meris.CloudTopPressureOp': 'Computes cloud top pressure with FUB NN.',\n 'Radar-Vegetation-Index': 'Dual-pol Radar Vegetation Indices generation',\n 'Back-Geocoding': 'Bursts co-registration using orbit and DEM',\n 'StoredGraph': 'Encapsulates an stored graph into an operator.',\n 'c2rcc.landsat7': 'Performs atmospheric correction and IOP retrieval with uncertainties on Landsat-7 L1 data products.',\n 'PhaseToHeight': 'Phase to Height conversion',\n 'Multilook': 'Averages the power across a number of lines in both the azimuth and range directions',\n 'GLCM': 'Extract Texture Features',\n 'Land-Sea-Mask': 'Creates a bitmask defining land vs ocean.',\n 'BandSelect': 'Creates a new product with only selected bands',\n 'OWTClassification': 'Performs an optical water type classification based on atmospherically corrected reflectances.',\n 'c2rcc.meris4': 'Performs atmospheric correction and IOP retrieval with uncertainties on MERIS L1b data products from the 4th reprocessing.',\n 'Terrain-Flattening': 'Terrain Flattening',\n 'BandMaths': 'Create a product with one or more bands using mathematical expressions.',\n 'SpectralAngleMapperOp': 'Classifies a product using the spectral angle mapper algorithm',\n 'Terrain-Mask': 'Terrain Mask Generation',\n 'FUB.Water': 'MERIS FUB-CSIRO Coastal Water Processor to retrieve case II water properties and atmospheric properties',\n 'Orientation-Angle-Correction': 'Perform polarization orientation angle correction for given coherency matrix',\n 'L3ToL1': None,\n 'AATSR.Ungrid': 'Ungrids (A)ATSR L1B products and extracts geolocation and pixel field of view data.',\n 'Write': 'Writes a data product to a file.',\n 'DEM-Assisted-Coregistration': 'Orbit and DEM based co-registration',\n 'Resample': 'Resampling of a multi-size source product to a single-size target product.',\n 'Aatsr.SST': 'Computes sea surface temperature (SST) from (A)ATSR products.',\n 'Interferogram': 'Compute interferograms from stack of coregistered S-1 images',\n 'Warp': 'Create Warp Function And Get Co-registrated Images',\n 'DviOp': 'Difference Vegetation Index retrieves the Isovegetation lines parallel to soil line',\n 'HorizontalVerticalMotion': 'Computation of Horizontal/Vertical Motion Components',\n 'DarkObjectSubtraction': 'Performs dark object subtraction for spectral bands in source product.',\n 'Reproject': 'Reprojection of a source product to a target Coordinate Reference System.',\n 'GaborFilter': 'Extract Texture Features',\n 'Minimum-Distance-Classifier': 'Minimum Distance classifier',\n 'SAR-Mosaic': 'Mosaics two or more products based on their geo-codings.',\n 'Meris.GaseousCorrection': 'MERIS L2 gaseous absorbtion correction.',\n 'Speckle-Filter': 'Speckle Reduction',\n 'OlciO2aHarmonisation': 'Performs O2A band harmonisation on OLCI L1b product. Implements update v4 of R.Preusker, June 2020.',\n 'Three-passDInSAR': 'Differential Interferometry',\n 'SARSim-Terrain-Correction': 'Orthorectification with SAR simulation',\n 'MultiMasterStackGenerator': 'Generates a set of master-slave pairs from a coregistered stack for use in SBAS processing',\n 'TOPSAR-DerampDemod': 'Bursts co-registration using orbit and DEM',\n 'ForestCoverChangeOp': 'Creates forest change masks out of two source products',\n 'FillBand': None,\n 'SM-Dielectric-Modeling': 'Performs SM inversion using dielectric model',\n 'c2rcc.seawifs': 'Performs atmospheric correction and IOP retrieval on SeaWifs L1C data products.',\n 'BandPassFilter': 'Creates a basebanded SLC based on a subband of 1/3 the original bandwidth',\n 'SaviOp': 'This retrieves the Soil-Adjusted Vegetation Index (SAVI).',\n 'TopoPhaseRemoval': 'Compute and subtract TOPO phase',\n 'Merge': \"Allows merging of several source products by using specified 'master' as reference product.\",\n 'Random-Forest-Classifier': 'Random Forest based classifier',\n 'Msavi2Op': 'This retrieves the second Modified Soil Adjusted Vegetation Index (MSAVI2).',\n 'RiOp': 'The Redness Index was developed to identify soil colour variations.',\n 'Multi-size Mosaic': 'Creates a multi-size mosaic out of a set of source products.',\n 'SmacOp': 'Applies the Simplified Method for Atmospheric Corrections of Envisat MERIS/(A)ATSR measurements.',\n 'CP-Stokes-Parameters': 'Generates compact polarimetric Stokes child parameters',\n 'OlciAnomalyFlagging': 'Adds a flagging band indicating saturated pixels and altitude data overflows',\n 'SRGR': 'Converts Slant Range to Ground Range',\n 'Meris.CombinedCloud': None,\n 'Meris.CloudClassification': 'MERIS L2 cloud classification.',\n 'Convert-Datatype': 'Convert product data type',\n 'Azimuth-Shift-Estimation-ESD': 'Estimate azimuth offset for the whole image',\n 'c2rcc.viirs': 'Performs atmospheric correction and IOP retrieval on Viirs L1C data products.',\n 'PssraOp': 'Pigment Specific Simple Ratio, chlorophyll index',\n 'TOPSAR-Deburst': 'Debursts a Sentinel-1 TOPSAR product',\n 'Calibration': 'Calibration of products',\n 'Multi-Temporal-Speckle-Filter': 'Speckle Reduction using Multitemporal Filtering',\n 'Stack-Split': 'Writes all bands to files.',\n 'EcostressSwath2GridOp': \"Performs ECOSTRESS Swath to Grid conversion to a specified CRS and radiance to brightness temperature conversion, using the algorithm from 'ECOSTRESS Swath to Grid Conversion Script' by LP DAAC (https://git.earthdata.nasa.gov/projects/LPDUR/repos/ecostress_swath2grid/).\",\n 'Fill-DEM-Hole': 'Fill holes in given DEM product file.',\n 'Meris.CloudShadow': None,\n 'CoregistrationOp': 'Coregisters two rasters, not considering their location',\n 'Demodulate': 'Demodulation and deramping of SLC data',\n 'CiOp': 'Colour Index  was developed to differentiate soils in the field. It gives complementary information with the BI and the NDVI.',\n 'NdpiOp': 'The normalized differential pond index, combines the short-wave infrared band-I and the green band',\n 'Read': 'Reads a data product from a given file location.',\n 'TileWriter': 'Writes a data product to a tiles.',\n 'FuClassification': 'Colour classification based on the discrete Forel-Ule scale',\n 'RemoveAntennaPattern': 'Remove Antenna Pattern',\n 'Polarimetric-Classification': 'Perform Polarimetric classification of a given product',\n 'Meris.Adapt.4To3': 'Provides the adaptation of MERIS L1b products from 4th to 3rd reprocessing.',\n 'Double-Difference-Interferogram': 'Compute double difference interferogram',\n 'Oil-Spill-Clustering': 'Remove small clusters from detected area.',\n 'SAR-Simulation': 'Rigorous SAR Simulation',\n 'KMeansClusterAnalysis': 'Performs a K-Means cluster analysis.',\n 'MphChlBasis': 'Computes maximum peak height of chlorophyll. Basis class, contains sensor-independent parts.',\n 'Meris.N1Patcher': 'Copies an existing N1 file and replaces the data for the radiance bands',\n 'WriteRGB': 'Creates an RGB image from three source bands.',\n 'Meris.LandClassification': 'MERIS L2 land/water reclassification.',\n 'AdaptiveThresholding': 'Detect ships using Constant False Alarm Rate detector.',\n 'PpeFiltering': 'Performs Prompt Particle Event (PPE) filtering on OLCI L1B',\n 'ToolAdapterOp': 'Tool Adapter Operator',\n 'ReplaceMetadata': 'Replace the metadata of the first product with that of the second',\n 'Data-Analysis': 'Computes statistics',\n 'SnaphuExport': 'Export data and prepare conf file for SNAPHU processing',\n 'Bi2Op': 'The second Brightness index represents the average of the brightness of a satellite image.',\n 'PCA': 'Performs a Principal Component Analysis.',\n 'StampsExport': 'Export data for StaMPS processing',\n 'IEM-Hybrid-Inversion': 'Performs IEM inversion using Hybrid approach',\n 'Meris.CorrectRadiometry': 'Performs radiometric corrections on MERIS L1b data products.',\n 'RangeFilter': 'Range Filter',\n 'PixEx': 'Extracts pixels from given locations and source products.',\n 'Compactpol-Radar-Vegetation-Index': 'Compact-pol Radar Vegetation Indices generation',\n 'Binning': \"Performs spatial and temporal aggregation of pixel values into cells ('bins') of a planetary grid\",\n 'Coherence': 'Estimate coherence from stack of coregistered images',\n 'SnaphuImport': 'Ingest SNAPHU results into InSAR product.',\n 'PassThrough': 'Sets target product to source product.',\n 'CloudProb': 'Applies a clear sky conservative cloud detection algorithm.',\n 'SliceAssembly': 'Merges Sentinel-1 slice products',\n 'Subset': 'Create a spatial and/or spectral subset of a data product.',\n 'IntegerInterferogram': 'Create integer interferogram',\n 'OlciSensorHarmonisation': \"Performs sensor harmonisation on OLCI L1b product. Implements algorithm described in 'OLCI A/B Tandem Phase Analysis'\",\n 'TemporalPercentile': 'Computes percentiles over a given time period.',\n 'Offset-Tracking': 'Create velocity vectors from offset tracking',\n 'SmileCorrection.Olci': 'Performs radiometric corrections on OLCI L1b data products.',\n 'FillAerosol': None,\n 'Update-Geo-Reference': 'Update Geo Reference',\n 'GenericRegionMergingOp': \"The 'Generic Region Merging' operator computes the distinct regions from a product\",\n 'EMClusterAnalysis': 'Performs an expectation-maximization (EM) cluster analysis.',\n 'Image-Filter': 'Common Image Processing Filters',\n 'Ndi45Op': 'Normalized Difference Index using bands 4 and 5'}"
     },
     "execution_count": 17,
     "metadata": {},
     "output_type": "execute_result"
    }
   ],
   "source": [
    "g.describe_operators()"
   ]
  },
  {
   "cell_type": "markdown",
   "metadata": {},
   "source": [
    "Create a linear graph"
   ]
  },
  {
   "cell_type": "code",
   "execution_count": 18,
   "metadata": {},
   "outputs": [
    {
     "name": "stdout",
     "output_type": "stream",
     "text": [
      "Adding Operator Read to graph\n",
      "Adding Operator Resample to graph\n",
      "Adding Operator Reproject to graph\n",
      "Adding Operator Subset to graph\n",
      "Adding Operator AddLandCover to graph\n",
      "Adding Operator Write to graph\n"
     ]
    }
   ],
   "source": [
    "g = Graph() \n",
    "\n",
    "read = Operator('Read')\n",
    "\n",
    "read.formatName = 'SENTINEL-1'\n",
    "read.file = 'some1'\n",
    "\n",
    "\n",
    "operators = [read,\n",
    "             'Resample',\n",
    "             'Reproject',\n",
    "             'Subset',\n",
    "             'AddLandCover',\n",
    "             'Write']\n",
    "\n",
    "for index, operator in enumerate(operators):\n",
    "    \n",
    "    print('Adding Operator {} to graph'.format(operator.operator if isinstance(operator, Operator) else operator))\n",
    "    if index == 0:            \n",
    "        source_node_id = ''\n",
    "\n",
    "    else:\n",
    "        source_node_id = operators[index - 1].operator if isinstance(operators[index - 1], Operator) else operators[index - 1]\n",
    "        \n",
    "        \n",
    "    g.add_node(operator if isinstance(operator, Operator) else Operator(operator),\n",
    "               operator.operator if isinstance(operator, Operator) else operator,\n",
    "               source_node_id)\n",
    "      "
   ]
  },
  {
   "cell_type": "code",
   "execution_count": 19,
   "metadata": {},
   "outputs": [
    {
     "name": "stdout",
     "output_type": "stream",
     "text": [
      "<graph>\n",
      "  <version>1.0</version>\n",
      "  <node id=\"Read\">\n",
      "    <operator>Read</operator>\n",
      "    <sources>\n",
      "      <sourceProduct refid=\"\"/>\n",
      "    </sources>\n",
      "    <parameters class=\"com.bc.ceres.binding.dom.XppDomElement\">\n",
      "      <bandNames/>\n",
      "      <copyMetadata>true</copyMetadata>\n",
      "      <file>some1</file>\n",
      "      <formatName>SENTINEL-1</formatName>\n",
      "      <geometryRegion/>\n",
      "      <maskNames/>\n",
      "      <pixelRegion/>\n",
      "      <useAdvancedOptions>false</useAdvancedOptions>\n",
      "    </parameters>\n",
      "  </node>\n",
      "  <node id=\"Resample\">\n",
      "    <operator>Resample</operator>\n",
      "    <sources>\n",
      "      <sourceProduct refid=\"Read\"/>\n",
      "    </sources>\n",
      "    <parameters class=\"com.bc.ceres.binding.dom.XppDomElement\">\n",
      "      <bandResamplings/>\n",
      "      <downsamplingMethod>First</downsamplingMethod>\n",
      "      <flagDownsamplingMethod>First</flagDownsamplingMethod>\n",
      "      <referenceBandName/>\n",
      "      <resampleOnPyramidLevels>true</resampleOnPyramidLevels>\n",
      "      <resamplingPreset/>\n",
      "      <targetHeight/>\n",
      "      <targetResolution/>\n",
      "      <targetWidth/>\n",
      "      <upsamplingMethod>Nearest</upsamplingMethod>\n",
      "    </parameters>\n",
      "  </node>\n",
      "  <node id=\"Reproject\">\n",
      "    <operator>Reproject</operator>\n",
      "    <sources>\n",
      "      <sourceProduct refid=\"Resample\"/>\n",
      "    </sources>\n",
      "    <parameters class=\"com.bc.ceres.binding.dom.XppDomElement\">\n",
      "      <addDeltaBands>false</addDeltaBands>\n",
      "      <crs/>\n",
      "      <easting/>\n",
      "      <elevationModelName/>\n",
      "      <height/>\n",
      "      <includeTiePointGrids>true</includeTiePointGrids>\n",
      "      <noDataValue/>\n",
      "      <northing/>\n",
      "      <orientation>0</orientation>\n",
      "      <orthorectify>false</orthorectify>\n",
      "      <pixelSizeX/>\n",
      "      <pixelSizeY/>\n",
      "      <referencePixelX/>\n",
      "      <referencePixelY/>\n",
      "      <resamplingName>Nearest</resamplingName>\n",
      "      <tileSizeX/>\n",
      "      <tileSizeY/>\n",
      "      <width/>\n",
      "      <wktFile/>\n",
      "    </parameters>\n",
      "  </node>\n",
      "  <node id=\"Subset\">\n",
      "    <operator>Subset</operator>\n",
      "    <sources>\n",
      "      <sourceProduct refid=\"Reproject\"/>\n",
      "    </sources>\n",
      "    <parameters class=\"com.bc.ceres.binding.dom.XppDomElement\">\n",
      "      <bandNames/>\n",
      "      <copyMetadata>false</copyMetadata>\n",
      "      <fullSwath>false</fullSwath>\n",
      "      <geoRegion/>\n",
      "      <referenceBand/>\n",
      "      <region/>\n",
      "      <subSamplingX>1</subSamplingX>\n",
      "      <subSamplingY>1</subSamplingY>\n",
      "      <tiePointGridNames/>\n",
      "    </parameters>\n",
      "  </node>\n",
      "  <node id=\"AddLandCover\">\n",
      "    <operator>AddLandCover</operator>\n",
      "    <sources>\n",
      "      <sourceProduct refid=\"Subset\"/>\n",
      "    </sources>\n",
      "    <parameters class=\"com.bc.ceres.binding.dom.XppDomElement\">\n",
      "      <externalFiles/>\n",
      "      <landCoverNames>AAFC Canada Sand Pct</landCoverNames>\n",
      "      <resamplingMethod>NEAREST_NEIGHBOUR</resamplingMethod>\n",
      "    </parameters>\n",
      "  </node>\n",
      "  <node id=\"Write\">\n",
      "    <operator>Write</operator>\n",
      "    <sources>\n",
      "      <sourceProduct refid=\"AddLandCover\"/>\n",
      "    </sources>\n",
      "    <parameters class=\"com.bc.ceres.binding.dom.XppDomElement\">\n",
      "      <clearCacheAfterRowWrite>false</clearCacheAfterRowWrite>\n",
      "      <deleteOutputOnFailure>true</deleteOutputOnFailure>\n",
      "      <file/>\n",
      "      <formatName>BEAM-DIMAP</formatName>\n",
      "      <writeEntireTileRows>false</writeEntireTileRows>\n",
      "    </parameters>\n",
      "  </node>\n",
      "</graph>\n",
      "\n"
     ]
    }
   ],
   "source": [
    "g.view()"
   ]
  },
  {
   "cell_type": "code",
   "execution_count": 20,
   "metadata": {},
   "outputs": [],
   "source": [
    "#g.run()"
   ]
  },
  {
   "cell_type": "markdown",
   "metadata": {},
   "source": [
    "## BandMaths"
   ]
  },
  {
   "cell_type": "code",
   "execution_count": 21,
   "metadata": {},
   "outputs": [],
   "source": [
    "band_maths = Operator('BandMaths')"
   ]
  },
  {
   "cell_type": "code",
   "execution_count": 22,
   "metadata": {},
   "outputs": [
    {
     "name": "stdout",
     "output_type": "stream",
     "text": [
      "Operator name: BandMaths\n",
      "\n",
      "Description: Create a product with one or more bands using mathematical expressions.\n",
      "Authors: Marco Zuehlke, Norman Fomferra, Marco Peters\n",
      "\n",
      "org.esa.snap.core.gpf.common.BandMathsOp\n",
      "Version: 1.1\n",
      "\n",
      "Parameters:\n",
      "\n",
      "\ttargetBandDescriptors: List of descriptors defining the target bands.\n",
      "\t\tDefault Value: None\n",
      "\n",
      "\t\tPossible values: []\n",
      "\n",
      "\tvariables: List of variables which can be used within the expressions.\n",
      "\t\tDefault Value: None\n",
      "\n",
      "\t\tPossible values: []\n",
      "\n"
     ]
    }
   ],
   "source": [
    "band_maths.describe()"
   ]
  },
  {
   "cell_type": "markdown",
   "metadata": {},
   "source": [
    "<targetBand>\n",
    "          <name>active_fire_detected</name>\n",
    "          <type>float32</type>\n",
    "          <expression>S9_BT_in &lt; 265 ? 0 : F1_BT_in &gt; 315 and (F1_BT_in - F2_BT_in) &gt; 15 ? 1 : 0</expression>\n",
    "          <description/>\n",
    "          <unit/>\n",
    "          <noDataValue>NaN</noDataValue>\n",
    "        </targetBand>"
   ]
  },
  {
   "cell_type": "code",
   "execution_count": 23,
   "metadata": {},
   "outputs": [],
   "source": [
    "active_fire_band = TargetBand(name='active_fire_detected',\n",
    "                              expression='S9_BT_in &lt; 265 ? 0 : F1_BT_in &gt; 315 and (F1_BT_in - F2_BT_in) &gt; 15 ? 1 : 0')"
   ]
  },
  {
   "cell_type": "code",
   "execution_count": 24,
   "metadata": {},
   "outputs": [
    {
     "data": {
      "text/plain": "TargetBand(name='active_fire_detected', expression='S9_BT_in &lt; 265 ? 0 : F1_BT_in &gt; 315 and (F1_BT_in - F2_BT_in) &gt; 15 ? 1 : 0', type='float32', description=None, unit=None, no_data_value='NaN')"
     },
     "execution_count": 24,
     "metadata": {},
     "output_type": "execute_result"
    }
   ],
   "source": [
    "active_fire_band"
   ]
  },
  {
   "cell_type": "code",
   "execution_count": 25,
   "metadata": {},
   "outputs": [],
   "source": [
    "band_maths.targetBandDescriptors = TargetBandDescriptors([active_fire_band])"
   ]
  },
  {
   "cell_type": "code",
   "execution_count": 26,
   "metadata": {},
   "outputs": [],
   "source": [
    "g = Graph()\n",
    "\n",
    "g.add_node(operator=Operator('Read'), \n",
    "           node_id='read_1')"
   ]
  },
  {
   "cell_type": "code",
   "execution_count": 27,
   "metadata": {},
   "outputs": [
    {
     "name": "stdout",
     "output_type": "stream",
     "text": [
      "targetBandDescriptors <snapista.target_band_descriptors.TargetBandDescriptors object at 0x0000028F46FA8910>\n"
     ]
    }
   ],
   "source": [
    "g.add_node(operator=band_maths, \n",
    "           node_id='band_maths', \n",
    "           source='read_1')"
   ]
  },
  {
   "cell_type": "code",
   "execution_count": 28,
   "metadata": {},
   "outputs": [
    {
     "name": "stdout",
     "output_type": "stream",
     "text": [
      "<graph>\n",
      "  <version>1.0</version>\n",
      "  <node id=\"read_1\">\n",
      "    <operator>Read</operator>\n",
      "    <sources/>\n",
      "    <parameters class=\"com.bc.ceres.binding.dom.XppDomElement\">\n",
      "      <bandNames/>\n",
      "      <copyMetadata>true</copyMetadata>\n",
      "      <file/>\n",
      "      <formatName/>\n",
      "      <geometryRegion/>\n",
      "      <maskNames/>\n",
      "      <pixelRegion/>\n",
      "      <useAdvancedOptions>false</useAdvancedOptions>\n",
      "    </parameters>\n",
      "  </node>\n",
      "  <node id=\"band_maths\">\n",
      "    <operator>BandMaths</operator>\n",
      "    <sources>\n",
      "      <sourceProduct refid=\"read_1\"/>\n",
      "    </sources>\n",
      "    <parameters class=\"com.bc.ceres.binding.dom.XppDomElement\">\n",
      "      <targetBands>\n",
      "        <targetBand>\n",
      "          <name>active_fire_detected</name>\n",
      "          <expression>S9_BT_in &amp;lt; 265 ? 0 : F1_BT_in &amp;gt; 315 and (F1_BT_in - F2_BT_in) &amp;gt; 15 ? 1 : 0</expression>\n",
      "          <type>float32</type>\n",
      "          <description/>\n",
      "          <unit/>\n",
      "          <no_data_value>NaN</no_data_value>\n",
      "        </targetBand>\n",
      "      </targetBands>\n",
      "      <variables/>\n",
      "    </parameters>\n",
      "  </node>\n",
      "</graph>\n",
      "\n"
     ]
    }
   ],
   "source": [
    "g.view()"
   ]
  },
  {
   "cell_type": "code",
   "execution_count": 29,
   "outputs": [
    {
     "data": {
      "text/plain": "<IPython.core.display.HTML object>",
      "text/html": "<style type=\"text/css\">pre { line-height: 125%; }\ntd.linenos .normal { color: inherit; background-color: transparent; padding-left: 5px; padding-right: 5px; }\nspan.linenos { color: inherit; background-color: transparent; padding-left: 5px; padding-right: 5px; }\ntd.linenos .special { color: #000000; background-color: #ffffc0; padding-left: 5px; padding-right: 5px; }\nspan.linenos.special { color: #000000; background-color: #ffffc0; padding-left: 5px; padding-right: 5px; }\n.highlight .hll { background-color: #ffffcc }\n.highlight { background: #f8f8f8; }\n.highlight .c { color: #3D7B7B; font-style: italic } /* Comment */\n.highlight .err { border: 1px solid #FF0000 } /* Error */\n.highlight .k { color: #008000; font-weight: bold } /* Keyword */\n.highlight .o { color: #666666 } /* Operator */\n.highlight .ch { color: #3D7B7B; font-style: italic } /* Comment.Hashbang */\n.highlight .cm { color: #3D7B7B; font-style: italic } /* Comment.Multiline */\n.highlight .cp { color: #9C6500 } /* Comment.Preproc */\n.highlight .cpf { color: #3D7B7B; font-style: italic } /* Comment.PreprocFile */\n.highlight .c1 { color: #3D7B7B; font-style: italic } /* Comment.Single */\n.highlight .cs { color: #3D7B7B; font-style: italic } /* Comment.Special */\n.highlight .gd { color: #A00000 } /* Generic.Deleted */\n.highlight .ge { font-style: italic } /* Generic.Emph */\n.highlight .gr { color: #E40000 } /* Generic.Error */\n.highlight .gh { color: #000080; font-weight: bold } /* Generic.Heading */\n.highlight .gi { color: #008400 } /* Generic.Inserted */\n.highlight .go { color: #717171 } /* Generic.Output */\n.highlight .gp { color: #000080; font-weight: bold } /* Generic.Prompt */\n.highlight .gs { font-weight: bold } /* Generic.Strong */\n.highlight .gu { color: #800080; font-weight: bold } /* Generic.Subheading */\n.highlight .gt { color: #0044DD } /* Generic.Traceback */\n.highlight .kc { color: #008000; font-weight: bold } /* Keyword.Constant */\n.highlight .kd { color: #008000; font-weight: bold } /* Keyword.Declaration */\n.highlight .kn { color: #008000; font-weight: bold } /* Keyword.Namespace */\n.highlight .kp { color: #008000 } /* Keyword.Pseudo */\n.highlight .kr { color: #008000; font-weight: bold } /* Keyword.Reserved */\n.highlight .kt { color: #B00040 } /* Keyword.Type */\n.highlight .m { color: #666666 } /* Literal.Number */\n.highlight .s { color: #BA2121 } /* Literal.String */\n.highlight .na { color: #687822 } /* Name.Attribute */\n.highlight .nb { color: #008000 } /* Name.Builtin */\n.highlight .nc { color: #0000FF; font-weight: bold } /* Name.Class */\n.highlight .no { color: #880000 } /* Name.Constant */\n.highlight .nd { color: #AA22FF } /* Name.Decorator */\n.highlight .ni { color: #717171; font-weight: bold } /* Name.Entity */\n.highlight .ne { color: #CB3F38; font-weight: bold } /* Name.Exception */\n.highlight .nf { color: #0000FF } /* Name.Function */\n.highlight .nl { color: #767600 } /* Name.Label */\n.highlight .nn { color: #0000FF; font-weight: bold } /* Name.Namespace */\n.highlight .nt { color: #008000; font-weight: bold } /* Name.Tag */\n.highlight .nv { color: #19177C } /* Name.Variable */\n.highlight .ow { color: #AA22FF; font-weight: bold } /* Operator.Word */\n.highlight .w { color: #bbbbbb } /* Text.Whitespace */\n.highlight .mb { color: #666666 } /* Literal.Number.Bin */\n.highlight .mf { color: #666666 } /* Literal.Number.Float */\n.highlight .mh { color: #666666 } /* Literal.Number.Hex */\n.highlight .mi { color: #666666 } /* Literal.Number.Integer */\n.highlight .mo { color: #666666 } /* Literal.Number.Oct */\n.highlight .sa { color: #BA2121 } /* Literal.String.Affix */\n.highlight .sb { color: #BA2121 } /* Literal.String.Backtick */\n.highlight .sc { color: #BA2121 } /* Literal.String.Char */\n.highlight .dl { color: #BA2121 } /* Literal.String.Delimiter */\n.highlight .sd { color: #BA2121; font-style: italic } /* Literal.String.Doc */\n.highlight .s2 { color: #BA2121 } /* Literal.String.Double */\n.highlight .se { color: #AA5D1F; font-weight: bold } /* Literal.String.Escape */\n.highlight .sh { color: #BA2121 } /* Literal.String.Heredoc */\n.highlight .si { color: #A45A77; font-weight: bold } /* Literal.String.Interpol */\n.highlight .sx { color: #008000 } /* Literal.String.Other */\n.highlight .sr { color: #A45A77 } /* Literal.String.Regex */\n.highlight .s1 { color: #BA2121 } /* Literal.String.Single */\n.highlight .ss { color: #19177C } /* Literal.String.Symbol */\n.highlight .bp { color: #008000 } /* Name.Builtin.Pseudo */\n.highlight .fm { color: #0000FF } /* Name.Function.Magic */\n.highlight .vc { color: #19177C } /* Name.Variable.Class */\n.highlight .vg { color: #19177C } /* Name.Variable.Global */\n.highlight .vi { color: #19177C } /* Name.Variable.Instance */\n.highlight .vm { color: #19177C } /* Name.Variable.Magic */\n.highlight .il { color: #666666 } /* Literal.Number.Integer.Long */</style>    <div class=\"highlight\"><pre><span></span><span class=\"nt\">&lt;graph&gt;</span>\n<span class=\"w\">  </span><span class=\"nt\">&lt;version&gt;</span>1.0<span class=\"nt\">&lt;/version&gt;</span>\n<span class=\"w\">  </span><span class=\"nt\">&lt;node</span><span class=\"w\"> </span><span class=\"na\">id=</span><span class=\"s\">&quot;read_1&quot;</span><span class=\"nt\">&gt;</span>\n<span class=\"w\">    </span><span class=\"nt\">&lt;operator&gt;</span>Read<span class=\"nt\">&lt;/operator&gt;</span>\n<span class=\"w\">    </span><span class=\"nt\">&lt;sources/&gt;</span>\n<span class=\"w\">    </span><span class=\"nt\">&lt;parameters</span><span class=\"w\"> </span><span class=\"na\">class=</span><span class=\"s\">&quot;com.bc.ceres.binding.dom.XppDomElement&quot;</span><span class=\"nt\">&gt;</span>\n<span class=\"w\">      </span><span class=\"nt\">&lt;bandNames/&gt;</span>\n<span class=\"w\">      </span><span class=\"nt\">&lt;copyMetadata&gt;</span>true<span class=\"nt\">&lt;/copyMetadata&gt;</span>\n<span class=\"w\">      </span><span class=\"nt\">&lt;file/&gt;</span>\n<span class=\"w\">      </span><span class=\"nt\">&lt;formatName/&gt;</span>\n<span class=\"w\">      </span><span class=\"nt\">&lt;geometryRegion/&gt;</span>\n<span class=\"w\">      </span><span class=\"nt\">&lt;maskNames/&gt;</span>\n<span class=\"w\">      </span><span class=\"nt\">&lt;pixelRegion/&gt;</span>\n<span class=\"w\">      </span><span class=\"nt\">&lt;useAdvancedOptions&gt;</span>false<span class=\"nt\">&lt;/useAdvancedOptions&gt;</span>\n<span class=\"w\">    </span><span class=\"nt\">&lt;/parameters&gt;</span>\n<span class=\"w\">  </span><span class=\"nt\">&lt;/node&gt;</span>\n<span class=\"w\">  </span><span class=\"nt\">&lt;node</span><span class=\"w\"> </span><span class=\"na\">id=</span><span class=\"s\">&quot;band_maths&quot;</span><span class=\"nt\">&gt;</span>\n<span class=\"w\">    </span><span class=\"nt\">&lt;operator&gt;</span>BandMaths<span class=\"nt\">&lt;/operator&gt;</span>\n<span class=\"w\">    </span><span class=\"nt\">&lt;sources&gt;</span>\n<span class=\"w\">      </span><span class=\"nt\">&lt;sourceProduct</span><span class=\"w\"> </span><span class=\"na\">refid=</span><span class=\"s\">&quot;read_1&quot;</span><span class=\"nt\">/&gt;</span>\n<span class=\"w\">    </span><span class=\"nt\">&lt;/sources&gt;</span>\n<span class=\"w\">    </span><span class=\"nt\">&lt;parameters</span><span class=\"w\"> </span><span class=\"na\">class=</span><span class=\"s\">&quot;com.bc.ceres.binding.dom.XppDomElement&quot;</span><span class=\"nt\">&gt;</span>\n<span class=\"w\">      </span><span class=\"nt\">&lt;targetBands&gt;</span>\n<span class=\"w\">        </span><span class=\"nt\">&lt;targetBand&gt;</span>\n<span class=\"w\">          </span><span class=\"nt\">&lt;name&gt;</span>active_fire_detected<span class=\"nt\">&lt;/name&gt;</span>\n<span class=\"w\">          </span><span class=\"nt\">&lt;expression&gt;</span>S9_BT_in<span class=\"w\"> </span><span class=\"ni\">&amp;amp;</span>amp;lt;<span class=\"w\"> </span>265<span class=\"w\"> </span>?<span class=\"w\"> </span>0<span class=\"w\"> </span>:<span class=\"w\"> </span>F1_BT_in<span class=\"w\"> </span><span class=\"ni\">&amp;amp;</span>amp;gt;<span class=\"w\"> </span>315<span class=\"w\"> </span>and<span class=\"w\"> </span>(F1_BT_in<span class=\"w\"> </span>-<span class=\"w\"> </span>F2_BT_in)<span class=\"w\"> </span><span class=\"ni\">&amp;amp;</span>amp;gt;<span class=\"w\"> </span>15<span class=\"w\"> </span>?<span class=\"w\"> </span>1<span class=\"w\"> </span>:<span class=\"w\"> </span>0<span class=\"nt\">&lt;/expression&gt;</span>\n<span class=\"w\">          </span><span class=\"nt\">&lt;type&gt;</span>float32<span class=\"nt\">&lt;/type&gt;</span>\n<span class=\"w\">          </span><span class=\"nt\">&lt;description/&gt;</span>\n<span class=\"w\">          </span><span class=\"nt\">&lt;unit/&gt;</span>\n<span class=\"w\">          </span><span class=\"nt\">&lt;no_data_value&gt;</span>NaN<span class=\"nt\">&lt;/no_data_value&gt;</span>\n<span class=\"w\">        </span><span class=\"nt\">&lt;/targetBand&gt;</span>\n<span class=\"w\">      </span><span class=\"nt\">&lt;/targetBands&gt;</span>\n<span class=\"w\">      </span><span class=\"nt\">&lt;variables/&gt;</span>\n<span class=\"w\">    </span><span class=\"nt\">&lt;/parameters&gt;</span>\n<span class=\"w\">  </span><span class=\"nt\">&lt;/node&gt;</span>\n<span class=\"nt\">&lt;/graph&gt;</span>\n</pre></div>\n"
     },
     "metadata": {},
     "output_type": "display_data"
    }
   ],
   "source": [
    "g.nice_view()"
   ],
   "metadata": {
    "collapsed": false
   }
  },
  {
   "cell_type": "markdown",
   "metadata": {},
   "source": [
    "## Binning"
   ]
  },
  {
   "cell_type": "code",
   "execution_count": 30,
   "metadata": {},
   "outputs": [],
   "source": [
    "%load_ext autoreload\n",
    "%autoreload 2\n",
    "\n",
    "from snapista.binning import aggregators\n",
    "from snapista.binning import BinningVariable, BinningOutputBands, BinningBand, Aggregators\n",
    "from snapista import Graph\n",
    "from snapista import Operator\n",
    "import lxml.etree as etree\n"
   ]
  },
  {
   "cell_type": "code",
   "execution_count": 31,
   "metadata": {},
   "outputs": [],
   "source": [
    "ag = aggregators.AggregatorAvg(var_name='pippo', target_name=\"target_name\", output_counts='true')"
   ]
  },
  {
   "cell_type": "code",
   "execution_count": 32,
   "metadata": {},
   "outputs": [
    {
     "data": {
      "text/plain": "{'type': 'AVG',\n 'var_name': 'pippo',\n 'target_name': 'target_name',\n 'weight_coeff': 0.0,\n 'output_counts': 'true',\n 'output_sums': 'true'}"
     },
     "execution_count": 32,
     "metadata": {},
     "output_type": "execute_result"
    }
   ],
   "source": [
    "ag.to_dict()"
   ]
  },
  {
   "cell_type": "code",
   "execution_count": 32,
   "metadata": {},
   "outputs": [],
   "source": []
  },
  {
   "cell_type": "code",
   "execution_count": 33,
   "metadata": {},
   "outputs": [],
   "source": [
    "bv = BinningVariable(name='pippo', expression='aa', valid_expression='aa')"
   ]
  },
  {
   "cell_type": "code",
   "execution_count": 34,
   "metadata": {},
   "outputs": [
    {
     "data": {
      "text/plain": "BinningVariable(name='pippo', expression='aa', valid_expression='aa')"
     },
     "execution_count": 34,
     "metadata": {},
     "output_type": "execute_result"
    }
   ],
   "source": [
    "bv"
   ]
  },
  {
   "cell_type": "code",
   "execution_count": 35,
   "metadata": {},
   "outputs": [
    {
     "data": {
      "text/plain": "<Element variable at 0x28f46fac140>"
     },
     "execution_count": 35,
     "metadata": {},
     "output_type": "execute_result"
    }
   ],
   "source": [
    "bv.to_xml()"
   ]
  },
  {
   "cell_type": "code",
   "execution_count": 35,
   "metadata": {},
   "outputs": [],
   "source": []
  },
  {
   "cell_type": "code",
   "execution_count": 36,
   "metadata": {},
   "outputs": [
    {
     "data": {
      "text/plain": "b'<variable><name>pippo</name><expr>aa</expr><validExpr>aa</validExpr></variable>'"
     },
     "execution_count": 36,
     "metadata": {},
     "output_type": "execute_result"
    }
   ],
   "source": [
    "etree.tostring(bv.to_xml())"
   ]
  },
  {
   "cell_type": "code",
   "execution_count": 37,
   "metadata": {},
   "outputs": [],
   "source": [
    "bb = BinningBand(index=\"0\", name='aa', min_value=0, max_value=100)"
   ]
  },
  {
   "cell_type": "code",
   "execution_count": 38,
   "metadata": {},
   "outputs": [],
   "source": [
    "ob = BinningOutputBands([bb])"
   ]
  },
  {
   "cell_type": "code",
   "execution_count": 39,
   "metadata": {},
   "outputs": [
    {
     "data": {
      "text/plain": "b'<outputBands><band><index>0</index><name>aa</name><min_value>0</min_value><max_value>100</max_value></band></outputBands>'"
     },
     "execution_count": 39,
     "metadata": {},
     "output_type": "execute_result"
    }
   ],
   "source": [
    "etree.tostring(ob.to_xml())"
   ]
  },
  {
   "cell_type": "code",
   "execution_count": 40,
   "metadata": {},
   "outputs": [
    {
     "data": {
      "text/plain": "[BinningVariable(name='pippo', expression='aa', valid_expression='aa')]"
     },
     "execution_count": 40,
     "metadata": {},
     "output_type": "execute_result"
    }
   ],
   "source": [
    "[bv]"
   ]
  },
  {
   "cell_type": "code",
   "execution_count": 41,
   "metadata": {},
   "outputs": [],
   "source": [
    "binning = Operator('Binning')"
   ]
  },
  {
   "cell_type": "code",
   "execution_count": 42,
   "metadata": {},
   "outputs": [
    {
     "data": {
      "text/plain": "Operator('Binning', sourceProductPaths='None', sourceProductFormat='None', sourceGraphPaths='None', region='None', startDateTime='None', periodDuration='None', timeFilterMethod='NONE', minDataHour='None', numRows='2160', superSampling='1', maxDistanceOnEarth='-1', maskExpr='None', variableConfigs='None', aggregatorConfigs='None', postProcessorConfig='None', outputType='Product', outputFile='None', outputFormat='BEAM-DIMAP', bandConfigurations='None', productCustomizerConfig='None', outputBinnedData='false', outputTargetProduct='true', metadataPropertiesFile='./metadata.properties', metadataTemplateDir='.', metadataAggregatorName='NAME', planetaryGridClass='org.esa.snap.binning.support.SEAGrid')"
     },
     "execution_count": 42,
     "metadata": {},
     "output_type": "execute_result"
    }
   ],
   "source": [
    "binning"
   ]
  },
  {
   "cell_type": "code",
   "execution_count": 43,
   "metadata": {},
   "outputs": [
    {
     "data": {
      "text/plain": "Operator('Binning', sourceProductPaths='None', sourceProductFormat='None', sourceGraphPaths='None', region='None', startDateTime='None', periodDuration='None', timeFilterMethod='NONE', minDataHour='None', numRows='2160', superSampling='1', maxDistanceOnEarth='-1', maskExpr='None', variableConfigs='None', aggregatorConfigs='<snapista.binning.aggregators.Aggregators object at 0x0000028ED9164C70>', postProcessorConfig='None', outputType='Product', outputFile='None', outputFormat='BEAM-DIMAP', bandConfigurations='<snapista.binning.output_bands.BinningOutputBands object at 0x0000028ED9166740>', productCustomizerConfig='None', outputBinnedData='false', outputTargetProduct='true', metadataPropertiesFile='./metadata.properties', metadataTemplateDir='.', metadataAggregatorName='NAME', planetaryGridClass='org.esa.snap.binning.support.SEAGrid')"
     },
     "execution_count": 43,
     "metadata": {},
     "output_type": "execute_result"
    }
   ],
   "source": [
    "binning.aggregatorConfigs = Aggregators([ag])\n",
    "binning.bandConfigurations = BinningOutputBands([bb])\n",
    "binning"
   ]
  },
  {
   "cell_type": "code",
   "execution_count": 44,
   "metadata": {},
   "outputs": [],
   "source": [
    "import os\n",
    "os.environ['PATH'] = '/srv/conda/envs/env_snap/snap/bin:' +  os.environ['PATH']"
   ]
  },
  {
   "cell_type": "code",
   "execution_count": 45,
   "metadata": {},
   "outputs": [
    {
     "name": "stdout",
     "output_type": "stream",
     "text": [
      "aggregatorConfigs <snapista.binning.aggregators.Aggregators object at 0x0000028ED9164C70>\n",
      "bandConfigurations <snapista.binning.output_bands.BinningOutputBands object at 0x0000028ED9166740>\n"
     ]
    },
    {
     "ename": "ValueError",
     "evalue": "",
     "output_type": "error",
     "traceback": [
      "\u001B[1;31m---------------------------------------------------------------------------\u001B[0m",
      "\u001B[1;31mValueError\u001B[0m                                Traceback (most recent call last)",
      "Cell \u001B[1;32mIn[45], line 3\u001B[0m\n\u001B[0;32m      1\u001B[0m g \u001B[38;5;241m=\u001B[39m Graph()\n\u001B[1;32m----> 3\u001B[0m \u001B[43mg\u001B[49m\u001B[38;5;241;43m.\u001B[39;49m\u001B[43madd_node\u001B[49m\u001B[43m(\u001B[49m\u001B[43moperator\u001B[49m\u001B[38;5;241;43m=\u001B[39;49m\u001B[43mbinning\u001B[49m\u001B[43m,\u001B[49m\u001B[43m \u001B[49m\n\u001B[0;32m      4\u001B[0m \u001B[43m           \u001B[49m\u001B[43mnode_id\u001B[49m\u001B[38;5;241;43m=\u001B[39;49m\u001B[38;5;124;43m'\u001B[39;49m\u001B[38;5;124;43mbinning_1\u001B[39;49m\u001B[38;5;124;43m'\u001B[39;49m\u001B[43m)\u001B[49m\n",
      "File \u001B[1;32mD:\\olaf\\bc\\workspace\\senbox-org_esa_snappy_merge_snapista\\esa-snappy\\src\\main\\resources\\esa_snappy\\snapista\\graph.py:352\u001B[0m, in \u001B[0;36mGraph.add_node\u001B[1;34m(self, operator, node_id, source)\u001B[0m\n\u001B[0;32m    347\u001B[0m         parameters_elem\u001B[38;5;241m.\u001B[39mappend(\n\u001B[0;32m    348\u001B[0m             etree\u001B[38;5;241m.\u001B[39mfromstring(\u001B[38;5;28mgetattr\u001B[39m(operator, param))\n\u001B[0;32m    349\u001B[0m         )\n\u001B[0;32m    350\u001B[0m     \u001B[38;5;28;01melse\u001B[39;00m:\n\u001B[1;32m--> 352\u001B[0m         \u001B[38;5;28;01mraise\u001B[39;00m \u001B[38;5;167;01mValueError\u001B[39;00m()\n\u001B[0;32m    354\u001B[0m \u001B[38;5;28;01melse\u001B[39;00m:\n\u001B[0;32m    356\u001B[0m     parameter_elem \u001B[38;5;241m=\u001B[39m etree\u001B[38;5;241m.\u001B[39mSubElement(parameters_elem, param)\n",
      "\u001B[1;31mValueError\u001B[0m: "
     ]
    }
   ],
   "source": [
    "g = Graph()\n",
    "\n",
    "g.add_node(operator=binning, \n",
    "           node_id='binning_1')"
   ]
  },
  {
   "cell_type": "markdown",
   "source": [],
   "metadata": {
    "collapsed": false
   }
  },
  {
   "cell_type": "code",
   "execution_count": null,
   "metadata": {},
   "outputs": [],
   "source": [
    "g.view()"
   ]
  },
  {
   "cell_type": "code",
   "execution_count": null,
   "outputs": [],
   "source": [
    "g.nice_view()"
   ],
   "metadata": {
    "collapsed": false
   }
  },
  {
   "cell_type": "code",
   "execution_count": null,
   "metadata": {},
   "outputs": [],
   "source": [
    "%load_ext autoreload\n",
    "%autoreload 2\n",
    "\n",
    "from snapista.binning import aggregators\n",
    "from snapista.binning import BinningVariable, BinningOutputBands, BinningBand, Aggregators, BinningVariables\n",
    "from snapista import Graph\n",
    "from snapista import Operator\n",
    "import lxml.etree as etree\n",
    "import os\n",
    "\n",
    "os.environ['PATH'] = '/srv/conda/envs/env_snap/snap/bin:' +  os.environ['PATH']\n",
    "\n",
    "ag = aggregators.AggregatorAvg(var_name='pippo', target_name=\"target_name\", output_counts='true')\n",
    "bv = BinningVariable(name='pippo', expression='aa', valid_expression='aa')\n",
    "bb = BinningBand(index=\"0\", name='aa', min_value=0, max_value=100)\n",
    "\n",
    "binning = Operator('Binning')\n",
    "\n",
    "binning.aggregatorConfigs = Aggregators([ag])\n",
    "binning.bandConfigurations = BinningOutputBands([bb])\n",
    "binning.variableConfigs = BinningVariables([bv])\n",
    "g = Graph()\n",
    "\n",
    "g.add_node(operator=binning, \n",
    "           node_id='binning_1')"
   ]
  },
  {
   "cell_type": "code",
   "execution_count": null,
   "metadata": {},
   "outputs": [],
   "source": [
    "g.view()"
   ]
  },
  {
   "cell_type": "code",
   "execution_count": null,
   "metadata": {},
   "outputs": [],
   "source": []
  },
  {
   "cell_type": "code",
   "execution_count": null,
   "metadata": {},
   "outputs": [],
   "source": []
  }
 ],
 "metadata": {
  "kernelspec": {
   "display_name": "Python 3",
   "language": "python",
   "name": "python3"
  },
  "language_info": {
   "codemirror_mode": {
    "name": "ipython",
    "version": 3
   },
   "file_extension": ".py",
   "mimetype": "text/x-python",
   "name": "python",
   "nbconvert_exporter": "python",
   "pygments_lexer": "ipython3",
   "version": "3.9.4"
  }
 },
 "nbformat": 4,
 "nbformat_minor": 4
}
