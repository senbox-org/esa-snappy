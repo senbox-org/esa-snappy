{
 "cells": [
  {
   "cell_type": "markdown",
   "id": "eff9f1b9-ebce-4968-aa1d-eb33efd37813",
   "metadata": {},
   "source": [
    "## Demo - BandMaths"
   ]
  },
  {
   "cell_type": "code",
   "execution_count": 1,
   "id": "f3b2ca32-63fc-4a92-8be4-5f459be87a9f",
   "metadata": {},
   "outputs": [],
   "source": [
    "import esa_snappy.snapista\n",
    "\n",
    "from snapista import Graph\n",
    "from snapista import Operator\n",
    "from snapista import read_file\n",
    "from snapista import TargetBand\n",
    "from snapista import TargetBandDescriptors\n",
    "\n",
    "#import os \n",
    "#os.environ['PATH'] = '/srv/conda/envs/env_snap/snap/bin:' +  os.environ['PATH']"
   ]
  },
  {
   "cell_type": "code",
   "execution_count": 2,
   "id": "d0ac6a29-c799-41b2-b028-e55a3315de63",
   "metadata": {},
   "outputs": [],
   "source": [
    "\n",
    "try:\n",
    "    g = Graph()\n",
    "except Exception:\n",
    "    # running in vs container\n",
    "    import os \n",
    "    os.environ['PATH'] = '/srv/conda/envs/env_snap/snap/bin:' +  os.environ['PATH']\n",
    "    \n",
    "    g = Graph()"
   ]
  },
  {
   "cell_type": "code",
   "execution_count": 3,
   "id": "1a94bc96-3104-4726-b01c-48fad9cfb5d6",
   "metadata": {},
   "outputs": [],
   "source": [
    "g.add_node(operator=Operator(\"Read\", file='/data/S2B_MSIL2A_20210608T112119_N0300_R037_T29SMC_20210608T131325.SAFE/MTD_MSIL2A.xml'), node_id=\"Read\")\n"
   ]
  },
  {
   "cell_type": "code",
   "execution_count": 4,
   "id": "c124c723-3756-43e5-ab7e-db1efdfaa62f",
   "metadata": {},
   "outputs": [],
   "source": [
    "g.add_node(operator=Operator(\"Resample\", referenceBandName=\"B2\"), node_id=\"Resample\", source=\"Read\")"
   ]
  },
  {
   "cell_type": "code",
   "execution_count": 5,
   "id": "96b93cd5-2f58-442b-88c3-ce4cbc793661",
   "metadata": {},
   "outputs": [],
   "source": [
    "band_maths = Operator('BandMaths')\n",
    "\n",
    "cloud_class = TargetBand(name='Cloud_Class',\n",
    "                              expression='if quality_cloud_confidence > 90 then 2 else (if quality_cloud_confidence > 50 AND B8 > 0.3 then 1 else 0)')\n",
    "                         \n",
    "band_maths.targetBandDescriptors = TargetBandDescriptors([cloud_class])"
   ]
  },
  {
   "cell_type": "code",
   "execution_count": 6,
   "id": "1564302c-f7a2-47a2-a5f6-85147b88536b",
   "metadata": {},
   "outputs": [
    {
     "name": "stdout",
     "output_type": "stream",
     "text": [
      "targetBandDescriptors <snapista.target_band_descriptors.TargetBandDescriptors object at 0x000002ACDFFF4040>\n",
      "Instance TargetBandDescriptors: True\n",
      "Instance Aggregators: False\n",
      "Instance BinningOutputBands: False\n",
      "Instance BinningVariables: False\n",
      "Instance str: False\n"
     ]
    }
   ],
   "source": [
    "g.add_node(operator=band_maths, node_id=\"BandMaths\" ,source='Resample')"
   ]
  },
  {
   "cell_type": "code",
   "execution_count": 7,
   "id": "dbfc1084-bb1f-4832-9b80-407c1f22f103",
   "metadata": {},
   "outputs": [
    {
     "name": "stdout",
     "output_type": "stream",
     "text": [
      "targetBandDescriptors <snapista.target_band_descriptors.TargetBandDescriptors object at 0x000002ACDFFF4040>\n",
      "Instance TargetBandDescriptors: True\n",
      "Instance Aggregators: False\n",
      "Instance BinningOutputBands: False\n",
      "Instance BinningVariables: False\n",
      "Instance str: False\n"
     ]
    }
   ],
   "source": [
    "band_maths = Operator('BandMaths')\n",
    "\n",
    "ndsi = TargetBand(name='NDSI',\n",
    "                              expression='(B3-B11)/(B3+B11)')\n",
    "                         \n",
    "band_maths.targetBandDescriptors = TargetBandDescriptors([ndsi])\n",
    "\n",
    "g.add_node(operator=band_maths, node_id=\"BandMaths_2\" ,source='Resample')"
   ]
  },
  {
   "cell_type": "code",
   "execution_count": 8,
   "id": "6558126a-e281-497d-a365-3a6b0497762c",
   "metadata": {},
   "outputs": [
    {
     "data": {
      "text/plain": "Operator('BandMerge', sourceBandNames='B3,B4,B11,B12,Cloud_Class,NDSI', geographicError='1.0E-5f', source='['Resample', 'BandMaths', 'BandMaths_2']')"
     },
     "execution_count": 8,
     "metadata": {},
     "output_type": "execute_result"
    }
   ],
   "source": [
    "merge = Operator(\"BandMerge\", sourceBandNames=\"B3,B4,B11,B12,Cloud_Class,NDSI\", source=[\"Resample\", \"BandMaths\", 'BandMaths_2'])\n",
    "\n",
    "merge"
   ]
  },
  {
   "cell_type": "code",
   "execution_count": 9,
   "id": "216903df-8ef4-403b-9437-5653733120fb",
   "metadata": {},
   "outputs": [],
   "source": [
    "g.add_node(operator=merge, node_id=\"Merge\", source=[\"Resample\", \"BandMaths\", 'BandMaths_2'])"
   ]
  },
  {
   "cell_type": "code",
   "execution_count": 10,
   "id": "8f90a68b-d124-428e-bdf6-1f3ea070c667",
   "metadata": {},
   "outputs": [
    {
     "data": {
      "text/plain": "Operator('Write', file='None', formatName='BEAM-DIMAP', deleteOutputOnFailure='true', writeEntireTileRows='false', clearCacheAfterRowWrite='false')"
     },
     "execution_count": 10,
     "metadata": {},
     "output_type": "execute_result"
    }
   ],
   "source": [
    "write = Operator(\"Write\")\n",
    "\n",
    "write"
   ]
  },
  {
   "cell_type": "code",
   "execution_count": 11,
   "id": "0548a3a6-cf3c-4f26-a48d-0e92556ee09c",
   "metadata": {},
   "outputs": [],
   "source": [
    "g.add_node(operator=Operator(\"Write\", file='snow.dim'), node_id=\"Write\", source='Merge')"
   ]
  },
  {
   "cell_type": "code",
   "execution_count": 12,
   "id": "825327d3-cc7f-4a1d-840d-52d40a39c4fd",
   "metadata": {},
   "outputs": [
    {
     "name": "stdout",
     "output_type": "stream",
     "text": [
      "<graph>\n",
      "  <version>1.0</version>\n",
      "  <node id=\"Read\">\n",
      "    <operator>Read</operator>\n",
      "    <sources/>\n",
      "    <parameters class=\"com.bc.ceres.binding.dom.XppDomElement\">\n",
      "      <bandNames/>\n",
      "      <copyMetadata>true</copyMetadata>\n",
      "      <file>/data/S2B_MSIL2A_20210608T112119_N0300_R037_T29SMC_20210608T131325.SAFE/MTD_MSIL2A.xml</file>\n",
      "      <formatName/>\n",
      "      <geometryRegion/>\n",
      "      <maskNames/>\n",
      "      <pixelRegion/>\n",
      "      <useAdvancedOptions>false</useAdvancedOptions>\n",
      "    </parameters>\n",
      "  </node>\n",
      "  <node id=\"Resample\">\n",
      "    <operator>Resample</operator>\n",
      "    <sources>\n",
      "      <sourceProduct refid=\"Read\"/>\n",
      "    </sources>\n",
      "    <parameters class=\"com.bc.ceres.binding.dom.XppDomElement\">\n",
      "      <bandResamplings/>\n",
      "      <downsamplingMethod>First</downsamplingMethod>\n",
      "      <flagDownsamplingMethod>First</flagDownsamplingMethod>\n",
      "      <referenceBandName>B2</referenceBandName>\n",
      "      <resampleOnPyramidLevels>true</resampleOnPyramidLevels>\n",
      "      <resamplingPreset/>\n",
      "      <targetHeight/>\n",
      "      <targetResolution/>\n",
      "      <targetWidth/>\n",
      "      <upsamplingMethod>Nearest</upsamplingMethod>\n",
      "    </parameters>\n",
      "  </node>\n",
      "  <node id=\"BandMaths\">\n",
      "    <operator>BandMaths</operator>\n",
      "    <sources>\n",
      "      <sourceProduct refid=\"Resample\"/>\n",
      "    </sources>\n",
      "    <parameters class=\"com.bc.ceres.binding.dom.XppDomElement\">\n",
      "      <targetBands>\n",
      "        <targetBand>\n",
      "          <name>Cloud_Class</name>\n",
      "          <expression>if quality_cloud_confidence &gt; 90 then 2 else (if quality_cloud_confidence &gt; 50 AND B8 &gt; 0.3 then 1 else 0)</expression>\n",
      "          <type>float32</type>\n",
      "          <description/>\n",
      "          <unit/>\n",
      "          <no_data_value>NaN</no_data_value>\n",
      "        </targetBand>\n",
      "      </targetBands>\n",
      "      <variables/>\n",
      "    </parameters>\n",
      "  </node>\n",
      "  <node id=\"BandMaths_2\">\n",
      "    <operator>BandMaths</operator>\n",
      "    <sources>\n",
      "      <sourceProduct refid=\"Resample\"/>\n",
      "    </sources>\n",
      "    <parameters class=\"com.bc.ceres.binding.dom.XppDomElement\">\n",
      "      <targetBands>\n",
      "        <targetBand>\n",
      "          <name>NDSI</name>\n",
      "          <expression>(B3-B11)/(B3+B11)</expression>\n",
      "          <type>float32</type>\n",
      "          <description/>\n",
      "          <unit/>\n",
      "          <no_data_value>NaN</no_data_value>\n",
      "        </targetBand>\n",
      "      </targetBands>\n",
      "      <variables/>\n",
      "    </parameters>\n",
      "  </node>\n",
      "  <node id=\"Merge\">\n",
      "    <operator>BandMerge</operator>\n",
      "    <sources>\n",
      "      <sourceProduct refid=\"Resample\"/>\n",
      "      <sourceProduct.1 refid=\"BandMaths\"/>\n",
      "      <sourceProduct.2 refid=\"BandMaths_2\"/>\n",
      "    </sources>\n",
      "    <parameters class=\"com.bc.ceres.binding.dom.XppDomElement\">\n",
      "      <geographicError>1.0E-5f</geographicError>\n",
      "      <sourceBandNames>B3,B4,B11,B12,Cloud_Class,NDSI</sourceBandNames>\n",
      "    </parameters>\n",
      "  </node>\n",
      "  <node id=\"Write\">\n",
      "    <operator>Write</operator>\n",
      "    <sources>\n",
      "      <sourceProduct refid=\"Merge\"/>\n",
      "    </sources>\n",
      "    <parameters class=\"com.bc.ceres.binding.dom.XppDomElement\">\n",
      "      <clearCacheAfterRowWrite>false</clearCacheAfterRowWrite>\n",
      "      <deleteOutputOnFailure>true</deleteOutputOnFailure>\n",
      "      <file>snow.dim</file>\n",
      "      <formatName>BEAM-DIMAP</formatName>\n",
      "      <writeEntireTileRows>false</writeEntireTileRows>\n",
      "    </parameters>\n",
      "  </node>\n",
      "</graph>\n",
      "\n"
     ]
    }
   ],
   "source": [
    "g.view()"
   ]
  },
  {
   "cell_type": "code",
   "execution_count": 13,
   "id": "3328eb96-de62-4fbe-9f05-f0266b22b69d",
   "metadata": {},
   "outputs": [
    {
     "name": "stdout",
     "output_type": "stream",
     "text": [
      "Processing the graph\n",
      "Executing processing graph\n",
      "SEVERE: org.esa.snap.runtime.Engine: Failed to modify class loader field 'usr_paths'\n",
      "done.\n",
      "java.lang.NoSuchMethodException: java.lang.ClassLoader.initializePath(java.lang.String)\n",
      "at java.base/java.lang.Class.getDeclaredMethod(Class.java:2848)\n",
      "at org.esa.snap.runtime.Engine.setJavaLibraryPath(Engine.java:286)\n",
      "at org.esa.snap.runtime.Engine.setJavaLibraryPath(Engine.java:265)\n",
      "at org.esa.snap.runtime.Engine.<init>(Engine.java:46)\n",
      "at org.esa.snap.runtime.Engine.start(Engine.java:117)\n",
      "at org.esa.snap.runtime.Engine.start(Engine.java:90)\n",
      "at org.esa.snap.runtime.Launcher.run(Launcher.java:51)\n",
      "at org.esa.snap.runtime.Launcher.main(Launcher.java:31)\n",
      "at java.base/jdk.internal.reflect.DirectMethodHandleAccessor.invoke(DirectMethodHandleAccessor.java:103)\n",
      "at java.base/java.lang.reflect.Method.invoke(Method.java:580)\n",
      "at com.exe4j.runtime.LauncherEngine.launch(LauncherEngine.java:84)\n",
      "at com.exe4j.runtime.WinLauncher.main(WinLauncher.java:94)\n",
      "at com.install4j.runtime.launcher.WinLauncher.main(WinLauncher.java:25)\n",
      "\n",
      "INFO: org.esa.snap.core.gpf.operators.tooladapter.ToolAdapterIO: Initializing external tool adapters\n",
      "INFO: org.esa.snap.core.util.EngineVersionCheckActivator: Please check regularly for new updates for the best SNAP experience.\n",
      "\n",
      "Error: [NodeId: Read] Specified 'file' [\\data\\S2B_MSIL2A_20210608T112119_N0300_R037_T29SMC_20210608T131325.SAFE\\MTD_MSIL2A.xml] does not exist.\n",
      "org.esa.snap.core.gpf.graph.GraphException: [NodeId: Read] Specified 'file' [\\data\\S2B_MSIL2A_20210608T112119_N0300_R037_T29SMC_20210608T131325.SAFE\\MTD_MSIL2A.xml] does not exist.\n",
      "at org.esa.snap.core.gpf.graph.NodeContext.initTargetProduct(NodeContext.java:79)\n",
      "at org.esa.snap.core.gpf.graph.GraphContext.initNodeContext(GraphContext.java:213)\n",
      "at org.esa.snap.core.gpf.graph.GraphContext.initNodeContext(GraphContext.java:195)\n",
      "at org.esa.snap.core.gpf.graph.GraphContext.initNodeContext(GraphContext.java:195)\n",
      "at org.esa.snap.core.gpf.graph.GraphContext.initNodeContext(GraphContext.java:195)\n",
      "at org.esa.snap.core.gpf.graph.GraphContext.initOutput(GraphContext.java:179)\n",
      "at org.esa.snap.core.gpf.graph.GraphContext.init(GraphContext.java:98)\n",
      "at org.esa.snap.core.gpf.graph.GraphContext.<init>(GraphContext.java:83)\n",
      "at org.esa.snap.core.gpf.graph.GraphContext.<init>(GraphContext.java:94)\n",
      "at org.esa.snap.core.gpf.graph.GraphContext.<init>(GraphContext.java:58)\n",
      "at org.esa.snap.core.gpf.graph.GraphProcessor.executeGraph(GraphProcessor.java:127)\n",
      "at org.esa.snap.core.gpf.main.DefaultCommandLineContext.executeGraph(DefaultCommandLineContext.java:115)\n",
      "at org.esa.snap.core.gpf.main.CommandLineTool.executeGraph(CommandLineTool.java:573)\n",
      "at org.esa.snap.core.gpf.main.CommandLineTool.runGraph(CommandLineTool.java:402)\n",
      "at org.esa.snap.core.gpf.main.CommandLineTool.runGraphOrOperator(CommandLineTool.java:287)\n",
      "at org.esa.snap.core.gpf.main.CommandLineTool.run(CommandLineTool.java:188)\n",
      "at org.esa.snap.core.gpf.main.CommandLineTool.run(CommandLineTool.java:121)\n",
      "at org.esa.snap.core.gpf.main.GPT.run(GPT.java:60)\n",
      "at org.esa.snap.core.gpf.main.GPT.main(GPT.java:37)\n",
      "at java.base/jdk.internal.reflect.DirectMethodHandleAccessor.invoke(DirectMethodHandleAccessor.java:103)\n",
      "at java.base/java.lang.reflect.Method.invoke(Method.java:580)\n",
      "at org.esa.snap.runtime.Launcher.lambda$run$0(Launcher.java:55)\n",
      "at org.esa.snap.runtime.Engine.runClientCode(Engine.java:189)\n",
      "at org.esa.snap.runtime.Launcher.run(Launcher.java:51)\n",
      "at org.esa.snap.runtime.Launcher.main(Launcher.java:31)\n",
      "at java.base/jdk.internal.reflect.DirectMethodHandleAccessor.invoke(DirectMethodHandleAccessor.java:103)\n",
      "at java.base/java.lang.reflect.Method.invoke(Method.java:580)\n",
      "at com.exe4j.runtime.LauncherEngine.launch(LauncherEngine.java:84)\n",
      "at com.exe4j.runtime.WinLauncher.main(WinLauncher.java:94)\n",
      "at com.install4j.runtime.launcher.WinLauncher.main(WinLauncher.java:25)\n",
      "Caused by: org.esa.snap.core.gpf.OperatorException: Specified 'file' [\\data\\S2B_MSIL2A_20210608T112119_N0300_R037_T29SMC_20210608T131325.SAFE\\MTD_MSIL2A.xml] does not exist.\n",
      "at org.esa.snap.core.gpf.common.ReadOp.initialize(ReadOp.java:121)\n",
      "at org.esa.snap.core.gpf.internal.OperatorContext.initializeOperator(OperatorContext.java:528)\n",
      "at org.esa.snap.core.gpf.internal.OperatorContext.getTargetProduct(OperatorContext.java:298)\n",
      "at org.esa.snap.core.gpf.Operator.getTargetProduct(Operator.java:359)\n",
      "at org.esa.snap.core.gpf.graph.NodeContext.initTargetProduct(NodeContext.java:77)\n",
      "... 29 more\n"
     ]
    },
    {
     "ename": "PermissionError",
     "evalue": "[WinError 32] Der Prozess kann nicht auf die Datei zugreifen, da sie von einem anderen Prozess verwendet wird: 'C:\\\\Users\\\\olafd\\\\AppData\\\\Local\\\\Temp\\\\tmp0qxcww99'",
     "output_type": "error",
     "traceback": [
      "\u001B[1;31m---------------------------------------------------------------------------\u001B[0m",
      "\u001B[1;31mPermissionError\u001B[0m                           Traceback (most recent call last)",
      "Cell \u001B[1;32mIn[13], line 2\u001B[0m\n\u001B[0;32m      1\u001B[0m g\u001B[38;5;241m.\u001B[39msave_graph(\u001B[38;5;124m'\u001B[39m\u001B[38;5;124msnow.xml\u001B[39m\u001B[38;5;124m'\u001B[39m)\n\u001B[1;32m----> 2\u001B[0m \u001B[43mg\u001B[49m\u001B[38;5;241;43m.\u001B[39;49m\u001B[43mrun\u001B[49m\u001B[43m(\u001B[49m\u001B[43m)\u001B[49m\n",
      "File \u001B[1;32mD:\\olaf\\bc\\workspace\\senbox-org_esa_snappy_merge_snapista\\esa-snappy\\src\\main\\resources\\esa_snappy\\snapista\\graph.py:440\u001B[0m, in \u001B[0;36mGraph.run\u001B[1;34m(self, gpt_options)\u001B[0m\n\u001B[0;32m    436\u001B[0m     rc \u001B[38;5;241m=\u001B[39m _run_command(options)\n\u001B[0;32m    438\u001B[0m \u001B[38;5;28;01mfinally\u001B[39;00m:\n\u001B[1;32m--> 440\u001B[0m     \u001B[43mos\u001B[49m\u001B[38;5;241;43m.\u001B[39;49m\u001B[43mremove\u001B[49m\u001B[43m(\u001B[49m\u001B[43mpath\u001B[49m\u001B[43m)\u001B[49m\n\u001B[0;32m    442\u001B[0m \u001B[38;5;28;01mif\u001B[39;00m rc \u001B[38;5;241m!=\u001B[39m \u001B[38;5;241m0\u001B[39m:\n\u001B[0;32m    444\u001B[0m     \u001B[38;5;28;01mraise\u001B[39;00m \u001B[38;5;167;01mException\u001B[39;00m(\u001B[38;5;124m\"\u001B[39m\u001B[38;5;124mGraph execution failed (exit code \u001B[39m\u001B[38;5;132;01m{}\u001B[39;00m\u001B[38;5;124m)\u001B[39m\u001B[38;5;124m\"\u001B[39m\u001B[38;5;241m.\u001B[39mformat(rc))\n",
      "\u001B[1;31mPermissionError\u001B[0m: [WinError 32] Der Prozess kann nicht auf die Datei zugreifen, da sie von einem anderen Prozess verwendet wird: 'C:\\\\Users\\\\olafd\\\\AppData\\\\Local\\\\Temp\\\\tmp0qxcww99'"
     ]
    }
   ],
   "source": [
    "g.save_graph('snow.xml')\n",
    "g.run()"
   ]
  },
  {
   "cell_type": "code",
   "execution_count": null,
   "id": "eaef2574-6a7d-484b-86f9-69f8f4b531e3",
   "metadata": {},
   "outputs": [],
   "source": []
  }
 ],
 "metadata": {
  "kernelspec": {
   "display_name": "Python 3",
   "language": "python",
   "name": "python3"
  },
  "language_info": {
   "codemirror_mode": {
    "name": "ipython",
    "version": 3
   },
   "file_extension": ".py",
   "mimetype": "text/x-python",
   "name": "python",
   "nbconvert_exporter": "python",
   "pygments_lexer": "ipython3",
   "version": "3.9.4"
  }
 },
 "nbformat": 4,
 "nbformat_minor": 5
}
