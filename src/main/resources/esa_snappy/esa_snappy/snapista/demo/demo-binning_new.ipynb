{
 "cells": [
  {
   "cell_type": "code",
   "execution_count": 1,
   "id": "c4bf59c7-78f2-4e94-a6b9-da0c8a04368d",
   "metadata": {},
   "outputs": [],
   "source": [
    "import esa_snappy.snapista\n",
    "\n",
    "from snapista.binning import aggregators\n",
    "from snapista.binning import BinningVariable, BinningOutputBands, BinningBand, Aggregators, BinningVariables\n",
    "from snapista import Graph\n",
    "from snapista import Operator\n",
    "import lxml.etree as etree\n",
    "import os"
   ]
  },
  {
   "cell_type": "code",
   "execution_count": 2,
   "id": "201edf84-dfe7-4346-8898-884530be354d",
   "metadata": {},
   "outputs": [],
   "source": [
    "os.environ['PATH'] = '/srv/conda/envs/env_snap/snap/bin:' +  os.environ['PATH']"
   ]
  },
  {
   "cell_type": "markdown",
   "id": "9ad15f94-d193-49a3-98a0-d79bc8f8a86e",
   "metadata": {},
   "source": [
    "## Create an Aggregator"
   ]
  },
  {
   "cell_type": "code",
   "execution_count": 3,
   "id": "ba09111e-e105-4b63-a838-9ec767191a73",
   "metadata": {},
   "outputs": [],
   "source": [
    "ag = aggregators.AggregatorAvg(varName='OTCI', targetName=\"otci\", outputCounts='true', outputSums='true', weightCoeff=1.0)"
   ]
  },
  {
   "cell_type": "markdown",
   "id": "d51bac07-aae0-4ce7-b1eb-d783b692b731",
   "metadata": {},
   "source": [
    "## Create a binning operator"
   ]
  },
  {
   "cell_type": "code",
   "execution_count": 4,
   "id": "bb37992a-5f51-4399-add4-e23c3493a188",
   "metadata": {},
   "outputs": [],
   "source": [
    "binning = Operator('Binning')\n",
    "\n",
    "binning.sourceProductFormat = 'sen3'\n",
    "\n",
    "binning.aggregatorConfigs = Aggregators([ag,\n",
    "                                        aggregators.AggregatorAvgOutlier(varName='OTCI', targetName='outlier'),\n",
    "                                        aggregators.AggregatorMinMax(varName='OTCI', targetName='otci'),\n",
    "                                        aggregators.AggregatorOnMaxSet(targetName='omvn', onMaxVarName='OTCI', setVarNames='OTCI'),\n",
    "                                        aggregators.AggregatorPercentile(varName='OTCI', percentage=90, targetName='percent'),\n",
    "                                        aggregators.AggregatorSum(varName='OTCI', targetName='sum')])\n",
    "\n",
    "binning.sourceProductPaths = '/data/S3*/*.xml'\n",
    "\n",
    "binning.outputFile = '/home/vscode/binned_new.dim'"
   ]
  },
  {
   "cell_type": "code",
   "execution_count": 5,
   "id": "6fa5b71e-a3ae-4f78-a00d-e9c8795bfee3",
   "metadata": {},
   "outputs": [
    {
     "data": {
      "text/plain": "Operator('Binning', sourceProductPaths='/data/S3*/*.xml', sourceProductFormat='sen3', sourceGraphPaths='None', region='None', startDateTime='None', periodDuration='None', timeFilterMethod='NONE', minDataHour='None', numRows='2160', superSampling='1', maxDistanceOnEarth='-1', maskExpr='None', variableConfigs='None', aggregatorConfigs='<snapista.binning.aggregators.Aggregators object at 0x000002212727AD10>', postProcessorConfig='None', outputType='Product', outputFile='/home/vscode/binned_new.dim', outputFormat='BEAM-DIMAP', bandConfigurations='None', productCustomizerConfig='None', outputBinnedData='false', outputTargetProduct='true', metadataPropertiesFile='./metadata.properties', metadataTemplateDir='.', metadataAggregatorName='NAME', planetaryGridClass='org.esa.snap.binning.support.SEAGrid')"
     },
     "execution_count": 5,
     "metadata": {},
     "output_type": "execute_result"
    }
   ],
   "source": [
    "binning"
   ]
  },
  {
   "cell_type": "markdown",
   "id": "8ab19cbd-5175-4948-827b-269337839c3d",
   "metadata": {},
   "source": [
    "## Create the Graph"
   ]
  },
  {
   "cell_type": "code",
   "execution_count": 6,
   "id": "e5c0e2c1-6896-4db7-b90d-ad2d7da9beb6",
   "metadata": {},
   "outputs": [
    {
     "name": "stdout",
     "output_type": "stream",
     "text": [
      "aggregatorConfigs <snapista.binning.aggregators.Aggregators object at 0x000002212727AD10>\n",
      "bandConfigurations None\n",
      "postProcessorConfig None\n",
      "productCustomizerConfig None\n",
      "variableConfigs None\n"
     ]
    }
   ],
   "source": [
    "g = Graph()\n",
    "\n",
    "g.add_node(operator=binning, \n",
    "           node_id='binning_1')"
   ]
  },
  {
   "cell_type": "code",
   "execution_count": 7,
   "id": "4fb07cc7-52d8-464c-83cc-c496b50df848",
   "metadata": {},
   "outputs": [],
   "source": [
    "g.add_node(operator=binning, \n",
    "           node_id='binning_1')"
   ]
  },
  {
   "cell_type": "markdown",
   "id": "89cecd6a-cab5-4ced-ac19-9b8a8b093f7b",
   "metadata": {},
   "source": [
    "```xml\n",
    "<aggregators>\n",
    "        <aggregator>\n",
    "            <type>AVG</type>\n",
    "            <varName>OTCI</varName>\n",
    "            <targetName>avg</targetName>\n",
    "            <weightCoeff>1.0</weightCoeff>\n",
    "            <outputCounts>true</outputCounts>\n",
    "            <outputSums>true</outputSums>\n",
    "        </aggregator>\n",
    "        <aggregator>\n",
    "            <type>MIN_MAX</type>\n",
    "            <varName>OTCI</varName>\n",
    "            <targetName>otci</targetName>\n",
    "        </aggregator>\n",
    "        <aggregator>\n",
    "            <type>AVG_OUTLIER</type>\n",
    "            <varName>OTCI</varName>\n",
    "            <targetName/>\n",
    "        </aggregator>\n",
    "        <aggregator>\n",
    "            <type>SUM</type>\n",
    "            <varName>OTCI</varName>\n",
    "            <targetName>aaa</targetName>\n",
    "        </aggregator>\n",
    "        <aggregator>\n",
    "            <type>PERCENTILE</type>\n",
    "            <varName>OTCI</varName>\n",
    "        </aggregator>\n",
    "        <aggregator>\n",
    "            <type>ON_MAX_SET</type>\n",
    "            <onMaxVarName>OTCI</onMaxVarName>\n",
    "            <setVarNames>OTCI</setVarNames>\n",
    "        </aggregator>\n",
    "    </aggregators>\n",
    "```"
   ]
  },
  {
   "cell_type": "code",
   "execution_count": 8,
   "id": "54468091-3227-419e-b949-f8b86fcb9eef",
   "metadata": {},
   "outputs": [
    {
     "name": "stdout",
     "output_type": "stream",
     "text": [
      "<graph>\n",
      "  <version>1.0</version>\n",
      "  <node id=\"binning_1\">\n",
      "    <operator>Binning</operator>\n",
      "    <sources/>\n",
      "    <parameters class=\"com.bc.ceres.binding.dom.XppDomElement\">\n",
      "      <aggregators>\n",
      "        <aggregator>\n",
      "          <type>AVG</type>\n",
      "          <varName>OTCI</varName>\n",
      "          <targetName>otci</targetName>\n",
      "          <weightCoeff>1.0</weightCoeff>\n",
      "          <outputCounts>true</outputCounts>\n",
      "          <outputSums>true</outputSums>\n",
      "        </aggregator>\n",
      "        <aggregator>\n",
      "          <type>AVG_OUTLIER</type>\n",
      "          <varName>OTCI</varName>\n",
      "          <targetName>outlier</targetName>\n",
      "        </aggregator>\n",
      "        <aggregator>\n",
      "          <type>MIN_MAX</type>\n",
      "          <varName>OTCI</varName>\n",
      "          <targetName>otci</targetName>\n",
      "        </aggregator>\n",
      "        <aggregator>\n",
      "          <type>ON_MAX_SET</type>\n",
      "          <targetName>omvn</targetName>\n",
      "          <onMaxVarName>OTCI</onMaxVarName>\n",
      "          <setVarNames>OTCI</setVarNames>\n",
      "        </aggregator>\n",
      "        <aggregator>\n",
      "          <type>PERCENTILE</type>\n",
      "          <varName>OTCI</varName>\n",
      "          <targetName>percent</targetName>\n",
      "          <percentage>90</percentage>\n",
      "        </aggregator>\n",
      "        <aggregator>\n",
      "          <type>SUM</type>\n",
      "          <varName>OTCI</varName>\n",
      "          <targetName>sum</targetName>\n",
      "        </aggregator>\n",
      "      </aggregators>\n",
      "      <maskExpr/>\n",
      "      <maxDistanceOnEarth>-1</maxDistanceOnEarth>\n",
      "      <metadataAggregatorName>NAME</metadataAggregatorName>\n",
      "      <metadataPropertiesFile>./metadata.properties</metadataPropertiesFile>\n",
      "      <metadataTemplateDir>.</metadataTemplateDir>\n",
      "      <minDataHour/>\n",
      "      <numRows>2160</numRows>\n",
      "      <outputBinnedData>false</outputBinnedData>\n",
      "      <outputFile>/home/vscode/binned_new.dim</outputFile>\n",
      "      <outputFormat>BEAM-DIMAP</outputFormat>\n",
      "      <outputTargetProduct>true</outputTargetProduct>\n",
      "      <outputType>Product</outputType>\n",
      "      <periodDuration/>\n",
      "      <planetaryGridClass>org.esa.snap.binning.support.SEAGrid</planetaryGridClass>\n",
      "      <region/>\n",
      "      <sourceGraphPaths/>\n",
      "      <sourceProductFormat>sen3</sourceProductFormat>\n",
      "      <sourceProductPaths>/data/S3*/*.xml</sourceProductPaths>\n",
      "      <startDateTime/>\n",
      "      <superSampling>1</superSampling>\n",
      "      <timeFilterMethod>NONE</timeFilterMethod>\n",
      "    </parameters>\n",
      "  </node>\n",
      "</graph>\n",
      "\n"
     ]
    }
   ],
   "source": [
    "g.view()"
   ]
  },
  {
   "cell_type": "code",
   "execution_count": 9,
   "id": "5a56860a-fcc2-408c-93fd-f667b64680a7",
   "metadata": {},
   "outputs": [
    {
     "name": "stdout",
     "output_type": "stream",
     "text": [
      "Processing the graph\n",
      "Executing processing graph\n",
      "SEVERE: org.esa.snap.runtime.Engine: Failed to modify class loader field 'usr_paths'\n",
      "done.\n",
      "java.lang.NoSuchMethodException: java.lang.ClassLoader.initializePath(java.lang.String)\n",
      "at java.base/java.lang.Class.getDeclaredMethod(Class.java:2848)\n",
      "at org.esa.snap.runtime.Engine.setJavaLibraryPath(Engine.java:286)\n",
      "at org.esa.snap.runtime.Engine.setJavaLibraryPath(Engine.java:265)\n",
      "at org.esa.snap.runtime.Engine.<init>(Engine.java:46)\n",
      "at org.esa.snap.runtime.Engine.start(Engine.java:117)\n",
      "at org.esa.snap.runtime.Engine.start(Engine.java:90)\n",
      "at org.esa.snap.runtime.Launcher.run(Launcher.java:51)\n",
      "at org.esa.snap.runtime.Launcher.main(Launcher.java:31)\n",
      "at java.base/jdk.internal.reflect.DirectMethodHandleAccessor.invoke(DirectMethodHandleAccessor.java:103)\n",
      "at java.base/java.lang.reflect.Method.invoke(Method.java:580)\n",
      "at com.exe4j.runtime.LauncherEngine.launch(LauncherEngine.java:84)\n",
      "at com.exe4j.runtime.WinLauncher.main(WinLauncher.java:94)\n",
      "at com.install4j.runtime.launcher.WinLauncher.main(WinLauncher.java:25)\n",
      "\n",
      "INFO: org.esa.snap.core.gpf.operators.tooladapter.ToolAdapterIO: Initializing external tool adapters\n",
      "INFO: org.esa.snap.core.util.EngineVersionCheckActivator: Please check regularly for new updates for the best SNAP experience.\n",
      "INFO: org.esa.snap.binning.operator.BinningOp: expanding sourceProductPaths wildcards.\n",
      "\n",
      "Error: [NodeId: binning_1] Failed to access directory 'D:\\data'\n",
      "org.esa.snap.core.gpf.graph.GraphException: [NodeId: binning_1] Failed to access directory 'D:\\data'\n",
      "at org.esa.snap.core.gpf.graph.NodeContext.initTargetProduct(NodeContext.java:79)\n",
      "at org.esa.snap.core.gpf.graph.GraphContext.initNodeContext(GraphContext.java:213)\n",
      "at org.esa.snap.core.gpf.graph.GraphContext.initOutput(GraphContext.java:179)\n",
      "at org.esa.snap.core.gpf.graph.GraphContext.init(GraphContext.java:98)\n",
      "at org.esa.snap.core.gpf.graph.GraphContext.<init>(GraphContext.java:83)\n",
      "at org.esa.snap.core.gpf.graph.GraphContext.<init>(GraphContext.java:94)\n",
      "at org.esa.snap.core.gpf.graph.GraphContext.<init>(GraphContext.java:58)\n",
      "at org.esa.snap.core.gpf.graph.GraphProcessor.executeGraph(GraphProcessor.java:127)\n",
      "at org.esa.snap.core.gpf.main.DefaultCommandLineContext.executeGraph(DefaultCommandLineContext.java:115)\n",
      "at org.esa.snap.core.gpf.main.CommandLineTool.executeGraph(CommandLineTool.java:573)\n",
      "at org.esa.snap.core.gpf.main.CommandLineTool.runGraph(CommandLineTool.java:402)\n",
      "at org.esa.snap.core.gpf.main.CommandLineTool.runGraphOrOperator(CommandLineTool.java:287)\n",
      "at org.esa.snap.core.gpf.main.CommandLineTool.run(CommandLineTool.java:188)\n",
      "at org.esa.snap.core.gpf.main.CommandLineTool.run(CommandLineTool.java:121)\n",
      "at org.esa.snap.core.gpf.main.GPT.run(GPT.java:60)\n",
      "at org.esa.snap.core.gpf.main.GPT.main(GPT.java:37)\n",
      "at java.base/jdk.internal.reflect.DirectMethodHandleAccessor.invoke(DirectMethodHandleAccessor.java:103)\n",
      "at java.base/java.lang.reflect.Method.invoke(Method.java:580)\n",
      "at org.esa.snap.runtime.Launcher.lambda$run$0(Launcher.java:55)\n",
      "at org.esa.snap.runtime.Engine.runClientCode(Engine.java:189)\n",
      "at org.esa.snap.runtime.Launcher.run(Launcher.java:51)\n",
      "at org.esa.snap.runtime.Launcher.main(Launcher.java:31)\n",
      "at java.base/jdk.internal.reflect.DirectMethodHandleAccessor.invoke(DirectMethodHandleAccessor.java:103)\n",
      "at java.base/java.lang.reflect.Method.invoke(Method.java:580)\n",
      "at com.exe4j.runtime.LauncherEngine.launch(LauncherEngine.java:84)\n",
      "at com.exe4j.runtime.WinLauncher.main(WinLauncher.java:94)\n",
      "at com.install4j.runtime.launcher.WinLauncher.main(WinLauncher.java:25)\n",
      "Caused by: org.esa.snap.core.gpf.OperatorException: Failed to access directory 'D:\\data'\n",
      "at org.esa.snap.binning.operator.BinningOp.initialize(BinningOp.java:480)\n",
      "at org.esa.snap.core.gpf.internal.OperatorContext.initializeOperator(OperatorContext.java:528)\n",
      "at org.esa.snap.core.gpf.internal.OperatorContext.getTargetProduct(OperatorContext.java:298)\n",
      "at org.esa.snap.core.gpf.Operator.getTargetProduct(Operator.java:359)\n",
      "at org.esa.snap.core.gpf.graph.NodeContext.initTargetProduct(NodeContext.java:77)\n",
      "... 26 more\n",
      "Caused by: java.io.IOException: Failed to access directory 'D:\\data'\n",
      "at org.esa.snap.core.util.io.WildcardMatcher.collectFiles(WildcardMatcher.java:95)\n",
      "at org.esa.snap.core.util.io.WildcardMatcher.glob(WildcardMatcher.java:83)\n",
      "at org.esa.snap.binning.operator.BinningOp.doSpatialBinning(BinningOp.java:632)\n",
      "at org.esa.snap.binning.operator.BinningOp.initialize(BinningOp.java:452)\n",
      "... 30 more\n"
     ]
    },
    {
     "ename": "PermissionError",
     "evalue": "[WinError 32] Der Prozess kann nicht auf die Datei zugreifen, da sie von einem anderen Prozess verwendet wird: 'C:\\\\Users\\\\olafd\\\\AppData\\\\Local\\\\Temp\\\\tmpaw47fjkl'",
     "output_type": "error",
     "traceback": [
      "\u001B[1;31m---------------------------------------------------------------------------\u001B[0m",
      "\u001B[1;31mPermissionError\u001B[0m                           Traceback (most recent call last)",
      "Cell \u001B[1;32mIn[9], line 3\u001B[0m\n\u001B[0;32m      1\u001B[0m g\u001B[38;5;241m.\u001B[39msave_graph(filename\u001B[38;5;241m=\u001B[39m\u001B[38;5;124m'\u001B[39m\u001B[38;5;124ms3.xml\u001B[39m\u001B[38;5;124m'\u001B[39m)\n\u001B[1;32m----> 3\u001B[0m \u001B[43mg\u001B[49m\u001B[38;5;241;43m.\u001B[39;49m\u001B[43mrun\u001B[49m\u001B[43m(\u001B[49m\u001B[43m)\u001B[49m\n",
      "File \u001B[1;32mD:\\olaf\\bc\\workspace\\senbox-org_esa_snappy_merge_snapista\\esa-snappy\\src\\main\\resources\\esa_snappy\\snapista\\graph.py:435\u001B[0m, in \u001B[0;36mGraph.run\u001B[1;34m(self, gpt_options)\u001B[0m\n\u001B[0;32m    431\u001B[0m     rc \u001B[38;5;241m=\u001B[39m _run_command(options)\n\u001B[0;32m    433\u001B[0m \u001B[38;5;28;01mfinally\u001B[39;00m:\n\u001B[1;32m--> 435\u001B[0m     \u001B[43mos\u001B[49m\u001B[38;5;241;43m.\u001B[39;49m\u001B[43mremove\u001B[49m\u001B[43m(\u001B[49m\u001B[43mpath\u001B[49m\u001B[43m)\u001B[49m\n\u001B[0;32m    437\u001B[0m \u001B[38;5;28;01mif\u001B[39;00m rc \u001B[38;5;241m!=\u001B[39m \u001B[38;5;241m0\u001B[39m:\n\u001B[0;32m    439\u001B[0m     \u001B[38;5;28;01mraise\u001B[39;00m \u001B[38;5;167;01mException\u001B[39;00m(\u001B[38;5;124m\"\u001B[39m\u001B[38;5;124mGraph execution failed (exit code \u001B[39m\u001B[38;5;132;01m{}\u001B[39;00m\u001B[38;5;124m)\u001B[39m\u001B[38;5;124m\"\u001B[39m\u001B[38;5;241m.\u001B[39mformat(rc))\n",
      "\u001B[1;31mPermissionError\u001B[0m: [WinError 32] Der Prozess kann nicht auf die Datei zugreifen, da sie von einem anderen Prozess verwendet wird: 'C:\\\\Users\\\\olafd\\\\AppData\\\\Local\\\\Temp\\\\tmpaw47fjkl'"
     ]
    }
   ],
   "source": [
    "g.save_graph(filename='s3.xml')\n",
    "\n",
    "g.run()"
   ]
  },
  {
   "cell_type": "code",
   "execution_count": null,
   "id": "72c1f5b1-e6ed-4e79-9fce-3455cc9a304d",
   "metadata": {},
   "outputs": [],
   "source": []
  },
  {
   "cell_type": "code",
   "execution_count": null,
   "id": "7390f902-9415-4d1b-ab77-c7bc4554eace",
   "metadata": {},
   "outputs": [],
   "source": []
  },
  {
   "cell_type": "code",
   "execution_count": null,
   "outputs": [],
   "source": [],
   "metadata": {
    "collapsed": false
   }
  }
 ],
 "metadata": {
  "kernelspec": {
   "display_name": "Python 3",
   "language": "python",
   "name": "python3"
  },
  "language_info": {
   "codemirror_mode": {
    "name": "ipython",
    "version": 3
   },
   "file_extension": ".py",
   "mimetype": "text/x-python",
   "name": "python",
   "nbconvert_exporter": "python",
   "pygments_lexer": "ipython3",
   "version": "3.9.4"
  }
 },
 "nbformat": 4,
 "nbformat_minor": 5
}
