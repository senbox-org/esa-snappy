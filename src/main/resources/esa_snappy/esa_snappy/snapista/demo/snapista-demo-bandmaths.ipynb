{
 "cells": [
  {
   "cell_type": "markdown",
   "id": "eff9f1b9-ebce-4968-aa1d-eb33efd37813",
   "metadata": {},
   "source": [
    "## Snapista Demo notebook - Using band maths, setting up operators, creating and running a graph..."
   ]
  },
  {
   "cell_type": "code",
   "execution_count": 1,
   "id": "77db105d",
   "metadata": {},
   "outputs": [
    {
     "name": "stdout",
     "output_type": "stream",
     "text": [
      "Python version: 3.11.9 | packaged by Anaconda, Inc. | (main, Apr 19 2024, 16:40:41) [MSC v.1916 64 bit (AMD64)]\n",
      "Location of esa_snappy package: D:\\olaf\\miniconda3_py311\\Lib\\site-packages\\esa_snappy\n"
     ]
    }
   ],
   "source": [
    "# Some information...\n",
    "\n",
    "import os\n",
    "import sys\n",
    "print(\"Python version: \" + sys.version)\n",
    "\n",
    "import sysconfig\n",
    "print(\"Location of esa_snappy package: \" + sysconfig.get_paths()['purelib'] + os.sep + \"esa_snappy\")"
   ]
  },
  {
   "cell_type": "code",
   "execution_count": 2,
   "id": "f3b2ca32-63fc-4a92-8be4-5f459be87a9f",
   "metadata": {},
   "outputs": [],
   "source": [
    "# Import esa_snappy and snapista...\n",
    "\n",
    "import esa_snappy\n",
    "import snapista\n",
    "\n",
    "from snapista import Graph\n",
    "from snapista import Operator\n",
    "from snapista import read_file\n",
    "from snapista import TargetBand\n",
    "from snapista import TargetBandDescriptors"
   ]
  },
  {
   "cell_type": "code",
   "execution_count": 3,
   "id": "d0ac6a29-c799-41b2-b028-e55a3315de63",
   "metadata": {},
   "outputs": [],
   "source": [
    "# Set up a graph...\n",
    "\n",
    "try:\n",
    "    g = Graph()\n",
    "except Exception as ex:\n",
    "    print(\"Cannot set up Snapista Graph():\", ex)"
   ]
  },
  {
   "cell_type": "code",
   "execution_count": 4,
   "id": "1a94bc96-3104-4726-b01c-48fad9cfb5d6",
   "metadata": {},
   "outputs": [],
   "source": [
    "# Add 'Read' operator to the graph for reading example input...\n",
    "\n",
    "g.add_node(operator=Operator(\"Read\", file='./data/subset_0_of_S3A_OL_1_ERR____20160701T092853_20160701T093053_20170919T102725_0119_006_036______MR1_R_NT_002.nc'), node_id=\"Read\")\n"
   ]
  },
  {
   "cell_type": "code",
   "execution_count": 5,
   "id": "96b93cd5-2f58-442b-88c3-ce4cbc793661",
   "metadata": {},
   "outputs": [],
   "source": [
    "# Set up a 'BandMaths' operator to compute a simple NDVI. Set up a target band for NDVI result...\n",
    "\n",
    "band_maths = Operator('BandMaths')\n",
    "\n",
    "ndvi = TargetBand(name='ndvi', expression='(Oa08_radiance - Oa17_radiance)/(Oa08_radiance + Oa17_radiance)')\n",
    "                         \n",
    "band_maths.targetBandDescriptors = TargetBandDescriptors([ndvi])"
   ]
  },
  {
   "cell_type": "code",
   "execution_count": 6,
   "id": "1564302c-f7a2-47a2-a5f6-85147b88536b",
   "metadata": {},
   "outputs": [
    {
     "name": "stdout",
     "output_type": "stream",
     "text": [
      "targetBandDescriptors <snapista.target_band_descriptors.TargetBandDescriptors object at 0x000001B75A9730D0>\n",
      "Instance TargetBandDescriptors: True\n",
      "Instance Aggregators: False\n",
      "Instance BinningOutputBands: False\n",
      "Instance BinningVariables: False\n",
      "Instance str: False\n"
     ]
    }
   ],
   "source": [
    "# Add 'BandMaths' operator to the graph...\n",
    "\n",
    "g.add_node(operator=band_maths, node_id=\"BandMaths\" ,source='Read')"
   ]
  },
  {
   "cell_type": "code",
   "execution_count": 7,
   "id": "6558126a-e281-497d-a365-3a6b0497762c",
   "metadata": {},
   "outputs": [
    {
     "data": {
      "text/plain": [
       "Operator('BandMerge', sourceBandNames='None', geographicError='1.0E-5f', source='['Read', 'BandMaths']')"
      ]
     },
     "execution_count": 7,
     "metadata": {},
     "output_type": "execute_result"
    }
   ],
   "source": [
    "# Set up a 'Merge' operator to merge input with NDVI result...\n",
    "\n",
    "merge = Operator(\"BandMerge\", source=[\"Read\", \"BandMaths\"])\n",
    "\n",
    "merge"
   ]
  },
  {
   "cell_type": "code",
   "execution_count": 8,
   "id": "216903df-8ef4-403b-9437-5653733120fb",
   "metadata": {},
   "outputs": [],
   "source": [
    "# Add 'Merge' operator to the graph...\n",
    "\n",
    "g.add_node(operator=merge, node_id=\"Merge\", source=[\"Read\", \"BandMaths\"])"
   ]
  },
  {
   "cell_type": "code",
   "execution_count": 9,
   "id": "cc5346c1-d9f6-49b2-8f7a-a59b9104e589",
   "metadata": {},
   "outputs": [
    {
     "data": {
      "text/plain": [
       "Operator('Subset', bandNames='Oa08_radiance,Oa17_radiance,ndvi', tiePointGridNames='None', region='None', referenceBand='None', geoRegion='None', subSamplingX='1', subSamplingY='1', fullSwath='false', copyMetadata='false')"
      ]
     },
     "execution_count": 9,
     "metadata": {},
     "output_type": "execute_result"
    }
   ],
   "source": [
    "# Set up a 'Subset' operator to extract just three bands...\n",
    "\n",
    "subset = Operator('Subset', bandNames=\"Oa08_radiance,Oa17_radiance,ndvi\")\n",
    "\n",
    "subset"
   ]
  },
  {
   "cell_type": "code",
   "execution_count": 10,
   "id": "5120cf7c-9fd4-4c50-a90c-38800b6ba01d",
   "metadata": {},
   "outputs": [],
   "source": [
    "# Add 'Subset' operator to the graph...\n",
    "\n",
    "g.add_node(operator=subset, node_id=\"Subset\", source='Merge')"
   ]
  },
  {
   "cell_type": "code",
   "execution_count": 11,
   "id": "8f90a68b-d124-428e-bdf6-1f3ea070c667",
   "metadata": {},
   "outputs": [
    {
     "data": {
      "text/plain": [
       "Operator('Write', file='None', formatName='BEAM-DIMAP', deleteOutputOnFailure='true', writeEntireTileRows='false', clearCacheAfterRowWrite='false')"
      ]
     },
     "execution_count": 11,
     "metadata": {},
     "output_type": "execute_result"
    }
   ],
   "source": [
    "# Set up a 'Write' operator to write final target product with the three bands...\n",
    "\n",
    "write = Operator(\"Write\")\n",
    "\n",
    "write"
   ]
  },
  {
   "cell_type": "code",
   "execution_count": 12,
   "id": "0548a3a6-cf3c-4f26-a48d-0e92556ee09c",
   "metadata": {},
   "outputs": [],
   "source": [
    "# Add 'Write' operator to the graph. Define a NetCDF output file...\n",
    "\n",
    "g.add_node(operator=Operator(\"Write\", file='./data/snapista_demo_bandmaths_result.nc', formatName='NetCDF4-BEAM'), node_id=\"Write\", source='Subset')"
   ]
  },
  {
   "cell_type": "code",
   "execution_count": 13,
   "id": "825327d3-cc7f-4a1d-840d-52d40a39c4fd",
   "metadata": {},
   "outputs": [
    {
     "name": "stdout",
     "output_type": "stream",
     "text": [
      "<graph>\n",
      "  <version>1.0</version>\n",
      "  <node id=\"Read\">\n",
      "    <operator>Read</operator>\n",
      "    <sources/>\n",
      "    <parameters class=\"com.bc.ceres.binding.dom.XppDomElement\">\n",
      "      <bandNames/>\n",
      "      <copyMetadata>true</copyMetadata>\n",
      "      <file>./data/subset_0_of_S3A_OL_1_ERR____20160701T092853_20160701T093053_20170919T102725_0119_006_036______MR1_R_NT_002.nc</file>\n",
      "      <formatName/>\n",
      "      <geometryRegion/>\n",
      "      <maskNames/>\n",
      "      <pixelRegion/>\n",
      "      <useAdvancedOptions>false</useAdvancedOptions>\n",
      "    </parameters>\n",
      "  </node>\n",
      "  <node id=\"BandMaths\">\n",
      "    <operator>BandMaths</operator>\n",
      "    <sources>\n",
      "      <sourceProduct refid=\"Read\"/>\n",
      "    </sources>\n",
      "    <parameters class=\"com.bc.ceres.binding.dom.XppDomElement\">\n",
      "      <targetBands>\n",
      "        <targetBand>\n",
      "          <name>ndvi</name>\n",
      "          <expression>(Oa08_radiance - Oa17_radiance)/(Oa08_radiance + Oa17_radiance)</expression>\n",
      "          <type>float32</type>\n",
      "          <description/>\n",
      "          <unit/>\n",
      "          <no_data_value>NaN</no_data_value>\n",
      "        </targetBand>\n",
      "      </targetBands>\n",
      "      <variables/>\n",
      "    </parameters>\n",
      "  </node>\n",
      "  <node id=\"Merge\">\n",
      "    <operator>BandMerge</operator>\n",
      "    <sources>\n",
      "      <sourceProduct refid=\"Read\"/>\n",
      "      <sourceProduct.1 refid=\"BandMaths\"/>\n",
      "    </sources>\n",
      "    <parameters class=\"com.bc.ceres.binding.dom.XppDomElement\">\n",
      "      <geographicError>1.0E-5f</geographicError>\n",
      "      <sourceBandNames/>\n",
      "    </parameters>\n",
      "  </node>\n",
      "  <node id=\"Subset\">\n",
      "    <operator>Subset</operator>\n",
      "    <sources>\n",
      "      <sourceProduct refid=\"Merge\"/>\n",
      "    </sources>\n",
      "    <parameters class=\"com.bc.ceres.binding.dom.XppDomElement\">\n",
      "      <bandNames>Oa08_radiance,Oa17_radiance,ndvi</bandNames>\n",
      "      <copyMetadata>false</copyMetadata>\n",
      "      <fullSwath>false</fullSwath>\n",
      "      <geoRegion/>\n",
      "      <referenceBand/>\n",
      "      <region/>\n",
      "      <subSamplingX>1</subSamplingX>\n",
      "      <subSamplingY>1</subSamplingY>\n",
      "      <tiePointGridNames/>\n",
      "    </parameters>\n",
      "  </node>\n",
      "  <node id=\"Write\">\n",
      "    <operator>Write</operator>\n",
      "    <sources>\n",
      "      <sourceProduct refid=\"Subset\"/>\n",
      "    </sources>\n",
      "    <parameters class=\"com.bc.ceres.binding.dom.XppDomElement\">\n",
      "      <clearCacheAfterRowWrite>false</clearCacheAfterRowWrite>\n",
      "      <deleteOutputOnFailure>true</deleteOutputOnFailure>\n",
      "      <file>./data/snapista_demo_bandmaths_result.nc</file>\n",
      "      <formatName>NetCDF4-BEAM</formatName>\n",
      "      <writeEntireTileRows>false</writeEntireTileRows>\n",
      "    </parameters>\n",
      "  </node>\n",
      "</graph>\n",
      "\n"
     ]
    }
   ],
   "source": [
    "# View graph in XML representation...\n",
    "\n",
    "g.view()"
   ]
  },
  {
   "cell_type": "code",
   "execution_count": 14,
   "id": "3328eb96-de62-4fbe-9f05-f0266b22b69d",
   "metadata": {},
   "outputs": [
    {
     "name": "stdout",
     "output_type": "stream",
     "text": [
      "Processing the graph, this may take a while. Please wait...\n",
      "Executing processing graph\n",
      "15%30%45%60%...70%..90% done.\n",
      "SEVERE: org.esa.snap.runtime.Engine: Failed to modify class loader field 'usr_paths'\n",
      "java.lang.NoSuchMethodException: java.lang.ClassLoader.initializePath(java.lang.String)\n",
      "\tat java.base/java.lang.Class.getDeclaredMethod(Class.java:2848)\n",
      "\tat org.esa.snap.runtime.Engine.setJavaLibraryPath(Engine.java:286)\n",
      "\tat org.esa.snap.runtime.Engine.setJavaLibraryPath(Engine.java:265)\n",
      "\tat org.esa.snap.runtime.Engine.<init>(Engine.java:46)\n",
      "\tat org.esa.snap.runtime.Engine.start(Engine.java:117)\n",
      "\tat org.esa.snap.runtime.Engine.start(Engine.java:90)\n",
      "\tat org.esa.snap.runtime.Launcher.run(Launcher.java:51)\n",
      "\tat org.esa.snap.runtime.Launcher.main(Launcher.java:31)\n",
      "\tat java.base/jdk.internal.reflect.DirectMethodHandleAccessor.invoke(DirectMethodHandleAccessor.java:103)\n",
      "\tat java.base/java.lang.reflect.Method.invoke(Method.java:580)\n",
      "\tat com.exe4j.runtime.LauncherEngine.launch(LauncherEngine.java:84)\n",
      "\tat com.exe4j.runtime.WinLauncher.main(WinLauncher.java:94)\n",
      "\tat com.install4j.runtime.launcher.WinLauncher.main(WinLauncher.java:25)\n",
      "\n",
      "INFO: org.esa.snap.core.gpf.operators.tooladapter.ToolAdapterIO: Initializing external tool adapters\n",
      "INFO: org.esa.snap.core.util.EngineVersionCheckActivator: Please check regularly for new updates for the best SNAP experience.\n",
      "WARNING: org.esa.snap.dataio.netcdf.util.MetadataUtils: Missing configuration property 'snap.dataio.netcdf.metadataElementLimit'. Using default (100).\n",
      "4280 [main] INFO serverStartup - Nc4Iosp: NetCDF-4 C library loaded (jna_path='C:\\Users\\olafd\\.snap\\auxdata\\netcdf_natives\\12.0.0.0\\amd64', libname='netcdf').\n",
      "4287 [main] INFO serverStartup - NetcdfLoader: set log level: old=0 new=0\n",
      "4287 [main] INFO serverStartup - Nc4Iosp: set log level: old=0 new=0\n",
      "Processing finished successfully.\n"
     ]
    },
    {
     "data": {
      "text/plain": [
       "0"
      ]
     },
     "execution_count": 14,
     "metadata": {},
     "output_type": "execute_result"
    }
   ],
   "source": [
    "# Save graph as XML file, then run it...\n",
    "\n",
    "g.save_graph('./data/snapista_demo_bandmaths.xml')\n",
    "g.run()"
   ]
  },
  {
   "cell_type": "code",
   "execution_count": null,
   "id": "eaef2574-6a7d-484b-86f9-69f8f4b531e3",
   "metadata": {},
   "outputs": [],
   "source": []
  }
 ],
 "metadata": {
  "kernelspec": {
   "display_name": "Python 3 (ipykernel)",
   "language": "python",
   "name": "python3"
  },
  "language_info": {
   "codemirror_mode": {
    "name": "ipython",
    "version": 3
   },
   "file_extension": ".py",
   "mimetype": "text/x-python",
   "name": "python",
   "nbconvert_exporter": "python",
   "pygments_lexer": "ipython3",
   "version": "3.11.9"
  }
 },
 "nbformat": 4,
 "nbformat_minor": 5
}
