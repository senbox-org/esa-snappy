{
 "cells": [
  {
   "cell_type": "code",
   "execution_count": null,
   "id": "c4bf59c7-78f2-4e94-a6b9-da0c8a04368d",
   "metadata": {},
   "outputs": [],
   "source": [
    "import esa_snappy.snapista\n",
    "\n",
    "from snapista.binning import aggregators\n",
    "from snapista.binning import BinningVariable, BinningOutputBands, BinningBand, Aggregators, BinningVariables\n",
    "from snapista import Graph\n",
    "from snapista import Operator\n",
    "import lxml.etree as etree\n",
    "import os"
   ]
  },
  {
   "cell_type": "markdown",
   "source": [],
   "metadata": {
    "collapsed": false
   }
  },
  {
   "cell_type": "code",
   "execution_count": null,
   "id": "201edf84-dfe7-4346-8898-884530be354d",
   "metadata": {},
   "outputs": [],
   "source": [
    "os.environ['PATH'] = '/srv/conda/envs/env_snap/snap/bin:' +  os.environ['PATH']"
   ]
  },
  {
   "cell_type": "markdown",
   "id": "9ad15f94-d193-49a3-98a0-d79bc8f8a86e",
   "metadata": {},
   "source": [
    "## Create an Aggregator"
   ]
  },
  {
   "cell_type": "code",
   "execution_count": null,
   "id": "ba09111e-e105-4b63-a838-9ec767191a73",
   "metadata": {},
   "outputs": [],
   "source": [
    "ag = aggregators.AggregatorAvg(var_name='OTCI', target_name=\"otci\", output_counts='true', output_sums='true', weight_coeff=1.0)"
   ]
  },
  {
   "cell_type": "markdown",
   "id": "d51bac07-aae0-4ce7-b1eb-d783b692b731",
   "metadata": {},
   "source": [
    "## Create a binning operator"
   ]
  },
  {
   "cell_type": "code",
   "execution_count": null,
   "id": "bb37992a-5f51-4399-add4-e23c3493a188",
   "metadata": {},
   "outputs": [],
   "source": [
    "binning = Operator('Binning')\n",
    "\n",
    "binning.sourceProductFormat = 'sen3'\n",
    "\n",
    "binning.aggregatorConfigs = Aggregators([ag,\n",
    "                                        aggregators.AggregatorAvgOutlier(var_name='OTCI', target_name='outlier'),\n",
    "                                        aggregators.AggregatorMinMax(var_name='OTCI', target_name='otci'),\n",
    "                                        aggregators.AggregatorOnMaxSet(target_name='omvn', on_max_var_name='OTCI', set_var_names='OTCI'),\n",
    "                                        aggregators.AggregatorPercentile(var_name='OTCI', percentage=90, target_name='percent'),\n",
    "                                        aggregators.AggregatorSum(var_name='OTCI', target_name='sum')])\n",
    "\n",
    "binning.sourceProductPaths = '/data/S3*/*.xml'\n",
    "\n",
    "binning.outputFile = '/home/vscode/binned_new.dim'"
   ]
  },
  {
   "cell_type": "code",
   "execution_count": null,
   "id": "6fa5b71e-a3ae-4f78-a00d-e9c8795bfee3",
   "metadata": {},
   "outputs": [],
   "source": [
    "binning"
   ]
  },
  {
   "cell_type": "markdown",
   "id": "8ab19cbd-5175-4948-827b-269337839c3d",
   "metadata": {},
   "source": [
    "## Create the Graph"
   ]
  },
  {
   "cell_type": "code",
   "execution_count": null,
   "id": "e5c0e2c1-6896-4db7-b90d-ad2d7da9beb6",
   "metadata": {},
   "outputs": [],
   "source": [
    "g = Graph()\n",
    "\n",
    "g.add_node(operator=binning, \n",
    "           node_id='binning_1')"
   ]
  },
  {
   "cell_type": "code",
   "execution_count": null,
   "id": "4fb07cc7-52d8-464c-83cc-c496b50df848",
   "metadata": {},
   "outputs": [],
   "source": [
    "g.add_node(operator=binning, \n",
    "           node_id='binning_1')"
   ]
  },
  {
   "cell_type": "markdown",
   "id": "89cecd6a-cab5-4ced-ac19-9b8a8b093f7b",
   "metadata": {},
   "source": [
    "```xml\n",
    "<aggregators>\n",
    "        <aggregator>\n",
    "            <type>AVG</type>\n",
    "            <varName>OTCI</varName>\n",
    "            <targetName>avg</targetName>\n",
    "            <weightCoeff>1.0</weightCoeff>\n",
    "            <outputCounts>true</outputCounts>\n",
    "            <outputSums>true</outputSums>\n",
    "        </aggregator>\n",
    "        <aggregator>\n",
    "            <type>MIN_MAX</type>\n",
    "            <varName>OTCI</varName>\n",
    "            <targetName>otci</targetName>\n",
    "        </aggregator>\n",
    "        <aggregator>\n",
    "            <type>AVG_OUTLIER</type>\n",
    "            <varName>OTCI</varName>\n",
    "            <targetName/>\n",
    "        </aggregator>\n",
    "        <aggregator>\n",
    "            <type>SUM</type>\n",
    "            <varName>OTCI</varName>\n",
    "            <targetName>aaa</targetName>\n",
    "        </aggregator>\n",
    "        <aggregator>\n",
    "            <type>PERCENTILE</type>\n",
    "            <varName>OTCI</varName>\n",
    "        </aggregator>\n",
    "        <aggregator>\n",
    "            <type>ON_MAX_SET</type>\n",
    "            <onMaxVarName>OTCI</onMaxVarName>\n",
    "            <setVarNames>OTCI</setVarNames>\n",
    "        </aggregator>\n",
    "    </aggregators>\n",
    "```"
   ]
  },
  {
   "cell_type": "code",
   "execution_count": null,
   "id": "54468091-3227-419e-b949-f8b86fcb9eef",
   "metadata": {},
   "outputs": [],
   "source": [
    "g.view()"
   ]
  },
  {
   "cell_type": "code",
   "execution_count": null,
   "id": "5a56860a-fcc2-408c-93fd-f667b64680a7",
   "metadata": {
    "pycharm": {
     "is_executing": true
    }
   },
   "outputs": [],
   "source": [
    "g.save_graph(filename='s3.xml')\n",
    "\n",
    "g.run()"
   ]
  },
  {
   "cell_type": "code",
   "execution_count": null,
   "id": "72c1f5b1-e6ed-4e79-9fce-3455cc9a304d",
   "metadata": {
    "pycharm": {
     "is_executing": true
    }
   },
   "outputs": [],
   "source": []
  },
  {
   "cell_type": "code",
   "execution_count": null,
   "id": "7390f902-9415-4d1b-ab77-c7bc4554eace",
   "metadata": {
    "pycharm": {
     "is_executing": true
    }
   },
   "outputs": [],
   "source": []
  },
  {
   "cell_type": "code",
   "execution_count": null,
   "outputs": [],
   "source": [],
   "metadata": {
    "collapsed": false,
    "pycharm": {
     "is_executing": true
    }
   }
  }
 ],
 "metadata": {
  "kernelspec": {
   "display_name": "Python 3",
   "language": "python",
   "name": "python3"
  },
  "language_info": {
   "codemirror_mode": {
    "name": "ipython",
    "version": 3
   },
   "file_extension": ".py",
   "mimetype": "text/x-python",
   "name": "python",
   "nbconvert_exporter": "python",
   "pygments_lexer": "ipython3",
   "version": "3.9.4"
  }
 },
 "nbformat": 4,
 "nbformat_minor": 5
}
