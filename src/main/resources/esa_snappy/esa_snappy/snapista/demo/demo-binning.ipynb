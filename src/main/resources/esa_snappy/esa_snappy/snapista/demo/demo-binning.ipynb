{
 "cells": [
  {
   "cell_type": "code",
   "execution_count": 1,
   "id": "c4bf59c7-78f2-4e94-a6b9-da0c8a04368d",
   "metadata": {},
   "outputs": [],
   "source": [
    "from snapista.binning import aggregators\n",
    "from snapista.binning import BinningVariable, BinningOutputBands, BinningBand, Aggregators, BinningVariables\n",
    "from snapista import Graph\n",
    "from snapista import Operator\n",
    "import lxml.etree as etree\n",
    "import os"
   ]
  },
  {
   "cell_type": "code",
   "execution_count": 2,
   "id": "201edf84-dfe7-4346-8898-884530be354d",
   "metadata": {},
   "outputs": [],
   "source": [
    "os.environ['PATH'] = '/srv/conda/envs/env_snap/snap/bin:' +  os.environ['PATH']"
   ]
  },
  {
   "cell_type": "markdown",
   "id": "9ad15f94-d193-49a3-98a0-d79bc8f8a86e",
   "metadata": {},
   "source": [
    "## Create an Aggregator"
   ]
  },
  {
   "cell_type": "code",
   "execution_count": 3,
   "id": "ba09111e-e105-4b63-a838-9ec767191a73",
   "metadata": {},
   "outputs": [],
   "source": [
    "ag = aggregators.AggregatorAvg(varName='OTCI', targetName=\"otci\", outputCounts='true', outputSums='true', weightCoeff=1.0)"
   ]
  },
  {
   "cell_type": "markdown",
   "id": "d51bac07-aae0-4ce7-b1eb-d783b692b731",
   "metadata": {},
   "source": [
    "## Create a binning operator"
   ]
  },
  {
   "cell_type": "code",
   "execution_count": 4,
   "id": "bb37992a-5f51-4399-add4-e23c3493a188",
   "metadata": {},
   "outputs": [],
   "source": [
    "binning = Operator('Binning')\n",
    "\n",
    "binning.sourceProductFormat = 'sen3'\n",
    "\n",
    "binning.aggregatorConfigs = Aggregators([ag,\n",
    "                                        aggregators.AggregatorAvgOutlier(varName='OTCI', targetName='outlier'),\n",
    "                                        aggregators.AggregatorMinMax(varName='OTCI', targetName='otci'),\n",
    "                                        aggregators.AggregatorOnMaxSet(targetName='omvn', onMaxVarName='OTCI', setVarNames='OTCI'),\n",
    "                                        aggregators.AggregatorPercentile(varName='OTCI', percentage=90, targetName='percent'),\n",
    "                                        aggregators.AggregatorSum(varName='OTCI', targetName='sum')])\n",
    "\n",
    "binning.sourceProductPaths = '/data/S3*/*.xml'\n",
    "\n",
    "binning.outputFile = '/home/vscode/binned_new.dim'"
   ]
  },
  {
   "cell_type": "code",
   "execution_count": 5,
   "id": "6fa5b71e-a3ae-4f78-a00d-e9c8795bfee3",
   "metadata": {},
   "outputs": [
    {
     "data": {
      "text/plain": [
       "Operator('Binning', sourceProductPaths='/data/S3*/*.xml', sourceProductFormat='sen3', sourceGraphPaths='None', region='None', startDateTime='None', periodDuration='None', timeFilterMethod='NONE', minDataHour='None', numRows='2160', superSampling='1', maxDistanceOnEarth='-1', maskExpr='None', variableConfigs='None', aggregatorConfigs='<snapista.binning.aggregators.Aggregators object at 0x7f1da3cb10d0>', postProcessorConfig='None', outputType='Product', outputFile='/home/vscode/binned_new.dim', outputFormat='BEAM-DIMAP', bandConfigurations='None', productCustomizerConfig='None', outputBinnedData='false', outputTargetProduct='true', metadataPropertiesFile='./metadata.properties', metadataTemplateDir='.', metadataAggregatorName='NAME', planetaryGridClass='org.esa.snap.binning.support.SEAGrid')"
      ]
     },
     "execution_count": 5,
     "metadata": {},
     "output_type": "execute_result"
    }
   ],
   "source": [
    "binning"
   ]
  },
  {
   "cell_type": "markdown",
   "id": "8ab19cbd-5175-4948-827b-269337839c3d",
   "metadata": {},
   "source": [
    "## Create the Graph"
   ]
  },
  {
   "cell_type": "code",
   "execution_count": 6,
   "id": "e5c0e2c1-6896-4db7-b90d-ad2d7da9beb6",
   "metadata": {},
   "outputs": [
    {
     "name": "stdout",
     "output_type": "stream",
     "text": [
      "aggregatorConfigs <snapista.binning.aggregators.Aggregators object at 0x7f1da3cb10d0>\n",
      "bandConfigurations None\n",
      "postProcessorConfig None\n",
      "productCustomizerConfig None\n",
      "variableConfigs None\n"
     ]
    }
   ],
   "source": [
    "g = Graph()\n",
    "\n",
    "g.add_node(operator=binning, \n",
    "           node_id='binning_1')"
   ]
  },
  {
   "cell_type": "code",
   "execution_count": 7,
   "id": "4fb07cc7-52d8-464c-83cc-c496b50df848",
   "metadata": {},
   "outputs": [],
   "source": [
    "g.add_node(operator=binning, \n",
    "           node_id='binning_1')"
   ]
  },
  {
   "cell_type": "markdown",
   "id": "89cecd6a-cab5-4ced-ac19-9b8a8b093f7b",
   "metadata": {},
   "source": [
    "```xml\n",
    "<aggregators>\n",
    "        <aggregator>\n",
    "            <type>AVG</type>\n",
    "            <varName>OTCI</varName>\n",
    "            <targetName>avg</targetName>\n",
    "            <weightCoeff>1.0</weightCoeff>\n",
    "            <outputCounts>true</outputCounts>\n",
    "            <outputSums>true</outputSums>\n",
    "        </aggregator>\n",
    "        <aggregator>\n",
    "            <type>MIN_MAX</type>\n",
    "            <varName>OTCI</varName>\n",
    "            <targetName>otci</targetName>\n",
    "        </aggregator>\n",
    "        <aggregator>\n",
    "            <type>AVG_OUTLIER</type>\n",
    "            <varName>OTCI</varName>\n",
    "            <targetName/>\n",
    "        </aggregator>\n",
    "        <aggregator>\n",
    "            <type>SUM</type>\n",
    "            <varName>OTCI</varName>\n",
    "            <targetName>aaa</targetName>\n",
    "        </aggregator>\n",
    "        <aggregator>\n",
    "            <type>PERCENTILE</type>\n",
    "            <varName>OTCI</varName>\n",
    "        </aggregator>\n",
    "        <aggregator>\n",
    "            <type>ON_MAX_SET</type>\n",
    "            <onMaxVarName>OTCI</onMaxVarName>\n",
    "            <setVarNames>OTCI</setVarNames>\n",
    "        </aggregator>\n",
    "    </aggregators>\n",
    "```"
   ]
  },
  {
   "cell_type": "code",
   "execution_count": 8,
   "id": "54468091-3227-419e-b949-f8b86fcb9eef",
   "metadata": {},
   "outputs": [
    {
     "name": "stdout",
     "output_type": "stream",
     "text": [
      "<graph>\n",
      "  <version>1.0</version>\n",
      "  <node id=\"binning_1\">\n",
      "    <operator>Binning</operator>\n",
      "    <sources/>\n",
      "    <parameters class=\"com.bc.ceres.binding.dom.XppDomElement\">\n",
      "      <aggregators>\n",
      "        <aggregator>\n",
      "          <type>AVG</type>\n",
      "          <varName>OTCI</varName>\n",
      "          <targetName>otci</targetName>\n",
      "          <weightCoeff>1.0</weightCoeff>\n",
      "          <outputCounts>true</outputCounts>\n",
      "          <outputSums>true</outputSums>\n",
      "        </aggregator>\n",
      "        <aggregator>\n",
      "          <type>AVG_OUTLIER</type>\n",
      "          <varName>OTCI</varName>\n",
      "          <targetName>outlier</targetName>\n",
      "        </aggregator>\n",
      "        <aggregator>\n",
      "          <type>MIN_MAX</type>\n",
      "          <varName>OTCI</varName>\n",
      "          <targetName>otci</targetName>\n",
      "        </aggregator>\n",
      "        <aggregator>\n",
      "          <type>ON_MAX_SET</type>\n",
      "          <targetName>omvn</targetName>\n",
      "          <onMaxVarName>OTCI</onMaxVarName>\n",
      "          <setVarNames>OTCI</setVarNames>\n",
      "        </aggregator>\n",
      "        <aggregator>\n",
      "          <type>PERCENTILE</type>\n",
      "          <varName>OTCI</varName>\n",
      "          <targetName>percent</targetName>\n",
      "          <percentage>90</percentage>\n",
      "        </aggregator>\n",
      "        <aggregator>\n",
      "          <type>SUM</type>\n",
      "          <varName>OTCI</varName>\n",
      "          <targetName>sum</targetName>\n",
      "        </aggregator>\n",
      "      </aggregators>\n",
      "      <maskExpr/>\n",
      "      <maxDistanceOnEarth>-1</maxDistanceOnEarth>\n",
      "      <metadataAggregatorName>NAME</metadataAggregatorName>\n",
      "      <metadataPropertiesFile>./metadata.properties</metadataPropertiesFile>\n",
      "      <metadataTemplateDir>.</metadataTemplateDir>\n",
      "      <minDataHour/>\n",
      "      <numRows>2160</numRows>\n",
      "      <outputBinnedData>false</outputBinnedData>\n",
      "      <outputFile>/home/vscode/binned_new.dim</outputFile>\n",
      "      <outputFormat>BEAM-DIMAP</outputFormat>\n",
      "      <outputTargetProduct>true</outputTargetProduct>\n",
      "      <outputType>Product</outputType>\n",
      "      <periodDuration/>\n",
      "      <planetaryGridClass>org.esa.snap.binning.support.SEAGrid</planetaryGridClass>\n",
      "      <region/>\n",
      "      <sourceGraphPaths/>\n",
      "      <sourceProductFormat>sen3</sourceProductFormat>\n",
      "      <sourceProductPaths>/data/S3*/*.xml</sourceProductPaths>\n",
      "      <startDateTime/>\n",
      "      <superSampling>1</superSampling>\n",
      "      <timeFilterMethod>NONE</timeFilterMethod>\n",
      "    </parameters>\n",
      "  </node>\n",
      "</graph>\n",
      "\n"
     ]
    }
   ],
   "source": [
    "g.view()"
   ]
  },
  {
   "cell_type": "code",
   "execution_count": 9,
   "id": "5a56860a-fcc2-408c-93fd-f667b64680a7",
   "metadata": {},
   "outputs": [
    {
     "name": "stdout",
     "output_type": "stream",
     "text": [
      "Processing the graph\n",
      "Executing processing graph\n",
      "INFO: org.esa.snap.core.gpf.operators.tooladapter.ToolAdapterIO: Initializing external tool adapters\n",
      "45%90% done.\n",
      "INFO: org.esa.s2tbx.dataio.gdal.GDALVersion: GDAL not found on system. Internal GDAL 3.0.0 from distribution will be used. (f1)\n",
      "INFO: org.esa.s2tbx.dataio.gdal.GDALVersion: Internal GDAL 3.0.0 set to be used by SNAP.\n",
      "INFO: org.esa.snap.core.util.EngineVersionCheckActivator: Please check regularly for new updates for the best SNAP experience.\n",
      "INFO: org.esa.s2tbx.dataio.gdal.GDALVersion: Internal GDAL 3.0.0 set to be used by SNAP.\n"
     ]
    },
    {
     "data": {
      "text/plain": [
       "0"
      ]
     },
     "execution_count": 9,
     "metadata": {},
     "output_type": "execute_result"
    }
   ],
   "source": [
    "g.save_graph(filename='s3.xml')\n",
    "\n",
    "g.run()"
   ]
  },
  {
   "cell_type": "code",
   "execution_count": null,
   "id": "72c1f5b1-e6ed-4e79-9fce-3455cc9a304d",
   "metadata": {},
   "outputs": [],
   "source": []
  },
  {
   "cell_type": "code",
   "execution_count": null,
   "id": "7390f902-9415-4d1b-ab77-c7bc4554eace",
   "metadata": {},
   "outputs": [],
   "source": []
  }
 ],
 "metadata": {
  "kernelspec": {
   "display_name": "Python 3",
   "language": "python",
   "name": "python3"
  },
  "language_info": {
   "codemirror_mode": {
    "name": "ipython",
    "version": 3
   },
   "file_extension": ".py",
   "mimetype": "text/x-python",
   "name": "python",
   "nbconvert_exporter": "python",
   "pygments_lexer": "ipython3",
   "version": "3.9.4"
  }
 },
 "nbformat": 4,
 "nbformat_minor": 5
}
